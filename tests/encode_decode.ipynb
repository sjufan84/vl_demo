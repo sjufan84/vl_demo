{
 "cells": [
  {
   "cell_type": "code",
   "execution_count": 12,
   "metadata": {},
   "outputs": [
    {
     "ename": "KeyError",
     "evalue": "'lc_aint_far_from_it.mp3'",
     "output_type": "error",
     "traceback": [
      "\u001b[1;31m---------------------------------------------------------------------------\u001b[0m",
      "\u001b[1;31mKeyError\u001b[0m                                  Traceback (most recent call last)",
      "Cell \u001b[1;32mIn[12], line 42\u001b[0m\n\u001b[0;32m     39\u001b[0m         pickle\u001b[39m.\u001b[39mdump(artist_encoded_songs, f)\n\u001b[0;32m     41\u001b[0m \u001b[39m# Encode the artist's songs\u001b[39;00m\n\u001b[1;32m---> 42\u001b[0m encode_file_batch()\n",
      "Cell \u001b[1;32mIn[12], line 31\u001b[0m, in \u001b[0;36mencode_file_batch\u001b[1;34m()\u001b[0m\n\u001b[0;32m     29\u001b[0m \u001b[39mfor\u001b[39;00m song_file \u001b[39min\u001b[39;00m os\u001b[39m.\u001b[39mlistdir(\u001b[39m\"\u001b[39m\u001b[39m./audio_files/artist_main\u001b[39m\u001b[39m\"\u001b[39m):\n\u001b[0;32m     30\u001b[0m     song_codes \u001b[39m=\u001b[39m load_and_encode_audio(\u001b[39mf\u001b[39m\u001b[39m\"\u001b[39m\u001b[39m./audio_files/artist_main/\u001b[39m\u001b[39m{\u001b[39;00msong_file\u001b[39m}\u001b[39;00m\u001b[39m\"\u001b[39m, model)\n\u001b[1;32m---> 31\u001b[0m     artist_encoded_songs[song_file][\u001b[39m\"\u001b[39m\u001b[39mcodes\u001b[39m\u001b[39m\"\u001b[39m] \u001b[39m=\u001b[39m song_codes\n\u001b[0;32m     32\u001b[0m     artist_encoded_songs[song_file][\u001b[39m\"\u001b[39m\u001b[39martist\u001b[39m\u001b[39m\"\u001b[39m] \u001b[39m=\u001b[39m \u001b[39m\"\u001b[39m\u001b[39mLuke Combs\u001b[39m\u001b[39m\"\u001b[39m  \u001b[39m# Change as needed\u001b[39;00m\n\u001b[0;32m     33\u001b[0m     \u001b[39m# Isolate the song name\u001b[39;00m\n",
      "\u001b[1;31mKeyError\u001b[0m: 'lc_aint_far_from_it.mp3'"
     ]
    }
   ],
   "source": [
    "import streamlit as st\n",
    "from encodec import EncodecModel\n",
    "from encodec.utils import convert_audio\n",
    "import torchaudio\n",
    "import torch\n",
    "from scipy.spatial.distance import cosine\n",
    "import os\n",
    "import pickle  # For storing pre-encoded songs\n",
    "\n",
    "# Function to load and encode audio\n",
    "def load_and_encode_audio(audio_file_path, model):\n",
    "    wav, sr = torchaudio.load(audio_file_path)\n",
    "    wav = convert_audio(wav, sr, model.sample_rate, model.channels)\n",
    "    wav = wav.unsqueeze(0)\n",
    "    with torch.no_grad():\n",
    "        encoded_frames = model.encode(wav)\n",
    "    codes = torch.cat([encoded[0] for encoded in encoded_frames], dim=-1)\n",
    "    return codes\n",
    "\n",
    "# Instantiate a pretrained EnCodec model\n",
    "model = EncodecModel.encodec_model_24khz()\n",
    "model.set_target_bandwidth(6.0)\n",
    "\n",
    "def encode_file_batch():\n",
    "    # Placeholder for storing encoded songs\n",
    "    artist_encoded_songs = {}\n",
    "\n",
    "    # Loop through the artist's songs\n",
    "    for song_file in os.listdir(\"./audio_files/artist_main\"):\n",
    "        song_codes = load_and_encode_audio(f\"./audio_files/artist_main/{song_file}\", model)\n",
    "        artist_encoded_songs[song_file][\"codes\"] = song_codes\n",
    "        artist_encoded_songs[song_file][\"artist\"] = \"Luke Combs\"  # Change as needed\n",
    "        # Isolate the song name\n",
    "        song_name = song_file.split(\".\")[0]\n",
    "        artist_encoded_songs[song_file][\"song_name\"] = song_name\n",
    "\n",
    "    # Save the dictionary to a pickle file\n",
    "    with open(\"encoded_artist_songs.pkl\", \"wb\") as f:\n",
    "        pickle.dump(artist_encoded_songs, f)\n",
    "\n",
    "# Encode the artist's songs\n",
    "encode_file_batch()\n"
   ]
  },
  {
   "cell_type": "code",
   "execution_count": 11,
   "metadata": {},
   "outputs": [
    {
     "data": {
      "text/plain": [
       "torch.Size([1, 8, 16165])"
      ]
     },
     "execution_count": 11,
     "metadata": {},
     "output_type": "execute_result"
    }
   ],
   "source": [
    "codes.shape"
   ]
  },
  {
   "cell_type": "code",
   "execution_count": null,
   "metadata": {},
   "outputs": [],
   "source": []
  }
 ],
 "metadata": {
  "kernelspec": {
   "display_name": "py310",
   "language": "python",
   "name": "python3"
  },
  "language_info": {
   "codemirror_mode": {
    "name": "ipython",
    "version": 3
   },
   "file_extension": ".py",
   "mimetype": "text/x-python",
   "name": "python",
   "nbconvert_exporter": "python",
   "pygments_lexer": "ipython3",
   "version": "3.10.12"
  },
  "orig_nbformat": 4
 },
 "nbformat": 4,
 "nbformat_minor": 2
}
