{
 "cells": [
  {
   "cell_type": "code",
   "execution_count": 1,
   "metadata": {},
   "outputs": [],
   "source": [
    "\"\"\" Testing a new API to get song lyrics from Genius.com \"\"\"\n",
    "from dotenv import load_dotenv\n",
    "import os\n",
    "import lyricsgenius\n",
    "import chromadb\n",
    "\n",
    "load_dotenv()\n",
    "\n",
    "# Get Genius.com API key from .env file\n",
    "GENIUS_API_KEY = os.getenv(\"GENIUS_TOKEN\")"
   ]
  },
  {
   "cell_type": "code",
   "execution_count": 8,
   "metadata": {},
   "outputs": [],
   "source": [
    "genius = lyricsgenius.Genius(GENIUS_API_KEY) # Initialize the Genius class"
   ]
  },
  {
   "cell_type": "code",
   "execution_count": 9,
   "metadata": {},
   "outputs": [
    {
     "name": "stdout",
     "output_type": "stream",
     "text": [
      "Searching for songs by Luke Combs...\n",
      "\n",
      "Song 1: \"5 Leaf Clover\"\n",
      "Song 2: \"Ain’t Far From It\"\n",
      "Song 3: \"All Over Again\"\n",
      "Song 4: \"A Long Way\"\n",
      "Song 5: \"Angels Workin’ Overtime\"\n",
      "Song 6: \"Any Given Friday Night\"\n",
      "Song 7: \"A Song Was Born\"\n",
      "Song 8: \"Back 40 Back\"\n",
      "Song 9: \"Beautiful Crazy\"\n",
      "Song 10: \"Beautiful Crazy (Acoustic)\"\n",
      "Song 11: \"Beautiful Crazy (Live)\"\n",
      "Song 12: \"Be Careful What You Wish For\"\n",
      "Song 13: \"Beer Can\"\n",
      "Song 14: \"Beer Never Broke My Heart\"\n",
      "Song 15: \"Better Back When\"\n",
      "Song 16: \"Better Together\"\n",
      "Song 17: \"Blue Collar Boys\"\n",
      "Song 18: \"Call Me\"\n",
      "Song 19: \"Can I Get an Outlaw?\"\n",
      "Song 20: \"Cold As You\"\n",
      "Song 21: \"Crazy beautiful\"\n",
      "Song 22: \"Days Like These\"\n",
      "Song 23: \"Dear Today\"\n",
      "Song 24: \"Dive\"\n",
      "Song 25: \"Dive (Recorded At Sound Stage Nashville)\"\n",
      "Song 26: \"Does To Me\"\n",
      "Song 27: \"Doin’ This\"\n",
      "Song 28: \"Don’t Tempt Me\"\n",
      "Song 29: \"Even Though I’m Leaving\"\n",
      "Song 30: \"Ever Mine\"\n",
      "Song 31: \"Every Little Bit Helps\"\n",
      "Song 32: \"Everything We Need\"\n",
      "Song 33: \"Fast Car\"\n",
      "\"Fast Car / Are You With Me / Steal the Moon [TWINSICK Edit] [Mixed]\" is not valid. Skipping.\n",
      "Song 34: \"Forever After All\"\n",
      "Song 35: \"Fox in the Henhouse\"\n",
      "Song 36: \"Going, Going, Gone\"\n",
      "Song 37: \"Going, Going, Gone (Acoustic)\"\n",
      "Song 38: \"Good Old Days\"\n",
      "Song 39: \"Greystone Chapel\"\n",
      "Song 40: \"Growin’ Up and Gettin’ Old\"\n",
      "Song 41: \"Hannah Ford Road\"\n",
      "Song 42: \"Honky Tonk Highway\"\n",
      "Song 43: \"Houston, We Got a Problem\"\n",
      "Song 44: \"Hurricane\"\n",
      "Song 45: \"I Got Away with You\"\n",
      "Song 46: \"I Know She Ain’t Ready\"\n",
      "Song 47: \"Joe\"\n",
      "Song 48: \"Let’s Just Be Friends\"\n",
      "Song 49: \"Let the Moonshine\"\n",
      "Song 50: \"Lonely One\"\n",
      "\n",
      "Reached user-specified song limit (50).\n",
      "Done. Found 50 songs.\n",
      "[Song(id, artist, ...), Song(id, artist, ...), Song(id, artist, ...), Song(id, artist, ...), Song(id, artist, ...), Song(id, artist, ...), Song(id, artist, ...), Song(id, artist, ...), Song(id, artist, ...), Song(id, artist, ...), Song(id, artist, ...), Song(id, artist, ...), Song(id, artist, ...), Song(id, artist, ...), Song(id, artist, ...), Song(id, artist, ...), Song(id, artist, ...), Song(id, artist, ...), Song(id, artist, ...), Song(id, artist, ...), Song(id, artist, ...), Song(id, artist, ...), Song(id, artist, ...), Song(id, artist, ...), Song(id, artist, ...), Song(id, artist, ...), Song(id, artist, ...), Song(id, artist, ...), Song(id, artist, ...), Song(id, artist, ...), Song(id, artist, ...), Song(id, artist, ...), Song(id, artist, ...), Song(id, artist, ...), Song(id, artist, ...), Song(id, artist, ...), Song(id, artist, ...), Song(id, artist, ...), Song(id, artist, ...), Song(id, artist, ...), Song(id, artist, ...), Song(id, artist, ...), Song(id, artist, ...), Song(id, artist, ...), Song(id, artist, ...), Song(id, artist, ...), Song(id, artist, ...), Song(id, artist, ...), Song(id, artist, ...), Song(id, artist, ...)]\n"
     ]
    }
   ],
   "source": [
    "artist = genius.search_artist(\"Luke Combs\", max_songs=50, sort=\"title\") # Search for artist\n",
    "print(artist.songs) # Print songs"
   ]
  },
  {
   "cell_type": "code",
   "execution_count": 11,
   "metadata": {},
   "outputs": [
    {
     "name": "stdout",
     "output_type": "stream",
     "text": [
      "Wrote Lyrics_LukeCombs.json.\n"
     ]
    }
   ],
   "source": [
    "# Create a json file with the lyrics\n",
    "combs_lyrics = artist.save_lyrics()"
   ]
  },
  {
   "cell_type": "code",
   "execution_count": 2,
   "metadata": {},
   "outputs": [],
   "source": [
    "# Now that we’ve formatted the URL, we can make a request to the database.\n",
    "import json\n",
    "# Read in the json file\n",
    "with open('Lyrics_LukeCombs.json') as json_file:\n",
    "    json_obj = json.load(json_file)"
   ]
  },
  {
   "cell_type": "code",
   "execution_count": 3,
   "metadata": {},
   "outputs": [
    {
     "data": {
      "text/html": [
       "<div>\n",
       "<style scoped>\n",
       "    .dataframe tbody tr th:only-of-type {\n",
       "        vertical-align: middle;\n",
       "    }\n",
       "\n",
       "    .dataframe tbody tr th {\n",
       "        vertical-align: top;\n",
       "    }\n",
       "\n",
       "    .dataframe thead th {\n",
       "        text-align: right;\n",
       "    }\n",
       "</style>\n",
       "<table border=\"1\" class=\"dataframe\">\n",
       "  <thead>\n",
       "    <tr style=\"text-align: right;\">\n",
       "      <th></th>\n",
       "      <th>annotation_count</th>\n",
       "      <th>api_path</th>\n",
       "      <th>artist_names</th>\n",
       "      <th>full_title</th>\n",
       "      <th>header_image_thumbnail_url</th>\n",
       "      <th>header_image_url</th>\n",
       "      <th>id</th>\n",
       "      <th>lyrics_owner_id</th>\n",
       "      <th>lyrics_state</th>\n",
       "      <th>path</th>\n",
       "      <th>...</th>\n",
       "      <th>media</th>\n",
       "      <th>producer_artists</th>\n",
       "      <th>song_relationships</th>\n",
       "      <th>translation_songs</th>\n",
       "      <th>verified_annotations_by</th>\n",
       "      <th>verified_contributors</th>\n",
       "      <th>verified_lyrics_by</th>\n",
       "      <th>writer_artists</th>\n",
       "      <th>artist</th>\n",
       "      <th>lyrics</th>\n",
       "    </tr>\n",
       "  </thead>\n",
       "  <tbody>\n",
       "    <tr>\n",
       "      <th>0</th>\n",
       "      <td>5</td>\n",
       "      <td>/songs/7238425</td>\n",
       "      <td>Luke Combs</td>\n",
       "      <td>5 Leaf Clover by Luke Combs</td>\n",
       "      <td>https://images.genius.com/291f8a020721a6853f8b...</td>\n",
       "      <td>https://images.genius.com/291f8a020721a6853f8b...</td>\n",
       "      <td>7238425</td>\n",
       "      <td>1496916</td>\n",
       "      <td>complete</td>\n",
       "      <td>/Luke-combs-5-leaf-clover-lyrics</td>\n",
       "      <td>...</td>\n",
       "      <td>[{'provider': 'youtube', 'start': 0, 'type': '...</td>\n",
       "      <td>[]</td>\n",
       "      <td>[{'relationship_type': 'samples', 'type': 'sam...</td>\n",
       "      <td>[]</td>\n",
       "      <td>[]</td>\n",
       "      <td>[]</td>\n",
       "      <td>[]</td>\n",
       "      <td>[]</td>\n",
       "      <td>Luke Combs</td>\n",
       "      <td>8 Contributors5 Leaf Clover Lyrics[Verse 1]\\nW...</td>\n",
       "    </tr>\n",
       "    <tr>\n",
       "      <th>1</th>\n",
       "      <td>0</td>\n",
       "      <td>/songs/8016775</td>\n",
       "      <td>Luke Combs</td>\n",
       "      <td>Ain’t Far From It by Luke Combs</td>\n",
       "      <td>https://images.genius.com/2681291915e2cc8b963c...</td>\n",
       "      <td>https://images.genius.com/2681291915e2cc8b963c...</td>\n",
       "      <td>8016775</td>\n",
       "      <td>3499648</td>\n",
       "      <td>complete</td>\n",
       "      <td>/Luke-combs-aint-far-from-it-lyrics</td>\n",
       "      <td>...</td>\n",
       "      <td>[{'provider': 'youtube', 'start': 0, 'type': '...</td>\n",
       "      <td>[{'api_path': '/artists/1065448', 'header_imag...</td>\n",
       "      <td>[{'relationship_type': 'samples', 'type': 'sam...</td>\n",
       "      <td>[]</td>\n",
       "      <td>[]</td>\n",
       "      <td>[]</td>\n",
       "      <td>[]</td>\n",
       "      <td>[{'api_path': '/artists/1225092', 'header_imag...</td>\n",
       "      <td>Luke Combs</td>\n",
       "      <td>2 ContributorsAin’t Far From It Lyrics[Verse 1...</td>\n",
       "    </tr>\n",
       "    <tr>\n",
       "      <th>2</th>\n",
       "      <td>0</td>\n",
       "      <td>/songs/4920161</td>\n",
       "      <td>Luke Combs</td>\n",
       "      <td>All Over Again by Luke Combs</td>\n",
       "      <td>https://images.genius.com/9e7bee6dd2c61922dfa1...</td>\n",
       "      <td>https://images.genius.com/9e7bee6dd2c61922dfa1...</td>\n",
       "      <td>4920161</td>\n",
       "      <td>3499648</td>\n",
       "      <td>complete</td>\n",
       "      <td>/Luke-combs-all-over-again-lyrics</td>\n",
       "      <td>...</td>\n",
       "      <td>[{'attribution': 'lukecombs', 'provider': 'sou...</td>\n",
       "      <td>[{'api_path': '/artists/1225094', 'header_imag...</td>\n",
       "      <td>[{'relationship_type': 'samples', 'type': 'sam...</td>\n",
       "      <td>[]</td>\n",
       "      <td>[]</td>\n",
       "      <td>[]</td>\n",
       "      <td>[]</td>\n",
       "      <td>[{'api_path': '/artists/1225092', 'header_imag...</td>\n",
       "      <td>Luke Combs</td>\n",
       "      <td>9 ContributorsAll Over Again Lyrics[Verse 1]\\n...</td>\n",
       "    </tr>\n",
       "    <tr>\n",
       "      <th>3</th>\n",
       "      <td>0</td>\n",
       "      <td>/songs/3698223</td>\n",
       "      <td>Luke Combs</td>\n",
       "      <td>A Long Way by Luke Combs</td>\n",
       "      <td>https://images.genius.com/6b7d950f76100acff719...</td>\n",
       "      <td>https://images.genius.com/6b7d950f76100acff719...</td>\n",
       "      <td>3698223</td>\n",
       "      <td>1548623</td>\n",
       "      <td>complete</td>\n",
       "      <td>/Luke-combs-a-long-way-lyrics</td>\n",
       "      <td>...</td>\n",
       "      <td>[{'provider': 'youtube', 'start': 0, 'type': '...</td>\n",
       "      <td>[{'api_path': '/artists/1225094', 'header_imag...</td>\n",
       "      <td>[{'relationship_type': 'samples', 'type': 'sam...</td>\n",
       "      <td>[]</td>\n",
       "      <td>[]</td>\n",
       "      <td>[]</td>\n",
       "      <td>[]</td>\n",
       "      <td>[{'api_path': '/artists/1489655', 'header_imag...</td>\n",
       "      <td>Luke Combs</td>\n",
       "      <td>10 ContributorsA Long Way Lyrics[Verse 1]\\nSix...</td>\n",
       "    </tr>\n",
       "    <tr>\n",
       "      <th>4</th>\n",
       "      <td>0</td>\n",
       "      <td>/songs/4920160</td>\n",
       "      <td>Luke Combs</td>\n",
       "      <td>Angels Workin' Overtime by Luke Combs</td>\n",
       "      <td>https://images.genius.com/9e7bee6dd2c61922dfa1...</td>\n",
       "      <td>https://images.genius.com/9e7bee6dd2c61922dfa1...</td>\n",
       "      <td>4920160</td>\n",
       "      <td>3499648</td>\n",
       "      <td>complete</td>\n",
       "      <td>/Luke-combs-angels-workin-overtime-lyrics</td>\n",
       "      <td>...</td>\n",
       "      <td>[{'attribution': 'lukecombs', 'provider': 'sou...</td>\n",
       "      <td>[{'api_path': '/artists/1225094', 'header_imag...</td>\n",
       "      <td>[{'relationship_type': 'samples', 'type': 'sam...</td>\n",
       "      <td>[]</td>\n",
       "      <td>[]</td>\n",
       "      <td>[]</td>\n",
       "      <td>[]</td>\n",
       "      <td>[{'api_path': '/artists/330498', 'header_image...</td>\n",
       "      <td>Luke Combs</td>\n",
       "      <td>9 ContributorsAngels Workin’ Overtime Lyrics[V...</td>\n",
       "    </tr>\n",
       "  </tbody>\n",
       "</table>\n",
       "<p>5 rows × 48 columns</p>\n",
       "</div>"
      ],
      "text/plain": [
       "   annotation_count        api_path artist_names  \\\n",
       "0                 5  /songs/7238425   Luke Combs   \n",
       "1                 0  /songs/8016775   Luke Combs   \n",
       "2                 0  /songs/4920161   Luke Combs   \n",
       "3                 0  /songs/3698223   Luke Combs   \n",
       "4                 0  /songs/4920160   Luke Combs   \n",
       "\n",
       "                              full_title  \\\n",
       "0            5 Leaf Clover by Luke Combs   \n",
       "1        Ain’t Far From It by Luke Combs   \n",
       "2           All Over Again by Luke Combs   \n",
       "3               A Long Way by Luke Combs   \n",
       "4  Angels Workin' Overtime by Luke Combs   \n",
       "\n",
       "                          header_image_thumbnail_url  \\\n",
       "0  https://images.genius.com/291f8a020721a6853f8b...   \n",
       "1  https://images.genius.com/2681291915e2cc8b963c...   \n",
       "2  https://images.genius.com/9e7bee6dd2c61922dfa1...   \n",
       "3  https://images.genius.com/6b7d950f76100acff719...   \n",
       "4  https://images.genius.com/9e7bee6dd2c61922dfa1...   \n",
       "\n",
       "                                    header_image_url       id  \\\n",
       "0  https://images.genius.com/291f8a020721a6853f8b...  7238425   \n",
       "1  https://images.genius.com/2681291915e2cc8b963c...  8016775   \n",
       "2  https://images.genius.com/9e7bee6dd2c61922dfa1...  4920161   \n",
       "3  https://images.genius.com/6b7d950f76100acff719...  3698223   \n",
       "4  https://images.genius.com/9e7bee6dd2c61922dfa1...  4920160   \n",
       "\n",
       "   lyrics_owner_id lyrics_state                                       path  \\\n",
       "0          1496916     complete           /Luke-combs-5-leaf-clover-lyrics   \n",
       "1          3499648     complete        /Luke-combs-aint-far-from-it-lyrics   \n",
       "2          3499648     complete          /Luke-combs-all-over-again-lyrics   \n",
       "3          1548623     complete              /Luke-combs-a-long-way-lyrics   \n",
       "4          3499648     complete  /Luke-combs-angels-workin-overtime-lyrics   \n",
       "\n",
       "   ...                                              media  \\\n",
       "0  ...  [{'provider': 'youtube', 'start': 0, 'type': '...   \n",
       "1  ...  [{'provider': 'youtube', 'start': 0, 'type': '...   \n",
       "2  ...  [{'attribution': 'lukecombs', 'provider': 'sou...   \n",
       "3  ...  [{'provider': 'youtube', 'start': 0, 'type': '...   \n",
       "4  ...  [{'attribution': 'lukecombs', 'provider': 'sou...   \n",
       "\n",
       "                                    producer_artists  \\\n",
       "0                                                 []   \n",
       "1  [{'api_path': '/artists/1065448', 'header_imag...   \n",
       "2  [{'api_path': '/artists/1225094', 'header_imag...   \n",
       "3  [{'api_path': '/artists/1225094', 'header_imag...   \n",
       "4  [{'api_path': '/artists/1225094', 'header_imag...   \n",
       "\n",
       "                                  song_relationships translation_songs  \\\n",
       "0  [{'relationship_type': 'samples', 'type': 'sam...                []   \n",
       "1  [{'relationship_type': 'samples', 'type': 'sam...                []   \n",
       "2  [{'relationship_type': 'samples', 'type': 'sam...                []   \n",
       "3  [{'relationship_type': 'samples', 'type': 'sam...                []   \n",
       "4  [{'relationship_type': 'samples', 'type': 'sam...                []   \n",
       "\n",
       "  verified_annotations_by verified_contributors verified_lyrics_by  \\\n",
       "0                      []                    []                 []   \n",
       "1                      []                    []                 []   \n",
       "2                      []                    []                 []   \n",
       "3                      []                    []                 []   \n",
       "4                      []                    []                 []   \n",
       "\n",
       "                                      writer_artists      artist  \\\n",
       "0                                                 []  Luke Combs   \n",
       "1  [{'api_path': '/artists/1225092', 'header_imag...  Luke Combs   \n",
       "2  [{'api_path': '/artists/1225092', 'header_imag...  Luke Combs   \n",
       "3  [{'api_path': '/artists/1489655', 'header_imag...  Luke Combs   \n",
       "4  [{'api_path': '/artists/330498', 'header_image...  Luke Combs   \n",
       "\n",
       "                                              lyrics  \n",
       "0  8 Contributors5 Leaf Clover Lyrics[Verse 1]\\nW...  \n",
       "1  2 ContributorsAin’t Far From It Lyrics[Verse 1...  \n",
       "2  9 ContributorsAll Over Again Lyrics[Verse 1]\\n...  \n",
       "3  10 ContributorsA Long Way Lyrics[Verse 1]\\nSix...  \n",
       "4  9 ContributorsAngels Workin’ Overtime Lyrics[V...  \n",
       "\n",
       "[5 rows x 48 columns]"
      ]
     },
     "execution_count": 3,
     "metadata": {},
     "output_type": "execute_result"
    }
   ],
   "source": [
    "import pandas as pd\n",
    "\n",
    "# Create a dataframe from the json file\n",
    "df = pd.DataFrame(json_obj['songs'])\n",
    "df.head()"
   ]
  },
  {
   "cell_type": "code",
   "execution_count": 4,
   "metadata": {},
   "outputs": [],
   "source": [
    "# Create a dictionary of song titles and lyrics\n",
    "song_dict = {}\n",
    "for i in range(len(df)):\n",
    "    song_dict[df['title'][i]] = df['lyrics'][i]\n",
    "    # Slice the string to get rid of the characters before the first '['\n",
    "    song_dict[df['title'][i]] = song_dict[df['title'][i]][song_dict[df['title'][i]].find('['):]"
   ]
  },
  {
   "cell_type": "code",
   "execution_count": 5,
   "metadata": {},
   "outputs": [
    {
     "data": {
      "text/html": [
       "<div>\n",
       "<style scoped>\n",
       "    .dataframe tbody tr th:only-of-type {\n",
       "        vertical-align: middle;\n",
       "    }\n",
       "\n",
       "    .dataframe tbody tr th {\n",
       "        vertical-align: top;\n",
       "    }\n",
       "\n",
       "    .dataframe thead th {\n",
       "        text-align: right;\n",
       "    }\n",
       "</style>\n",
       "<table border=\"1\" class=\"dataframe\">\n",
       "  <thead>\n",
       "    <tr style=\"text-align: right;\">\n",
       "      <th></th>\n",
       "      <th>Lyrics</th>\n",
       "    </tr>\n",
       "    <tr>\n",
       "      <th>Song Title</th>\n",
       "      <th></th>\n",
       "    </tr>\n",
       "  </thead>\n",
       "  <tbody>\n",
       "    <tr>\n",
       "      <th>5 Leaf Clover</th>\n",
       "      <td>[Verse 1]\\nWell, I go to work every Monday\\nGe...</td>\n",
       "    </tr>\n",
       "    <tr>\n",
       "      <th>Ain’t Far From It</th>\n",
       "      <td>[Verse 1]\\nGive me a stone cold George Jones, ...</td>\n",
       "    </tr>\n",
       "    <tr>\n",
       "      <th>All Over Again</th>\n",
       "      <td>[Verse 1]\\nFeels so familiar\\nYou walking in h...</td>\n",
       "    </tr>\n",
       "    <tr>\n",
       "      <th>A Long Way</th>\n",
       "      <td>[Verse 1]\\nSix beers and five guys and if I re...</td>\n",
       "    </tr>\n",
       "    <tr>\n",
       "      <th>Angels Workin’ Overtime</th>\n",
       "      <td>[Verse 1]\\nI'm a 50 hour paycheck\\nAin't slept...</td>\n",
       "    </tr>\n",
       "  </tbody>\n",
       "</table>\n",
       "</div>"
      ],
      "text/plain": [
       "                                                                    Lyrics\n",
       "Song Title                                                                \n",
       "5 Leaf Clover            [Verse 1]\\nWell, I go to work every Monday\\nGe...\n",
       "Ain’t Far From It        [Verse 1]\\nGive me a stone cold George Jones, ...\n",
       "All Over Again           [Verse 1]\\nFeels so familiar\\nYou walking in h...\n",
       "A Long Way               [Verse 1]\\nSix beers and five guys and if I re...\n",
       "Angels Workin’ Overtime  [Verse 1]\\nI'm a 50 hour paycheck\\nAin't slept..."
      ]
     },
     "execution_count": 5,
     "metadata": {},
     "output_type": "execute_result"
    }
   ],
   "source": [
    "# Create a pandas dataframe from the dictionary\n",
    "lyrics_df = pd.DataFrame.from_dict(song_dict, orient='index')\n",
    "\n",
    "# Make the index \"Song Title\" with the column name \"Lyrics\"\n",
    "lyrics_df.index.name = 'Song Title'\n",
    "lyrics_df.columns = ['Lyrics']\n",
    "\n",
    "# Print the dataframe\n",
    "lyrics_df.head()"
   ]
  },
  {
   "cell_type": "code",
   "execution_count": 6,
   "metadata": {},
   "outputs": [],
   "source": [
    "# Export the dataframe to a csv file\n",
    "lyrics_df.to_csv('combs_lyrics.csv')"
   ]
  },
  {
   "cell_type": "code",
   "execution_count": 4,
   "metadata": {},
   "outputs": [],
   "source": [
    "import pandas as pd\n",
    "lyrics_df = pd.read_csv('../lyrics/combs_lyrics.csv')"
   ]
  },
  {
   "cell_type": "code",
   "execution_count": 3,
   "metadata": {},
   "outputs": [],
   "source": [
    "from langchain.document_loaders.csv_loader import CSVLoader\n",
    "loader = CSVLoader(file_path = 'combs_lyrics.csv', source_column=\"Song Title\")"
   ]
  },
  {
   "cell_type": "code",
   "execution_count": 4,
   "metadata": {},
   "outputs": [],
   "source": [
    "data = loader.load()"
   ]
  },
  {
   "cell_type": "code",
   "execution_count": 5,
   "metadata": {},
   "outputs": [],
   "source": [
    "from langchain.embeddings import OpenAIEmbeddings\n",
    "from langchain.vectorstores import Chroma\n",
    "import openai\n",
    "\n",
    "# Read in the openai api key from the .env file\n",
    "openai.api_key = os.getenv(\"OPENAI_API_KEY\")\n",
    "# Read in the openai organization id from the .env file\n",
    "openai.organization = os.getenv(\"OPENAI_ORG\")"
   ]
  },
  {
   "cell_type": "code",
   "execution_count": 6,
   "metadata": {},
   "outputs": [
    {
     "name": "stderr",
     "output_type": "stream",
     "text": [
      "Unable to connect optimized C data functions [No module named 'clickhouse_connect.driverc.buffer'], falling back to pure Python\n"
     ]
    }
   ],
   "source": [
    "vectorstore = Chroma.from_documents(data, OpenAIEmbeddings())"
   ]
  },
  {
   "cell_type": "code",
   "execution_count": 7,
   "metadata": {},
   "outputs": [
    {
     "name": "stderr",
     "output_type": "stream",
     "text": [
      "INFO:langchain.retrievers.multi_query:Generated queries: ['1. Can you recommend a song from your collection that explores the theme of love?', \"2. I'm interested in finding a song that delves into the topic of love. Any suggestions?\", '3. Could you point me to a song in your repertoire that focuses on the subject of love?']\n"
     ]
    },
    {
     "data": {
      "text/plain": [
       "7"
      ]
     },
     "execution_count": 7,
     "metadata": {},
     "output_type": "execute_result"
    }
   ],
   "source": [
    "import logging\n",
    "\n",
    "from langchain.chat_models import ChatOpenAI\n",
    "from langchain.retrievers.multi_query import MultiQueryRetriever\n",
    "\n",
    "logging.basicConfig()\n",
    "logging.getLogger('langchain.retrievers.multi_query').setLevel(logging.INFO)\n",
    "\n",
    "question = \"Which one of your songs is about love?\"\n",
    "\n",
    "retriever_from_llm = MultiQueryRetriever.from_llm(retriever=vectorstore.as_retriever(),\n",
    "                                                  llm=ChatOpenAI(temperature=0))\n",
    "unique_docs = retriever_from_llm.get_relevant_documents(query=question)\n",
    "len(unique_docs)\n"
   ]
  },
  {
   "cell_type": "code",
   "execution_count": 10,
   "metadata": {},
   "outputs": [
    {
     "name": "stdout",
     "output_type": "stream",
     "text": [
      "Song Title: Ever Mine\n",
      "Lyrics: [Verse 1]\n",
      "My dearest darlin'\n",
      "I miss you more than words can tell\n",
      "I hope the gardens growin tall\n",
      "You're in good spirits and good health\n",
      "We've traveled far now with a long way to go still\n",
      "I know not yet when I'll return or if I ever will\n",
      "\n",
      "[Verse 2]\n",
      "Each day grows colder\n",
      "Filled with powder, smoke, and steel\n",
      "I worry before it's over, I've forgotten how to feel\n",
      "I keep your picture in the pocket of my coat\n",
      "I sometimes find when I'm alone it's my last bit of hope\n",
      "\n",
      "[Chorus]\n",
      "Amidst the grips of these troubled times\n",
      "Way back to you I always find\n",
      "You're the wind that whispеrs through the pines\n",
      "Bloom in the rows, green on thеm vines\n",
      "Until we meet again my love sincerely signed\n",
      "I'm ever yours, you're ever mine\n",
      "\n",
      "[Verse 3]\n",
      "Some of these boys aren't much older than our own\n",
      "They fight like men and then get cut down before they're grown\n",
      "This is my prayer that our daughter and our sons wrap their arms around each other and never around a gun\n",
      "See Luke Combs LiveGet tickets as low as $78You might also like[Chorus]\n",
      "Amidst the grips of these troubled times\n",
      "Way back to you I always find\n",
      "You're the wind that whispers through the pines\n",
      "Bloom in the rows green on them vines\n",
      "Until we meet again my love sincerely signed\n",
      "I'm ever yours, you're ever mine\n",
      "\n",
      "[Chorus]\n",
      "If you should hear it's come my time\n",
      "Way back to you I always find\n",
      "I'll be the wind that whisper through the pines\n",
      "Pitch in the black, star in the shine\n",
      "Meet again on the other side\n",
      "I'm ever yours, you're ever mineEmbed\n"
     ]
    }
   ],
   "source": [
    "print(unique_docs[0].page_content)"
   ]
  },
  {
   "cell_type": "code",
   "execution_count": 19,
   "metadata": {},
   "outputs": [],
   "source": [
    "from langchain.prompts import PromptTemplate\n",
    "\n"
   ]
  },
  {
   "cell_type": "code",
   "execution_count": 8,
   "metadata": {},
   "outputs": [
    {
     "ename": "ValidationError",
     "evalue": "1 validation error for PromptTemplate\n__root__\n  Invalid prompt schema; check for mismatched or missing input parameters. 'context' (type=value_error)",
     "output_type": "error",
     "traceback": [
      "\u001b[1;31m---------------------------------------------------------------------------\u001b[0m",
      "\u001b[1;31mValidationError\u001b[0m                           Traceback (most recent call last)",
      "Cell \u001b[1;32mIn[8], line 2\u001b[0m\n\u001b[0;32m      1\u001b[0m \u001b[39mfrom\u001b[39;00m \u001b[39mlangchain\u001b[39;00m\u001b[39m.\u001b[39;00m\u001b[39mprompts\u001b[39;00m \u001b[39mimport\u001b[39;00m PromptTemplate\n\u001b[1;32m----> 2\u001b[0m prompt \u001b[39m=\u001b[39m PromptTemplate(\n\u001b[0;32m      3\u001b[0m     template \u001b[39m=\u001b[39;49m \u001b[39m\"\"\"\u001b[39;49m\u001b[39mYou are Luke Combs, the famous country music singer, \u001b[39;49m\n\u001b[0;32m      4\u001b[0m \u001b[39m    helping a fan as their \u001b[39;49m\u001b[39m'\u001b[39;49m\u001b[39mco-writer\u001b[39;49m\u001b[39m'\u001b[39;49m\u001b[39m. Use the following pieces of context\u001b[39;49m\n\u001b[0;32m      5\u001b[0m \u001b[39m    to answer the question at the end.  If possible, refer to the lyrics or song\u001b[39;49m\n\u001b[0;32m      6\u001b[0m \u001b[39m    in the context when you answer. If you cannot find relevant information in the \u001b[39;49m\n\u001b[0;32m      7\u001b[0m \u001b[39m    context, simply answer as you normally would assuming the identity of Luke Combs.\u001b[39;49m\n\u001b[0;32m      8\u001b[0m \u001b[39m    Make sure to engage with the fan in an encouraging and friendly manner.  Your \u001b[39;49m\n\u001b[0;32m      9\u001b[0m \u001b[39m    chat history so far is \u001b[39;49m\u001b[39m{chat_history}\u001b[39;49;00m\u001b[39m.\u001b[39;49m\n\u001b[0;32m     10\u001b[0m \u001b[39m    \u001b[39;49m\u001b[39m{context}\u001b[39;49;00m\n\u001b[0;32m     11\u001b[0m \u001b[39m    Question: \u001b[39;49m\u001b[39m{question}\u001b[39;49;00m\n\u001b[0;32m     12\u001b[0m \u001b[39m    Helpful Answer:\u001b[39;49m\u001b[39m\"\"\"\u001b[39;49m,\n\u001b[0;32m     13\u001b[0m     input_variables \u001b[39m=\u001b[39;49m [\u001b[39m\"\u001b[39;49m\u001b[39mchat_history\u001b[39;49m\u001b[39m\"\u001b[39;49m]\n\u001b[0;32m     14\u001b[0m )\n\u001b[0;32m     15\u001b[0m QA_CHAIN_PROMPT \u001b[39m=\u001b[39m prompt\u001b[39m.\u001b[39mformat_prompt(\n\u001b[0;32m     16\u001b[0m chat_history \u001b[39m=\u001b[39m [],\n\u001b[0;32m     17\u001b[0m )\n",
      "File \u001b[1;32mc:\\Users\\sjufa\\anaconda3\\envs\\py310\\lib\\site-packages\\langchain\\load\\serializable.py:74\u001b[0m, in \u001b[0;36mSerializable.__init__\u001b[1;34m(self, **kwargs)\u001b[0m\n\u001b[0;32m     73\u001b[0m \u001b[39mdef\u001b[39;00m \u001b[39m__init__\u001b[39m(\u001b[39mself\u001b[39m, \u001b[39m*\u001b[39m\u001b[39m*\u001b[39mkwargs: Any) \u001b[39m-\u001b[39m\u001b[39m>\u001b[39m \u001b[39mNone\u001b[39;00m:\n\u001b[1;32m---> 74\u001b[0m     \u001b[39msuper\u001b[39m()\u001b[39m.\u001b[39m\u001b[39m__init__\u001b[39m(\u001b[39m*\u001b[39m\u001b[39m*\u001b[39mkwargs)\n\u001b[0;32m     75\u001b[0m     \u001b[39mself\u001b[39m\u001b[39m.\u001b[39m_lc_kwargs \u001b[39m=\u001b[39m kwargs\n",
      "File \u001b[1;32mc:\\Users\\sjufa\\anaconda3\\envs\\py310\\lib\\site-packages\\pydantic\\main.py:341\u001b[0m, in \u001b[0;36mpydantic.main.BaseModel.__init__\u001b[1;34m()\u001b[0m\n",
      "\u001b[1;31mValidationError\u001b[0m: 1 validation error for PromptTemplate\n__root__\n  Invalid prompt schema; check for mismatched or missing input parameters. 'context' (type=value_error)"
     ]
    }
   ],
   "source": [
    "from langchain.prompts import PromptTemplate\n",
    "prompt = PromptTemplate(\n",
    "    template = \"\"\"You are Luke Combs, the famous country music singer, \n",
    "    helping a fan as their 'co-writer'. Use the following pieces of context\n",
    "    to answer the question at the end.  If possible, refer to the lyrics or song\n",
    "    in the context when you answer. If you cannot find relevant information in the \n",
    "    context, simply answer as you normally would assuming the identity of Luke Combs.\n",
    "    Make sure to engage with the fan in an encouraging and friendly manner.  Your \n",
    "    chat history so far is {chat_history}.\n",
    "    {context}\n",
    "    Question: {question}\n",
    "    Helpful Answer:\"\"\",\n",
    "    input_variables = [\"chat_history\"]\n",
    ")\n",
    "QA_CHAIN_PROMPT = prompt.format_prompt(\n",
    "chat_history = [],\n",
    ")\n",
    "\n"
   ]
  },
  {
   "cell_type": "code",
   "execution_count": 20,
   "metadata": {},
   "outputs": [
    {
     "name": "stdout",
     "output_type": "stream",
     "text": [
      "\n",
      "\n",
      "\u001b[1m> Entering new RetrievalQA chain...\u001b[0m\n",
      "\n",
      "\u001b[1m> Finished chain.\u001b[0m\n"
     ]
    },
    {
     "data": {
      "text/plain": [
       "{'query': 'I am writing a song about my girlfriend who I am getting readyto propose to.  Do you have any good ideas for a song title and lyrics?',\n",
       " 'result': 'Hey there! First of all, congratulations on taking that big step towards proposing to your girlfriend! That\\'s really exciting. \\n\\nFor a song title, how about \"Forever Starts Today\"? It captures the idea of your relationship moving forward into a lifetime commitment. \\n\\nAs for lyrics, you can focus on the journey you and your girlfriend have been on, how she has become the center of your world, and how you can\\'t wait to spend forever with her. Here\\'s a little snippet to get you started:\\n\\n[Verse 1]\\nFrom the moment I met you\\nMy heart knew you were the one\\nEvery day we\\'ve shared together\\nHas shown me how far we\\'ve come\\n\\n[Pre-Chorus]\\nIn your eyes, I see my future\\nWith you, I\\'m never alone\\nAnd I can\\'t wait to make you my wife\\nAs our love continues to grow\\n\\n[Chorus]\\nForever starts today, my love\\nWith you standing by my side\\nThrough the ups and downs that come our way\\nI promise to always be your guide\\nTogether we\\'ll walk this path of love\\nHand in hand, we\\'ll face whatever comes\\nForever starts today, my love\\nWith you, my forever has just begun\\n\\nOf course, feel free to make any changes or add your own personal touch to make it even more special for your girlfriend. Good luck with your proposal and your songwriting!'}"
      ]
     },
     "execution_count": 20,
     "metadata": {},
     "output_type": "execute_result"
    }
   ],
   "source": [
    "from langchain.chains import RetrievalQA\n",
    "\n",
    "question = \"I am writing a song about my girlfriend who I am getting ready\\\n",
    "to propose to.  Do you have any good ideas for a song title and lyrics?\"\n",
    "\n",
    "llm = ChatOpenAI(model_name=\"gpt-3.5-turbo-16k\", temperature=0.9)\n",
    "qa_chain = RetrievalQA.from_chain_type(llm,retriever=vectorstore.as_retriever(),\n",
    "chain_type_kwargs={\"prompt\": QA_CHAIN_PROMPT}, verbose=True)\n",
    "qa_chain({\"query\": question})"
   ]
  },
  {
   "cell_type": "code",
   "execution_count": null,
   "metadata": {},
   "outputs": [],
   "source": []
  }
 ],
 "metadata": {
  "kernelspec": {
   "display_name": "py310",
   "language": "python",
   "name": "python3"
  },
  "language_info": {
   "codemirror_mode": {
    "name": "ipython",
    "version": 3
   },
   "file_extension": ".py",
   "mimetype": "text/x-python",
   "name": "python",
   "nbconvert_exporter": "python",
   "pygments_lexer": "ipython3",
   "version": "3.10.12"
  },
  "orig_nbformat": 4
 },
 "nbformat": 4,
 "nbformat_minor": 2
}
