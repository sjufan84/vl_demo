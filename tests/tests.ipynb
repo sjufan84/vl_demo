{
 "cells": [
  {
   "cell_type": "code",
   "execution_count": null,
   "metadata": {},
   "outputs": [],
   "source": [
    "\"\"\" We want to play around with different feature extraction methods to see if we \n",
    "can recreate a sound from the extracted features. \"\"\"\n",
    "\n",
    "from speechbrain.processing.features import STFT\n",
    "from utils.audio_processing import load_audio\n",
    "import torch\n",
    "import matplotlib.pyplot as plt\n",
    "from speechbrain.dataio.dataio import read_audio\n",
    "\n",
    "signal = read_audio(\"data/recordings/recorded_audio.wav\")"
   ]
  }
 ],
 "metadata": {
  "kernelspec": {
   "display_name": "py310",
   "language": "python",
   "name": "python3"
  },
  "language_info": {
   "name": "python",
   "version": "3.10.12"
  },
  "orig_nbformat": 4
 },
 "nbformat": 4,
 "nbformat_minor": 2
}
