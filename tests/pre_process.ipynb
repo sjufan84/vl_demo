{
 "cells": [
  {
   "cell_type": "code",
   "execution_count": 1,
   "metadata": {},
   "outputs": [],
   "source": [
    "import os\n",
    "import soundfile as sf\n",
    "import numpy as np\n",
    "from transformers import EncodecModel, AutoProcessor\n",
    "import openai\n",
    "import pinecone\n",
    "import pandas as pd\n",
    "from dotenv import load_dotenv\n",
    "\n",
    "load_dotenv() # Load the .env file\n",
    "\n",
    "# Read in the openai api key from the .env file\n",
    "openai.api_key = os.getenv(\"OPENAI_API_KEY\")\n",
    "# Read in the openai organization id from the .env file\n",
    "openai.organization = os.getenv(\"OPENAI_ORG\")\n",
    "\n",
    "# Read in the pinecone api key from the .env file\n",
    "pinecone_key = os.getenv(\"PINECONE_KEY\")\n",
    "# Read in the pinecone environment from the .env file\n",
    "pinecone_env = os.getenv(\"PINECONE_ENV\")\n",
    "\n",
    "# Initialize pinecone\n",
    "pinecone.init(api_key = pinecone_key, environment= pinecone_env)"
   ]
  },
  {
   "cell_type": "code",
   "execution_count": 2,
   "metadata": {},
   "outputs": [],
   "source": [
    "lyrics_df = pd.read_csv(\"../lyrics/combs_lyrics.csv\", encoding='utf-8') # Load the lyrics dataframe"
   ]
  },
  {
   "cell_type": "code",
   "execution_count": 12,
   "metadata": {},
   "outputs": [
    {
     "name": "stderr",
     "output_type": "stream",
     "text": [
      "Could not find image processor class in the image processor config or the model config. Loading based on pattern matching with the model's feature extractor configuration.\n"
     ]
    }
   ],
   "source": [
    "# Initialize the Encodec model and processor\n",
    "model = EncodecModel.from_pretrained(\"facebook/encodec_48khz\")\n",
    "processor = AutoProcessor.from_pretrained(\"facebook/encodec_48khz\")\n",
    "\n",
    "from utils.encoder_utils import chunk_and_encode_encodec\n"
   ]
  },
  {
   "cell_type": "code",
   "execution_count": 4,
   "metadata": {},
   "outputs": [],
   "source": [
    "# Keep the following songs: [\"Growin' Up and Gettin' Old\", 'Hurricane', 'Fast Car', 'Beautiful Crazy']\n",
    "lyrics_df = lyrics_df[lyrics_df['Song Title'].isin([\"Growin' Up and Gettin' Old\", 'Hurricane', 'Fast Car', 'Beautiful Crazy'])]"
   ]
  },
  {
   "cell_type": "code",
   "execution_count": 5,
   "metadata": {},
   "outputs": [
    {
     "data": {
      "text/html": [
       "<div>\n",
       "<style scoped>\n",
       "    .dataframe tbody tr th:only-of-type {\n",
       "        vertical-align: middle;\n",
       "    }\n",
       "\n",
       "    .dataframe tbody tr th {\n",
       "        vertical-align: top;\n",
       "    }\n",
       "\n",
       "    .dataframe thead th {\n",
       "        text-align: right;\n",
       "    }\n",
       "</style>\n",
       "<table border=\"1\" class=\"dataframe\">\n",
       "  <thead>\n",
       "    <tr style=\"text-align: right;\">\n",
       "      <th></th>\n",
       "      <th>Song Title</th>\n",
       "      <th>Lyrics</th>\n",
       "    </tr>\n",
       "  </thead>\n",
       "  <tbody>\n",
       "    <tr>\n",
       "      <th>8</th>\n",
       "      <td>Beautiful Crazy</td>\n",
       "      <td>[Verse 1]\\nHer day starts with a coffee and en...</td>\n",
       "    </tr>\n",
       "    <tr>\n",
       "      <th>32</th>\n",
       "      <td>Fast Car</td>\n",
       "      <td>[Verse 1]\\nYou got a fast car\\nAnd I want a ti...</td>\n",
       "    </tr>\n",
       "    <tr>\n",
       "      <th>43</th>\n",
       "      <td>Hurricane</td>\n",
       "      <td>[Verse 1]\\nHadn't had a good time since you kn...</td>\n",
       "    </tr>\n",
       "  </tbody>\n",
       "</table>\n",
       "</div>"
      ],
      "text/plain": [
       "         Song Title                                             Lyrics\n",
       "8   Beautiful Crazy  [Verse 1]\\nHer day starts with a coffee and en...\n",
       "32         Fast Car  [Verse 1]\\nYou got a fast car\\nAnd I want a ti...\n",
       "43        Hurricane  [Verse 1]\\nHadn't had a good time since you kn..."
      ]
     },
     "execution_count": 5,
     "metadata": {},
     "output_type": "execute_result"
    }
   ],
   "source": [
    "lyrics_df"
   ]
  },
  {
   "cell_type": "code",
   "execution_count": 13,
   "metadata": {},
   "outputs": [
    {
     "name": "stderr",
     "output_type": "stream",
     "text": [
      "Could not find image processor class in the image processor config or the model config. Loading based on pattern matching with the model's feature extractor configuration.\n"
     ]
    },
    {
     "ename": "ValueError",
     "evalue": "Expected stereo audio but example has 720000 channels",
     "output_type": "error",
     "traceback": [
      "\u001b[1;31m---------------------------------------------------------------------------\u001b[0m",
      "\u001b[1;31mValueError\u001b[0m                                Traceback (most recent call last)",
      "Cell \u001b[1;32mIn[13], line 6\u001b[0m\n\u001b[0;32m      3\u001b[0m audio_dirs \u001b[39m=\u001b[39m [\u001b[39m'\u001b[39m\u001b[39maudio_files/artist_main\u001b[39m\u001b[39m'\u001b[39m, \u001b[39m'\u001b[39m\u001b[39maudio_files/other_artists\u001b[39m\u001b[39m'\u001b[39m]\n\u001b[0;32m      5\u001b[0m file_path \u001b[39m=\u001b[39m \u001b[39m'\u001b[39m\u001b[39m./audio_files/artist_main/lc_beautiful_crazy.wav\u001b[39m\u001b[39m'\u001b[39m\n\u001b[1;32m----> 6\u001b[0m encoded_chunks \u001b[39m=\u001b[39m chunk_and_encode_encodec(file_path)\n\u001b[0;32m      7\u001b[0m metadata \u001b[39m=\u001b[39m {\n\u001b[0;32m      8\u001b[0m     \u001b[39m'\u001b[39m\u001b[39martist\u001b[39m\u001b[39m'\u001b[39m: \u001b[39m'\u001b[39m\u001b[39mLuke Combs\u001b[39m\u001b[39m'\u001b[39m,\n\u001b[0;32m      9\u001b[0m     \u001b[39m'\u001b[39m\u001b[39msong_title\u001b[39m\u001b[39m'\u001b[39m: \u001b[39m'\u001b[39m\u001b[39mCrazy Beautiful\u001b[39m\u001b[39m'\u001b[39m,\n\u001b[0;32m     10\u001b[0m     \u001b[39m'\u001b[39m\u001b[39mstyle\u001b[39m\u001b[39m'\u001b[39m: \u001b[39m'\u001b[39m\u001b[39mcountry\u001b[39m\u001b[39m'\u001b[39m,\n\u001b[0;32m     11\u001b[0m     \u001b[39m'\u001b[39m\u001b[39mlyrics\u001b[39m\u001b[39m'\u001b[39m: lyrics_df[lyrics_df[\u001b[39m'\u001b[39m\u001b[39mSong Title\u001b[39m\u001b[39m'\u001b[39m] \u001b[39m==\u001b[39m \u001b[39m'\u001b[39m\u001b[39mBeautiful Crazy\u001b[39m\u001b[39m'\u001b[39m][\u001b[39m'\u001b[39m\u001b[39mLyrics\u001b[39m\u001b[39m'\u001b[39m]\u001b[39m.\u001b[39mvalues[\u001b[39m0\u001b[39m]  \n\u001b[0;32m     12\u001b[0m }\n\u001b[0;32m     13\u001b[0m encoded_data[\u001b[39m'\u001b[39m\u001b[39mCrazy Beautiful\u001b[39m\u001b[39m'\u001b[39m] \u001b[39m=\u001b[39m {\u001b[39m'\u001b[39m\u001b[39maudio_codes\u001b[39m\u001b[39m'\u001b[39m: encoded_chunks, \u001b[39m'\u001b[39m\u001b[39mmetadata\u001b[39m\u001b[39m'\u001b[39m: metadata}\n",
      "File \u001b[1;32mc:\\Users\\sjufa\\OneDrive\\Desktop\\Current Projects\\vl_demo\\tests\\utils\\encoder_utils.py:25\u001b[0m, in \u001b[0;36mchunk_and_encode_encodec\u001b[1;34m(audio_file_path, model_name, processor_name)\u001b[0m\n\u001b[0;32m     23\u001b[0m encoded_chunks \u001b[39m=\u001b[39m []\n\u001b[0;32m     24\u001b[0m \u001b[39mfor\u001b[39;00m chunk \u001b[39min\u001b[39;00m audio_chunks:\n\u001b[1;32m---> 25\u001b[0m     inputs \u001b[39m=\u001b[39m processor(raw_audio\u001b[39m=\u001b[39;49mchunk, sampling_rate\u001b[39m=\u001b[39;49msr, return_tensors\u001b[39m=\u001b[39;49m\u001b[39m\"\u001b[39;49m\u001b[39mpt\u001b[39;49m\u001b[39m\"\u001b[39;49m)\n\u001b[0;32m     26\u001b[0m     encoder_outputs \u001b[39m=\u001b[39m model\u001b[39m.\u001b[39mencode(inputs[\u001b[39m\"\u001b[39m\u001b[39minput_values\u001b[39m\u001b[39m\"\u001b[39m], inputs[\u001b[39m\"\u001b[39m\u001b[39mpadding_mask\u001b[39m\u001b[39m\"\u001b[39m])\n\u001b[0;32m     27\u001b[0m     encoded_chunks\u001b[39m.\u001b[39mappend(encoder_outputs\u001b[39m.\u001b[39maudio_codes)\n",
      "File \u001b[1;32mc:\\Users\\sjufa\\anaconda3\\envs\\py310\\lib\\site-packages\\transformers\\models\\encodec\\feature_extraction_encodec.py:167\u001b[0m, in \u001b[0;36mEncodecFeatureExtractor.__call__\u001b[1;34m(self, raw_audio, padding, truncation, max_length, return_tensors, sampling_rate)\u001b[0m\n\u001b[0;32m    165\u001b[0m         \u001b[39mraise\u001b[39;00m \u001b[39mValueError\u001b[39;00m(\u001b[39mf\u001b[39m\u001b[39m\"\u001b[39m\u001b[39mExpected mono audio but example has \u001b[39m\u001b[39m{\u001b[39;00mexample\u001b[39m.\u001b[39mshape[\u001b[39m-\u001b[39m\u001b[39m1\u001b[39m]\u001b[39m}\u001b[39;00m\u001b[39m channels\u001b[39m\u001b[39m\"\u001b[39m)\n\u001b[0;32m    166\u001b[0m     \u001b[39mif\u001b[39;00m \u001b[39mself\u001b[39m\u001b[39m.\u001b[39mfeature_size \u001b[39m==\u001b[39m \u001b[39m2\u001b[39m \u001b[39mand\u001b[39;00m example\u001b[39m.\u001b[39mshape[\u001b[39m-\u001b[39m\u001b[39m1\u001b[39m] \u001b[39m!=\u001b[39m \u001b[39m2\u001b[39m:\n\u001b[1;32m--> 167\u001b[0m         \u001b[39mraise\u001b[39;00m \u001b[39mValueError\u001b[39;00m(\u001b[39mf\u001b[39m\u001b[39m\"\u001b[39m\u001b[39mExpected stereo audio but example has \u001b[39m\u001b[39m{\u001b[39;00mexample\u001b[39m.\u001b[39mshape[\u001b[39m-\u001b[39m\u001b[39m1\u001b[39m]\u001b[39m}\u001b[39;00m\u001b[39m channels\u001b[39m\u001b[39m\"\u001b[39m)\n\u001b[0;32m    169\u001b[0m padded_inputs \u001b[39m=\u001b[39m \u001b[39mNone\u001b[39;00m\n\u001b[0;32m    170\u001b[0m input_values \u001b[39m=\u001b[39m BatchFeature({\u001b[39m\"\u001b[39m\u001b[39minput_values\u001b[39m\u001b[39m\"\u001b[39m: raw_audio})\n",
      "\u001b[1;31mValueError\u001b[0m: Expected stereo audio but example has 720000 channels"
     ]
    }
   ],
   "source": [
    "# Load, chunk, and encode audio files\n",
    "encoded_data = {}\n",
    "audio_dirs = ['audio_files/artist_main', 'audio_files/other_artists']\n",
    "\n",
    "file_path = './audio_files/artist_main/lc_beautiful_crazy.wav'\n",
    "encoded_chunks = chunk_and_encode_encodec(file_path)\n",
    "metadata = {\n",
    "    'artist': 'Luke Combs',\n",
    "    'song_title': 'Crazy Beautiful',\n",
    "    'style': 'country',\n",
    "    'lyrics': lyrics_df[lyrics_df['Song Title'] == 'Beautiful Crazy']['Lyrics'].values[0]  \n",
    "}\n",
    "encoded_data['Crazy Beautiful'] = {'audio_codes': encoded_chunks, 'metadata': metadata}\n"
   ]
  },
  {
   "cell_type": "code",
   "execution_count": null,
   "metadata": {},
   "outputs": [],
   "source": []
  }
 ],
 "metadata": {
  "kernelspec": {
   "display_name": "py310",
   "language": "python",
   "name": "python3"
  },
  "language_info": {
   "codemirror_mode": {
    "name": "ipython",
    "version": 3
   },
   "file_extension": ".py",
   "mimetype": "text/x-python",
   "name": "python",
   "nbconvert_exporter": "python",
   "pygments_lexer": "ipython3",
   "version": "3.10.12"
  },
  "orig_nbformat": 4
 },
 "nbformat": 4,
 "nbformat_minor": 2
}
