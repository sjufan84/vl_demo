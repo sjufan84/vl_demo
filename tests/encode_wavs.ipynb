{
 "cells": [
  {
   "cell_type": "code",
   "execution_count": 1,
   "metadata": {},
   "outputs": [],
   "source": [
    "import os\n",
    "import numpy as np\n",
    "from transformers import EncodecModel, AutoProcessor\n",
    "import torchaudio\n",
    "import torch\n",
    "from dotenv import load_dotenv\n",
    "import pinecone\n",
    "from utils.encoder_utils import encode_and_upsert\n",
    "\n",
    "\n",
    "load_dotenv()\n",
    "\n",
    "# Get environment variables from .env file\n",
    "pinecone_key = os.getenv(\"PINECONE_KEY2\")\n",
    "pinecone_environment = os.getenv(\"PINECONE_ENV2\")\n",
    "\n",
    "# Initialize the pinecone environment\n",
    "pinecone.init(api_key=pinecone_key, environment=pinecone_environment)"
   ]
  },
  {
   "cell_type": "code",
   "execution_count": 2,
   "metadata": {},
   "outputs": [
    {
     "name": "stderr",
     "output_type": "stream",
     "text": [
      "Could not find image processor class in the image processor config or the model config. Loading based on pattern matching with the model's feature extractor configuration.\n"
     ]
    },
    {
     "name": "stdout",
     "output_type": "stream",
     "text": [
      "Processor feature size: 1\n"
     ]
    },
    {
     "name": "stderr",
     "output_type": "stream",
     "text": [
      "INFO:root:Processing chunk 1/14\n"
     ]
    },
    {
     "name": "stdout",
     "output_type": "stream",
     "text": [
      "Audio data shape after loading: (5172736,)\n",
      "Chunk shape before transposing: (360000,)\n",
      "Chunk shape after transposing: (360000,)\n"
     ]
    },
    {
     "name": "stderr",
     "output_type": "stream",
     "text": [
      "INFO:root:Processing chunk 2/14\n"
     ]
    },
    {
     "name": "stdout",
     "output_type": "stream",
     "text": [
      "Chunk shape before transposing: (360000,)\n",
      "Chunk shape after transposing: (360000,)\n"
     ]
    },
    {
     "name": "stderr",
     "output_type": "stream",
     "text": [
      "INFO:root:Processing chunk 3/14\n"
     ]
    },
    {
     "name": "stdout",
     "output_type": "stream",
     "text": [
      "Chunk shape before transposing: (360000,)\n",
      "Chunk shape after transposing: (360000,)\n"
     ]
    },
    {
     "name": "stderr",
     "output_type": "stream",
     "text": [
      "INFO:root:Processing chunk 4/14\n"
     ]
    },
    {
     "name": "stdout",
     "output_type": "stream",
     "text": [
      "Chunk shape before transposing: (360000,)\n",
      "Chunk shape after transposing: (360000,)\n"
     ]
    },
    {
     "name": "stderr",
     "output_type": "stream",
     "text": [
      "INFO:root:Processing chunk 5/14\n"
     ]
    },
    {
     "name": "stdout",
     "output_type": "stream",
     "text": [
      "Chunk shape before transposing: (360000,)\n",
      "Chunk shape after transposing: (360000,)\n"
     ]
    },
    {
     "name": "stderr",
     "output_type": "stream",
     "text": [
      "INFO:root:Processing chunk 6/14\n"
     ]
    },
    {
     "name": "stdout",
     "output_type": "stream",
     "text": [
      "Chunk shape before transposing: (360000,)\n",
      "Chunk shape after transposing: (360000,)\n"
     ]
    },
    {
     "name": "stderr",
     "output_type": "stream",
     "text": [
      "INFO:root:Processing chunk 7/14\n"
     ]
    },
    {
     "name": "stdout",
     "output_type": "stream",
     "text": [
      "Chunk shape before transposing: (360000,)\n",
      "Chunk shape after transposing: (360000,)\n"
     ]
    },
    {
     "name": "stderr",
     "output_type": "stream",
     "text": [
      "INFO:root:Processing chunk 8/14\n"
     ]
    },
    {
     "name": "stdout",
     "output_type": "stream",
     "text": [
      "Chunk shape before transposing: (360000,)\n",
      "Chunk shape after transposing: (360000,)\n"
     ]
    },
    {
     "name": "stderr",
     "output_type": "stream",
     "text": [
      "INFO:root:Processing chunk 9/14\n"
     ]
    },
    {
     "name": "stdout",
     "output_type": "stream",
     "text": [
      "Chunk shape before transposing: (360000,)\n",
      "Chunk shape after transposing: (360000,)\n"
     ]
    },
    {
     "name": "stderr",
     "output_type": "stream",
     "text": [
      "INFO:root:Processing chunk 10/14\n"
     ]
    },
    {
     "name": "stdout",
     "output_type": "stream",
     "text": [
      "Chunk shape before transposing: (360000,)\n",
      "Chunk shape after transposing: (360000,)\n"
     ]
    },
    {
     "name": "stderr",
     "output_type": "stream",
     "text": [
      "INFO:root:Processing chunk 11/14\n"
     ]
    },
    {
     "name": "stdout",
     "output_type": "stream",
     "text": [
      "Chunk shape before transposing: (360000,)\n",
      "Chunk shape after transposing: (360000,)\n"
     ]
    },
    {
     "name": "stderr",
     "output_type": "stream",
     "text": [
      "INFO:root:Processing chunk 12/14\n"
     ]
    },
    {
     "name": "stdout",
     "output_type": "stream",
     "text": [
      "Chunk shape before transposing: (360000,)\n",
      "Chunk shape after transposing: (360000,)\n"
     ]
    },
    {
     "name": "stderr",
     "output_type": "stream",
     "text": [
      "INFO:root:Processing chunk 13/14\n"
     ]
    },
    {
     "name": "stdout",
     "output_type": "stream",
     "text": [
      "Chunk shape before transposing: (360000,)\n",
      "Chunk shape after transposing: (360000,)\n"
     ]
    },
    {
     "name": "stderr",
     "output_type": "stream",
     "text": [
      "INFO:root:Processing chunk 14/14\n"
     ]
    },
    {
     "name": "stdout",
     "output_type": "stream",
     "text": [
      "Chunk shape before transposing: (360000,)\n",
      "Chunk shape after transposing: (360000,)\n"
     ]
    },
    {
     "name": "stderr",
     "output_type": "stream",
     "text": [
      "INFO:root:Processing chunk 15/14\n"
     ]
    },
    {
     "name": "stdout",
     "output_type": "stream",
     "text": [
      "Chunk shape before transposing: (132736,)\n",
      "Chunk shape after transposing: (132736,)\n"
     ]
    },
    {
     "name": "stderr",
     "output_type": "stream",
     "text": [
      "WARNING:root:Partial chunk detected. Ignored.\n"
     ]
    },
    {
     "name": "stdout",
     "output_type": "stream",
     "text": [
      "Successfully processed lc_aint_far_from_it.mp3\n"
     ]
    },
    {
     "name": "stderr",
     "output_type": "stream",
     "text": [
      "Could not find image processor class in the image processor config or the model config. Loading based on pattern matching with the model's feature extractor configuration.\n"
     ]
    },
    {
     "name": "stdout",
     "output_type": "stream",
     "text": [
      "Processor feature size: 1\n"
     ]
    },
    {
     "name": "stderr",
     "output_type": "stream",
     "text": [
      "INFO:root:Processing chunk 1/14\n"
     ]
    },
    {
     "name": "stdout",
     "output_type": "stream",
     "text": [
      "Audio data shape after loading: (5148160,)\n",
      "Chunk shape before transposing: (360000,)\n",
      "Chunk shape after transposing: (360000,)\n"
     ]
    },
    {
     "name": "stderr",
     "output_type": "stream",
     "text": [
      "INFO:root:Processing chunk 2/14\n"
     ]
    },
    {
     "name": "stdout",
     "output_type": "stream",
     "text": [
      "Chunk shape before transposing: (360000,)\n",
      "Chunk shape after transposing: (360000,)\n"
     ]
    },
    {
     "name": "stderr",
     "output_type": "stream",
     "text": [
      "INFO:root:Processing chunk 3/14\n"
     ]
    },
    {
     "name": "stdout",
     "output_type": "stream",
     "text": [
      "Chunk shape before transposing: (360000,)\n",
      "Chunk shape after transposing: (360000,)\n"
     ]
    },
    {
     "name": "stderr",
     "output_type": "stream",
     "text": [
      "INFO:root:Processing chunk 4/14\n"
     ]
    },
    {
     "name": "stdout",
     "output_type": "stream",
     "text": [
      "Chunk shape before transposing: (360000,)\n",
      "Chunk shape after transposing: (360000,)\n"
     ]
    },
    {
     "name": "stderr",
     "output_type": "stream",
     "text": [
      "INFO:root:Processing chunk 5/14\n"
     ]
    },
    {
     "name": "stdout",
     "output_type": "stream",
     "text": [
      "Chunk shape before transposing: (360000,)\n",
      "Chunk shape after transposing: (360000,)\n"
     ]
    },
    {
     "name": "stderr",
     "output_type": "stream",
     "text": [
      "INFO:root:Processing chunk 6/14\n"
     ]
    },
    {
     "name": "stdout",
     "output_type": "stream",
     "text": [
      "Chunk shape before transposing: (360000,)\n",
      "Chunk shape after transposing: (360000,)\n"
     ]
    },
    {
     "name": "stderr",
     "output_type": "stream",
     "text": [
      "INFO:root:Processing chunk 7/14\n"
     ]
    },
    {
     "name": "stdout",
     "output_type": "stream",
     "text": [
      "Chunk shape before transposing: (360000,)\n",
      "Chunk shape after transposing: (360000,)\n"
     ]
    },
    {
     "name": "stderr",
     "output_type": "stream",
     "text": [
      "INFO:root:Processing chunk 8/14\n"
     ]
    },
    {
     "name": "stdout",
     "output_type": "stream",
     "text": [
      "Chunk shape before transposing: (360000,)\n",
      "Chunk shape after transposing: (360000,)\n"
     ]
    },
    {
     "name": "stderr",
     "output_type": "stream",
     "text": [
      "INFO:root:Processing chunk 9/14\n"
     ]
    },
    {
     "name": "stdout",
     "output_type": "stream",
     "text": [
      "Chunk shape before transposing: (360000,)\n",
      "Chunk shape after transposing: (360000,)\n"
     ]
    },
    {
     "name": "stderr",
     "output_type": "stream",
     "text": [
      "INFO:root:Processing chunk 10/14\n"
     ]
    },
    {
     "name": "stdout",
     "output_type": "stream",
     "text": [
      "Chunk shape before transposing: (360000,)\n",
      "Chunk shape after transposing: (360000,)\n"
     ]
    },
    {
     "name": "stderr",
     "output_type": "stream",
     "text": [
      "INFO:root:Processing chunk 11/14\n"
     ]
    },
    {
     "name": "stdout",
     "output_type": "stream",
     "text": [
      "Chunk shape before transposing: (360000,)\n",
      "Chunk shape after transposing: (360000,)\n"
     ]
    },
    {
     "name": "stderr",
     "output_type": "stream",
     "text": [
      "INFO:root:Processing chunk 12/14\n"
     ]
    },
    {
     "name": "stdout",
     "output_type": "stream",
     "text": [
      "Chunk shape before transposing: (360000,)\n",
      "Chunk shape after transposing: (360000,)\n"
     ]
    },
    {
     "name": "stderr",
     "output_type": "stream",
     "text": [
      "INFO:root:Processing chunk 13/14\n"
     ]
    },
    {
     "name": "stdout",
     "output_type": "stream",
     "text": [
      "Chunk shape before transposing: (360000,)\n",
      "Chunk shape after transposing: (360000,)\n"
     ]
    },
    {
     "name": "stderr",
     "output_type": "stream",
     "text": [
      "INFO:root:Processing chunk 14/14\n"
     ]
    },
    {
     "name": "stdout",
     "output_type": "stream",
     "text": [
      "Chunk shape before transposing: (360000,)\n",
      "Chunk shape after transposing: (360000,)\n"
     ]
    },
    {
     "name": "stderr",
     "output_type": "stream",
     "text": [
      "INFO:root:Processing chunk 15/14\n"
     ]
    },
    {
     "name": "stdout",
     "output_type": "stream",
     "text": [
      "Chunk shape before transposing: (108160,)\n",
      "Chunk shape after transposing: (108160,)\n"
     ]
    },
    {
     "name": "stderr",
     "output_type": "stream",
     "text": [
      "WARNING:root:Partial chunk detected. Ignored.\n"
     ]
    },
    {
     "name": "stdout",
     "output_type": "stream",
     "text": [
      "Successfully processed lc_beautiful_crazy.wav\n"
     ]
    },
    {
     "name": "stderr",
     "output_type": "stream",
     "text": [
      "Could not find image processor class in the image processor config or the model config. Loading based on pattern matching with the model's feature extractor configuration.\n"
     ]
    },
    {
     "name": "stdout",
     "output_type": "stream",
     "text": [
      "Processor feature size: 1\n"
     ]
    },
    {
     "name": "stderr",
     "output_type": "stream",
     "text": [
      "INFO:root:Processing chunk 1/17\n"
     ]
    },
    {
     "name": "stdout",
     "output_type": "stream",
     "text": [
      "Audio data shape after loading: (6461952,)\n",
      "Chunk shape before transposing: (360000,)\n",
      "Chunk shape after transposing: (360000,)\n"
     ]
    },
    {
     "name": "stderr",
     "output_type": "stream",
     "text": [
      "INFO:root:Processing chunk 2/17\n"
     ]
    },
    {
     "name": "stdout",
     "output_type": "stream",
     "text": [
      "Chunk shape before transposing: (360000,)\n",
      "Chunk shape after transposing: (360000,)\n"
     ]
    },
    {
     "name": "stderr",
     "output_type": "stream",
     "text": [
      "INFO:root:Processing chunk 3/17\n"
     ]
    },
    {
     "name": "stdout",
     "output_type": "stream",
     "text": [
      "Chunk shape before transposing: (360000,)\n",
      "Chunk shape after transposing: (360000,)\n"
     ]
    },
    {
     "name": "stderr",
     "output_type": "stream",
     "text": [
      "INFO:root:Processing chunk 4/17\n"
     ]
    },
    {
     "name": "stdout",
     "output_type": "stream",
     "text": [
      "Chunk shape before transposing: (360000,)\n",
      "Chunk shape after transposing: (360000,)\n"
     ]
    },
    {
     "name": "stderr",
     "output_type": "stream",
     "text": [
      "INFO:root:Processing chunk 5/17\n"
     ]
    },
    {
     "name": "stdout",
     "output_type": "stream",
     "text": [
      "Chunk shape before transposing: (360000,)\n",
      "Chunk shape after transposing: (360000,)\n"
     ]
    },
    {
     "name": "stderr",
     "output_type": "stream",
     "text": [
      "INFO:root:Processing chunk 6/17\n"
     ]
    },
    {
     "name": "stdout",
     "output_type": "stream",
     "text": [
      "Chunk shape before transposing: (360000,)\n",
      "Chunk shape after transposing: (360000,)\n"
     ]
    },
    {
     "name": "stderr",
     "output_type": "stream",
     "text": [
      "INFO:root:Processing chunk 7/17\n"
     ]
    },
    {
     "name": "stdout",
     "output_type": "stream",
     "text": [
      "Chunk shape before transposing: (360000,)\n",
      "Chunk shape after transposing: (360000,)\n"
     ]
    },
    {
     "name": "stderr",
     "output_type": "stream",
     "text": [
      "INFO:root:Processing chunk 8/17\n"
     ]
    },
    {
     "name": "stdout",
     "output_type": "stream",
     "text": [
      "Chunk shape before transposing: (360000,)\n",
      "Chunk shape after transposing: (360000,)\n"
     ]
    },
    {
     "name": "stderr",
     "output_type": "stream",
     "text": [
      "INFO:root:Processing chunk 9/17\n"
     ]
    },
    {
     "name": "stdout",
     "output_type": "stream",
     "text": [
      "Chunk shape before transposing: (360000,)\n",
      "Chunk shape after transposing: (360000,)\n"
     ]
    },
    {
     "name": "stderr",
     "output_type": "stream",
     "text": [
      "INFO:root:Processing chunk 10/17\n"
     ]
    },
    {
     "name": "stdout",
     "output_type": "stream",
     "text": [
      "Chunk shape before transposing: (360000,)\n",
      "Chunk shape after transposing: (360000,)\n"
     ]
    },
    {
     "name": "stderr",
     "output_type": "stream",
     "text": [
      "INFO:root:Processing chunk 11/17\n"
     ]
    },
    {
     "name": "stdout",
     "output_type": "stream",
     "text": [
      "Chunk shape before transposing: (360000,)\n",
      "Chunk shape after transposing: (360000,)\n"
     ]
    },
    {
     "name": "stderr",
     "output_type": "stream",
     "text": [
      "INFO:root:Processing chunk 12/17\n"
     ]
    },
    {
     "name": "stdout",
     "output_type": "stream",
     "text": [
      "Chunk shape before transposing: (360000,)\n",
      "Chunk shape after transposing: (360000,)\n"
     ]
    },
    {
     "name": "stderr",
     "output_type": "stream",
     "text": [
      "INFO:root:Processing chunk 13/17\n"
     ]
    },
    {
     "name": "stdout",
     "output_type": "stream",
     "text": [
      "Chunk shape before transposing: (360000,)\n",
      "Chunk shape after transposing: (360000,)\n"
     ]
    },
    {
     "name": "stderr",
     "output_type": "stream",
     "text": [
      "INFO:root:Processing chunk 14/17\n"
     ]
    },
    {
     "name": "stdout",
     "output_type": "stream",
     "text": [
      "Chunk shape before transposing: (360000,)\n",
      "Chunk shape after transposing: (360000,)\n"
     ]
    },
    {
     "name": "stderr",
     "output_type": "stream",
     "text": [
      "INFO:root:Processing chunk 15/17\n"
     ]
    },
    {
     "name": "stdout",
     "output_type": "stream",
     "text": [
      "Chunk shape before transposing: (360000,)\n",
      "Chunk shape after transposing: (360000,)\n"
     ]
    },
    {
     "name": "stderr",
     "output_type": "stream",
     "text": [
      "INFO:root:Processing chunk 16/17\n"
     ]
    },
    {
     "name": "stdout",
     "output_type": "stream",
     "text": [
      "Chunk shape before transposing: (360000,)\n",
      "Chunk shape after transposing: (360000,)\n"
     ]
    },
    {
     "name": "stderr",
     "output_type": "stream",
     "text": [
      "INFO:root:Processing chunk 17/17\n"
     ]
    },
    {
     "name": "stdout",
     "output_type": "stream",
     "text": [
      "Chunk shape before transposing: (360000,)\n",
      "Chunk shape after transposing: (360000,)\n"
     ]
    },
    {
     "name": "stderr",
     "output_type": "stream",
     "text": [
      "INFO:root:Processing chunk 18/17\n"
     ]
    },
    {
     "name": "stdout",
     "output_type": "stream",
     "text": [
      "Chunk shape before transposing: (341952,)\n",
      "Chunk shape after transposing: (341952,)\n"
     ]
    },
    {
     "name": "stderr",
     "output_type": "stream",
     "text": [
      "WARNING:root:Partial chunk detected. Ignored.\n"
     ]
    },
    {
     "name": "stdout",
     "output_type": "stream",
     "text": [
      "Successfully processed lc_fastcar.wav\n"
     ]
    },
    {
     "name": "stderr",
     "output_type": "stream",
     "text": [
      "Could not find image processor class in the image processor config or the model config. Loading based on pattern matching with the model's feature extractor configuration.\n"
     ]
    },
    {
     "name": "stdout",
     "output_type": "stream",
     "text": [
      "Processor feature size: 1\n"
     ]
    },
    {
     "name": "stderr",
     "output_type": "stream",
     "text": [
      "INFO:root:Processing chunk 1/14\n"
     ]
    },
    {
     "name": "stdout",
     "output_type": "stream",
     "text": [
      "Audio data shape after loading: (5088256,)\n",
      "Chunk shape before transposing: (360000,)\n",
      "Chunk shape after transposing: (360000,)\n"
     ]
    },
    {
     "name": "stderr",
     "output_type": "stream",
     "text": [
      "INFO:root:Processing chunk 2/14\n"
     ]
    },
    {
     "name": "stdout",
     "output_type": "stream",
     "text": [
      "Chunk shape before transposing: (360000,)\n",
      "Chunk shape after transposing: (360000,)\n"
     ]
    },
    {
     "name": "stderr",
     "output_type": "stream",
     "text": [
      "INFO:root:Processing chunk 3/14\n"
     ]
    },
    {
     "name": "stdout",
     "output_type": "stream",
     "text": [
      "Chunk shape before transposing: (360000,)\n",
      "Chunk shape after transposing: (360000,)\n"
     ]
    },
    {
     "name": "stderr",
     "output_type": "stream",
     "text": [
      "INFO:root:Processing chunk 4/14\n"
     ]
    },
    {
     "name": "stdout",
     "output_type": "stream",
     "text": [
      "Chunk shape before transposing: (360000,)\n",
      "Chunk shape after transposing: (360000,)\n"
     ]
    },
    {
     "name": "stderr",
     "output_type": "stream",
     "text": [
      "INFO:root:Processing chunk 5/14\n"
     ]
    },
    {
     "name": "stdout",
     "output_type": "stream",
     "text": [
      "Chunk shape before transposing: (360000,)\n",
      "Chunk shape after transposing: (360000,)\n"
     ]
    },
    {
     "name": "stderr",
     "output_type": "stream",
     "text": [
      "INFO:root:Processing chunk 6/14\n"
     ]
    },
    {
     "name": "stdout",
     "output_type": "stream",
     "text": [
      "Chunk shape before transposing: (360000,)\n",
      "Chunk shape after transposing: (360000,)\n"
     ]
    },
    {
     "name": "stderr",
     "output_type": "stream",
     "text": [
      "INFO:root:Processing chunk 7/14\n"
     ]
    },
    {
     "name": "stdout",
     "output_type": "stream",
     "text": [
      "Chunk shape before transposing: (360000,)\n",
      "Chunk shape after transposing: (360000,)\n"
     ]
    },
    {
     "name": "stderr",
     "output_type": "stream",
     "text": [
      "INFO:root:Processing chunk 8/14\n"
     ]
    },
    {
     "name": "stdout",
     "output_type": "stream",
     "text": [
      "Chunk shape before transposing: (360000,)\n",
      "Chunk shape after transposing: (360000,)\n"
     ]
    },
    {
     "name": "stderr",
     "output_type": "stream",
     "text": [
      "INFO:root:Processing chunk 9/14\n"
     ]
    },
    {
     "name": "stdout",
     "output_type": "stream",
     "text": [
      "Chunk shape before transposing: (360000,)\n",
      "Chunk shape after transposing: (360000,)\n"
     ]
    },
    {
     "name": "stderr",
     "output_type": "stream",
     "text": [
      "INFO:root:Processing chunk 10/14\n"
     ]
    },
    {
     "name": "stdout",
     "output_type": "stream",
     "text": [
      "Chunk shape before transposing: (360000,)\n",
      "Chunk shape after transposing: (360000,)\n"
     ]
    },
    {
     "name": "stderr",
     "output_type": "stream",
     "text": [
      "INFO:root:Processing chunk 11/14\n"
     ]
    },
    {
     "name": "stdout",
     "output_type": "stream",
     "text": [
      "Chunk shape before transposing: (360000,)\n",
      "Chunk shape after transposing: (360000,)\n"
     ]
    },
    {
     "name": "stderr",
     "output_type": "stream",
     "text": [
      "INFO:root:Processing chunk 12/14\n"
     ]
    },
    {
     "name": "stdout",
     "output_type": "stream",
     "text": [
      "Chunk shape before transposing: (360000,)\n",
      "Chunk shape after transposing: (360000,)\n"
     ]
    },
    {
     "name": "stderr",
     "output_type": "stream",
     "text": [
      "INFO:root:Processing chunk 13/14\n"
     ]
    },
    {
     "name": "stdout",
     "output_type": "stream",
     "text": [
      "Chunk shape before transposing: (360000,)\n",
      "Chunk shape after transposing: (360000,)\n"
     ]
    },
    {
     "name": "stderr",
     "output_type": "stream",
     "text": [
      "INFO:root:Processing chunk 14/14\n"
     ]
    },
    {
     "name": "stdout",
     "output_type": "stream",
     "text": [
      "Chunk shape before transposing: (360000,)\n",
      "Chunk shape after transposing: (360000,)\n"
     ]
    },
    {
     "name": "stderr",
     "output_type": "stream",
     "text": [
      "INFO:root:Processing chunk 15/14\n"
     ]
    },
    {
     "name": "stdout",
     "output_type": "stream",
     "text": [
      "Chunk shape before transposing: (48256,)\n",
      "Chunk shape after transposing: (48256,)\n"
     ]
    },
    {
     "name": "stderr",
     "output_type": "stream",
     "text": [
      "WARNING:root:Partial chunk detected. Ignored.\n"
     ]
    },
    {
     "name": "stdout",
     "output_type": "stream",
     "text": [
      "Successfully processed lc_five_leaf_clover.mp3\n"
     ]
    },
    {
     "name": "stderr",
     "output_type": "stream",
     "text": [
      "Could not find image processor class in the image processor config or the model config. Loading based on pattern matching with the model's feature extractor configuration.\n"
     ]
    },
    {
     "name": "stdout",
     "output_type": "stream",
     "text": [
      "Processor feature size: 1\n"
     ]
    },
    {
     "name": "stderr",
     "output_type": "stream",
     "text": [
      "INFO:root:Processing chunk 1/15\n"
     ]
    },
    {
     "name": "stdout",
     "output_type": "stream",
     "text": [
      "Audio data shape after loading: (5591552,)\n",
      "Chunk shape before transposing: (360000,)\n",
      "Chunk shape after transposing: (360000,)\n"
     ]
    },
    {
     "name": "stderr",
     "output_type": "stream",
     "text": [
      "INFO:root:Processing chunk 2/15\n"
     ]
    },
    {
     "name": "stdout",
     "output_type": "stream",
     "text": [
      "Chunk shape before transposing: (360000,)\n",
      "Chunk shape after transposing: (360000,)\n"
     ]
    },
    {
     "name": "stderr",
     "output_type": "stream",
     "text": [
      "INFO:root:Processing chunk 3/15\n"
     ]
    },
    {
     "name": "stdout",
     "output_type": "stream",
     "text": [
      "Chunk shape before transposing: (360000,)\n",
      "Chunk shape after transposing: (360000,)\n"
     ]
    },
    {
     "name": "stderr",
     "output_type": "stream",
     "text": [
      "INFO:root:Processing chunk 4/15\n"
     ]
    },
    {
     "name": "stdout",
     "output_type": "stream",
     "text": [
      "Chunk shape before transposing: (360000,)\n",
      "Chunk shape after transposing: (360000,)\n"
     ]
    },
    {
     "name": "stderr",
     "output_type": "stream",
     "text": [
      "INFO:root:Processing chunk 5/15\n"
     ]
    },
    {
     "name": "stdout",
     "output_type": "stream",
     "text": [
      "Chunk shape before transposing: (360000,)\n",
      "Chunk shape after transposing: (360000,)\n"
     ]
    },
    {
     "name": "stderr",
     "output_type": "stream",
     "text": [
      "INFO:root:Processing chunk 6/15\n"
     ]
    },
    {
     "name": "stdout",
     "output_type": "stream",
     "text": [
      "Chunk shape before transposing: (360000,)\n",
      "Chunk shape after transposing: (360000,)\n"
     ]
    },
    {
     "name": "stderr",
     "output_type": "stream",
     "text": [
      "INFO:root:Processing chunk 7/15\n"
     ]
    },
    {
     "name": "stdout",
     "output_type": "stream",
     "text": [
      "Chunk shape before transposing: (360000,)\n",
      "Chunk shape after transposing: (360000,)\n"
     ]
    },
    {
     "name": "stderr",
     "output_type": "stream",
     "text": [
      "INFO:root:Processing chunk 8/15\n"
     ]
    },
    {
     "name": "stdout",
     "output_type": "stream",
     "text": [
      "Chunk shape before transposing: (360000,)\n",
      "Chunk shape after transposing: (360000,)\n"
     ]
    },
    {
     "name": "stderr",
     "output_type": "stream",
     "text": [
      "INFO:root:Processing chunk 9/15\n"
     ]
    },
    {
     "name": "stdout",
     "output_type": "stream",
     "text": [
      "Chunk shape before transposing: (360000,)\n",
      "Chunk shape after transposing: (360000,)\n"
     ]
    },
    {
     "name": "stderr",
     "output_type": "stream",
     "text": [
      "INFO:root:Processing chunk 10/15\n"
     ]
    },
    {
     "name": "stdout",
     "output_type": "stream",
     "text": [
      "Chunk shape before transposing: (360000,)\n",
      "Chunk shape after transposing: (360000,)\n"
     ]
    },
    {
     "name": "stderr",
     "output_type": "stream",
     "text": [
      "INFO:root:Processing chunk 11/15\n"
     ]
    },
    {
     "name": "stdout",
     "output_type": "stream",
     "text": [
      "Chunk shape before transposing: (360000,)\n",
      "Chunk shape after transposing: (360000,)\n"
     ]
    },
    {
     "name": "stderr",
     "output_type": "stream",
     "text": [
      "INFO:root:Processing chunk 12/15\n"
     ]
    },
    {
     "name": "stdout",
     "output_type": "stream",
     "text": [
      "Chunk shape before transposing: (360000,)\n",
      "Chunk shape after transposing: (360000,)\n"
     ]
    },
    {
     "name": "stderr",
     "output_type": "stream",
     "text": [
      "INFO:root:Processing chunk 13/15\n"
     ]
    },
    {
     "name": "stdout",
     "output_type": "stream",
     "text": [
      "Chunk shape before transposing: (360000,)\n",
      "Chunk shape after transposing: (360000,)\n"
     ]
    },
    {
     "name": "stderr",
     "output_type": "stream",
     "text": [
      "INFO:root:Processing chunk 14/15\n"
     ]
    },
    {
     "name": "stdout",
     "output_type": "stream",
     "text": [
      "Chunk shape before transposing: (360000,)\n",
      "Chunk shape after transposing: (360000,)\n"
     ]
    },
    {
     "name": "stderr",
     "output_type": "stream",
     "text": [
      "INFO:root:Processing chunk 15/15\n"
     ]
    },
    {
     "name": "stdout",
     "output_type": "stream",
     "text": [
      "Chunk shape before transposing: (360000,)\n",
      "Chunk shape after transposing: (360000,)\n"
     ]
    },
    {
     "name": "stderr",
     "output_type": "stream",
     "text": [
      "INFO:root:Processing chunk 16/15\n"
     ]
    },
    {
     "name": "stdout",
     "output_type": "stream",
     "text": [
      "Chunk shape before transposing: (191552,)\n",
      "Chunk shape after transposing: (191552,)\n"
     ]
    },
    {
     "name": "stderr",
     "output_type": "stream",
     "text": [
      "WARNING:root:Partial chunk detected. Ignored.\n"
     ]
    },
    {
     "name": "stdout",
     "output_type": "stream",
     "text": [
      "Successfully processed lc_growinup_gettinold.wav\n"
     ]
    },
    {
     "name": "stderr",
     "output_type": "stream",
     "text": [
      "Could not find image processor class in the image processor config or the model config. Loading based on pattern matching with the model's feature extractor configuration.\n"
     ]
    },
    {
     "name": "stdout",
     "output_type": "stream",
     "text": [
      "Processor feature size: 1\n"
     ]
    },
    {
     "name": "stderr",
     "output_type": "stream",
     "text": [
      "INFO:root:Processing chunk 1/15\n"
     ]
    },
    {
     "name": "stdout",
     "output_type": "stream",
     "text": [
      "Audio data shape after loading: (5591552,)\n",
      "Chunk shape before transposing: (360000,)\n",
      "Chunk shape after transposing: (360000,)\n"
     ]
    },
    {
     "name": "stderr",
     "output_type": "stream",
     "text": [
      "INFO:root:Processing chunk 2/15\n"
     ]
    },
    {
     "name": "stdout",
     "output_type": "stream",
     "text": [
      "Chunk shape before transposing: (360000,)\n",
      "Chunk shape after transposing: (360000,)\n"
     ]
    },
    {
     "name": "stderr",
     "output_type": "stream",
     "text": [
      "INFO:root:Processing chunk 3/15\n"
     ]
    },
    {
     "name": "stdout",
     "output_type": "stream",
     "text": [
      "Chunk shape before transposing: (360000,)\n",
      "Chunk shape after transposing: (360000,)\n"
     ]
    },
    {
     "name": "stderr",
     "output_type": "stream",
     "text": [
      "INFO:root:Processing chunk 4/15\n"
     ]
    },
    {
     "name": "stdout",
     "output_type": "stream",
     "text": [
      "Chunk shape before transposing: (360000,)\n",
      "Chunk shape after transposing: (360000,)\n"
     ]
    },
    {
     "name": "stderr",
     "output_type": "stream",
     "text": [
      "INFO:root:Processing chunk 5/15\n"
     ]
    },
    {
     "name": "stdout",
     "output_type": "stream",
     "text": [
      "Chunk shape before transposing: (360000,)\n",
      "Chunk shape after transposing: (360000,)\n"
     ]
    },
    {
     "name": "stderr",
     "output_type": "stream",
     "text": [
      "INFO:root:Processing chunk 6/15\n"
     ]
    },
    {
     "name": "stdout",
     "output_type": "stream",
     "text": [
      "Chunk shape before transposing: (360000,)\n",
      "Chunk shape after transposing: (360000,)\n"
     ]
    },
    {
     "name": "stderr",
     "output_type": "stream",
     "text": [
      "INFO:root:Processing chunk 7/15\n"
     ]
    },
    {
     "name": "stdout",
     "output_type": "stream",
     "text": [
      "Chunk shape before transposing: (360000,)\n",
      "Chunk shape after transposing: (360000,)\n"
     ]
    },
    {
     "name": "stderr",
     "output_type": "stream",
     "text": [
      "INFO:root:Processing chunk 8/15\n"
     ]
    },
    {
     "name": "stdout",
     "output_type": "stream",
     "text": [
      "Chunk shape before transposing: (360000,)\n",
      "Chunk shape after transposing: (360000,)\n"
     ]
    },
    {
     "name": "stderr",
     "output_type": "stream",
     "text": [
      "INFO:root:Processing chunk 9/15\n"
     ]
    },
    {
     "name": "stdout",
     "output_type": "stream",
     "text": [
      "Chunk shape before transposing: (360000,)\n",
      "Chunk shape after transposing: (360000,)\n"
     ]
    },
    {
     "name": "stderr",
     "output_type": "stream",
     "text": [
      "INFO:root:Processing chunk 10/15\n"
     ]
    },
    {
     "name": "stdout",
     "output_type": "stream",
     "text": [
      "Chunk shape before transposing: (360000,)\n",
      "Chunk shape after transposing: (360000,)\n"
     ]
    },
    {
     "name": "stderr",
     "output_type": "stream",
     "text": [
      "INFO:root:Processing chunk 11/15\n"
     ]
    },
    {
     "name": "stdout",
     "output_type": "stream",
     "text": [
      "Chunk shape before transposing: (360000,)\n",
      "Chunk shape after transposing: (360000,)\n"
     ]
    },
    {
     "name": "stderr",
     "output_type": "stream",
     "text": [
      "INFO:root:Processing chunk 12/15\n"
     ]
    },
    {
     "name": "stdout",
     "output_type": "stream",
     "text": [
      "Chunk shape before transposing: (360000,)\n",
      "Chunk shape after transposing: (360000,)\n"
     ]
    },
    {
     "name": "stderr",
     "output_type": "stream",
     "text": [
      "INFO:root:Processing chunk 13/15\n"
     ]
    },
    {
     "name": "stdout",
     "output_type": "stream",
     "text": [
      "Chunk shape before transposing: (360000,)\n",
      "Chunk shape after transposing: (360000,)\n"
     ]
    },
    {
     "name": "stderr",
     "output_type": "stream",
     "text": [
      "INFO:root:Processing chunk 14/15\n"
     ]
    },
    {
     "name": "stdout",
     "output_type": "stream",
     "text": [
      "Chunk shape before transposing: (360000,)\n",
      "Chunk shape after transposing: (360000,)\n"
     ]
    },
    {
     "name": "stderr",
     "output_type": "stream",
     "text": [
      "INFO:root:Processing chunk 15/15\n"
     ]
    },
    {
     "name": "stdout",
     "output_type": "stream",
     "text": [
      "Chunk shape before transposing: (360000,)\n",
      "Chunk shape after transposing: (360000,)\n"
     ]
    },
    {
     "name": "stderr",
     "output_type": "stream",
     "text": [
      "INFO:root:Processing chunk 16/15\n"
     ]
    },
    {
     "name": "stdout",
     "output_type": "stream",
     "text": [
      "Chunk shape before transposing: (191552,)\n",
      "Chunk shape after transposing: (191552,)\n"
     ]
    },
    {
     "name": "stderr",
     "output_type": "stream",
     "text": [
      "WARNING:root:Partial chunk detected. Ignored.\n"
     ]
    },
    {
     "name": "stdout",
     "output_type": "stream",
     "text": [
      "Successfully processed lc_growinup_gettin_old.mp3\n"
     ]
    },
    {
     "name": "stderr",
     "output_type": "stream",
     "text": [
      "Could not find image processor class in the image processor config or the model config. Loading based on pattern matching with the model's feature extractor configuration.\n"
     ]
    },
    {
     "name": "stdout",
     "output_type": "stream",
     "text": [
      "Processor feature size: 1\n"
     ]
    },
    {
     "name": "stderr",
     "output_type": "stream",
     "text": [
      "INFO:root:Processing chunk 1/15\n"
     ]
    },
    {
     "name": "stdout",
     "output_type": "stream",
     "text": [
      "Audio data shape after loading: (5664768,)\n",
      "Chunk shape before transposing: (360000,)\n",
      "Chunk shape after transposing: (360000,)\n"
     ]
    },
    {
     "name": "stderr",
     "output_type": "stream",
     "text": [
      "INFO:root:Processing chunk 2/15\n"
     ]
    },
    {
     "name": "stdout",
     "output_type": "stream",
     "text": [
      "Chunk shape before transposing: (360000,)\n",
      "Chunk shape after transposing: (360000,)\n"
     ]
    },
    {
     "name": "stderr",
     "output_type": "stream",
     "text": [
      "INFO:root:Processing chunk 3/15\n"
     ]
    },
    {
     "name": "stdout",
     "output_type": "stream",
     "text": [
      "Chunk shape before transposing: (360000,)\n",
      "Chunk shape after transposing: (360000,)\n"
     ]
    },
    {
     "name": "stderr",
     "output_type": "stream",
     "text": [
      "INFO:root:Processing chunk 4/15\n"
     ]
    },
    {
     "name": "stdout",
     "output_type": "stream",
     "text": [
      "Chunk shape before transposing: (360000,)\n",
      "Chunk shape after transposing: (360000,)\n"
     ]
    },
    {
     "name": "stderr",
     "output_type": "stream",
     "text": [
      "INFO:root:Processing chunk 5/15\n"
     ]
    },
    {
     "name": "stdout",
     "output_type": "stream",
     "text": [
      "Chunk shape before transposing: (360000,)\n",
      "Chunk shape after transposing: (360000,)\n"
     ]
    },
    {
     "name": "stderr",
     "output_type": "stream",
     "text": [
      "INFO:root:Processing chunk 6/15\n"
     ]
    },
    {
     "name": "stdout",
     "output_type": "stream",
     "text": [
      "Chunk shape before transposing: (360000,)\n",
      "Chunk shape after transposing: (360000,)\n"
     ]
    },
    {
     "name": "stderr",
     "output_type": "stream",
     "text": [
      "INFO:root:Processing chunk 7/15\n"
     ]
    },
    {
     "name": "stdout",
     "output_type": "stream",
     "text": [
      "Chunk shape before transposing: (360000,)\n",
      "Chunk shape after transposing: (360000,)\n"
     ]
    },
    {
     "name": "stderr",
     "output_type": "stream",
     "text": [
      "INFO:root:Processing chunk 8/15\n"
     ]
    },
    {
     "name": "stdout",
     "output_type": "stream",
     "text": [
      "Chunk shape before transposing: (360000,)\n",
      "Chunk shape after transposing: (360000,)\n"
     ]
    },
    {
     "name": "stderr",
     "output_type": "stream",
     "text": [
      "INFO:root:Processing chunk 9/15\n"
     ]
    },
    {
     "name": "stdout",
     "output_type": "stream",
     "text": [
      "Chunk shape before transposing: (360000,)\n",
      "Chunk shape after transposing: (360000,)\n"
     ]
    },
    {
     "name": "stderr",
     "output_type": "stream",
     "text": [
      "INFO:root:Processing chunk 10/15\n"
     ]
    },
    {
     "name": "stdout",
     "output_type": "stream",
     "text": [
      "Chunk shape before transposing: (360000,)\n",
      "Chunk shape after transposing: (360000,)\n"
     ]
    },
    {
     "name": "stderr",
     "output_type": "stream",
     "text": [
      "INFO:root:Processing chunk 11/15\n"
     ]
    },
    {
     "name": "stdout",
     "output_type": "stream",
     "text": [
      "Chunk shape before transposing: (360000,)\n",
      "Chunk shape after transposing: (360000,)\n"
     ]
    },
    {
     "name": "stderr",
     "output_type": "stream",
     "text": [
      "INFO:root:Processing chunk 12/15\n"
     ]
    },
    {
     "name": "stdout",
     "output_type": "stream",
     "text": [
      "Chunk shape before transposing: (360000,)\n",
      "Chunk shape after transposing: (360000,)\n"
     ]
    },
    {
     "name": "stderr",
     "output_type": "stream",
     "text": [
      "INFO:root:Processing chunk 13/15\n"
     ]
    },
    {
     "name": "stdout",
     "output_type": "stream",
     "text": [
      "Chunk shape before transposing: (360000,)\n",
      "Chunk shape after transposing: (360000,)\n"
     ]
    },
    {
     "name": "stderr",
     "output_type": "stream",
     "text": [
      "INFO:root:Processing chunk 14/15\n"
     ]
    },
    {
     "name": "stdout",
     "output_type": "stream",
     "text": [
      "Chunk shape before transposing: (360000,)\n",
      "Chunk shape after transposing: (360000,)\n"
     ]
    },
    {
     "name": "stderr",
     "output_type": "stream",
     "text": [
      "INFO:root:Processing chunk 15/15\n"
     ]
    },
    {
     "name": "stdout",
     "output_type": "stream",
     "text": [
      "Chunk shape before transposing: (360000,)\n",
      "Chunk shape after transposing: (360000,)\n"
     ]
    },
    {
     "name": "stderr",
     "output_type": "stream",
     "text": [
      "INFO:root:Processing chunk 16/15\n"
     ]
    },
    {
     "name": "stdout",
     "output_type": "stream",
     "text": [
      "Chunk shape before transposing: (264768,)\n",
      "Chunk shape after transposing: (264768,)\n"
     ]
    },
    {
     "name": "stderr",
     "output_type": "stream",
     "text": [
      "WARNING:root:Partial chunk detected. Ignored.\n"
     ]
    },
    {
     "name": "stdout",
     "output_type": "stream",
     "text": [
      "Successfully processed lc_hurricane.wav\n"
     ]
    }
   ],
   "source": [
    "# Create a dataframe from encoding the audio files\n",
    "# in the \"./audio_files/artist_main/\" folder\n",
    "df = encode_and_upsert(\"./audio_files/artist_main/\")"
   ]
  },
  {
   "cell_type": "code",
   "execution_count": 5,
   "metadata": {},
   "outputs": [],
   "source": [
    "# Change the name of the \"encoded_audio\" column to \"values\"\n",
    "# and the \"segment\" column to \"id\"\n",
    "df = df.rename(columns={\"encoded_audio\": \"values\", \"segment\": \"id\"})"
   ]
  },
  {
   "cell_type": "code",
   "execution_count": 11,
   "metadata": {},
   "outputs": [],
   "source": [
    "df[\"id\"] = df[\"id\"].astype(str)\n",
    "df[\"id\"] = df[\"id\"] + f'_{df[\"song\"]}'"
   ]
  },
  {
   "cell_type": "code",
   "execution_count": 14,
   "metadata": {},
   "outputs": [],
   "source": [
    "df[[\"id\", \"song\"]].to_csv(\"song_ids.csv\", index=False)"
   ]
  },
  {
   "cell_type": "code",
   "execution_count": 18,
   "metadata": {},
   "outputs": [
    {
     "data": {
      "text/html": [
       "<div>\n",
       "<style scoped>\n",
       "    .dataframe tbody tr th:only-of-type {\n",
       "        vertical-align: middle;\n",
       "    }\n",
       "\n",
       "    .dataframe tbody tr th {\n",
       "        vertical-align: top;\n",
       "    }\n",
       "\n",
       "    .dataframe thead th {\n",
       "        text-align: right;\n",
       "    }\n",
       "</style>\n",
       "<table border=\"1\" class=\"dataframe\">\n",
       "  <thead>\n",
       "    <tr style=\"text-align: right;\">\n",
       "      <th></th>\n",
       "      <th>id</th>\n",
       "      <th>song</th>\n",
       "    </tr>\n",
       "  </thead>\n",
       "  <tbody>\n",
       "    <tr>\n",
       "      <th>0</th>\n",
       "      <td>0_0      \"Ain't Far From It\"\\n1      \"Ain't Fa...</td>\n",
       "      <td>\"Ain't Far From It\"</td>\n",
       "    </tr>\n",
       "    <tr>\n",
       "      <th>1</th>\n",
       "      <td>1_0      \"Ain't Far From It\"\\n1      \"Ain't Fa...</td>\n",
       "      <td>\"Ain't Far From It\"</td>\n",
       "    </tr>\n",
       "    <tr>\n",
       "      <th>2</th>\n",
       "      <td>2_0      \"Ain't Far From It\"\\n1      \"Ain't Fa...</td>\n",
       "      <td>\"Ain't Far From It\"</td>\n",
       "    </tr>\n",
       "    <tr>\n",
       "      <th>3</th>\n",
       "      <td>3_0      \"Ain't Far From It\"\\n1      \"Ain't Fa...</td>\n",
       "      <td>\"Ain't Far From It\"</td>\n",
       "    </tr>\n",
       "    <tr>\n",
       "      <th>4</th>\n",
       "      <td>4_0      \"Ain't Far From It\"\\n1      \"Ain't Fa...</td>\n",
       "      <td>\"Ain't Far From It\"</td>\n",
       "    </tr>\n",
       "  </tbody>\n",
       "</table>\n",
       "</div>"
      ],
      "text/plain": [
       "                                                  id                 song\n",
       "0  0_0      \"Ain't Far From It\"\\n1      \"Ain't Fa...  \"Ain't Far From It\"\n",
       "1  1_0      \"Ain't Far From It\"\\n1      \"Ain't Fa...  \"Ain't Far From It\"\n",
       "2  2_0      \"Ain't Far From It\"\\n1      \"Ain't Fa...  \"Ain't Far From It\"\n",
       "3  3_0      \"Ain't Far From It\"\\n1      \"Ain't Fa...  \"Ain't Far From It\"\n",
       "4  4_0      \"Ain't Far From It\"\\n1      \"Ain't Fa...  \"Ain't Far From It\""
      ]
     },
     "execution_count": 18,
     "metadata": {},
     "output_type": "execute_result"
    }
   ],
   "source": [
    "import pandas as pd\n",
    "songs_df = pd.read_csv(\"song_ids.csv\")\n",
    "songs_df.head()"
   ]
  },
  {
   "cell_type": "code",
   "execution_count": 19,
   "metadata": {},
   "outputs": [],
   "source": [
    "# Convert the \"id\" column values to the song value + the segment value\n",
    "songs_df[\"id\"] = songs_df[\"id\"].astype(str)\n",
    "songs_df[\"id\"] = songs_df[\"id\"] + f'_{songs_df[\"song\"]}'\n"
   ]
  },
  {
   "cell_type": "code",
   "execution_count": 22,
   "metadata": {},
   "outputs": [],
   "source": [
    "# Create an \"artist\" column\n",
    "songs_df[\"artist\"] = \"Luke Combs\""
   ]
  },
  {
   "cell_type": "code",
   "execution_count": 24,
   "metadata": {},
   "outputs": [],
   "source": [
    "# Create a \"metadata\" column that contains the \"song\" and\n",
    "# \"artist\" values for each row\n",
    "songs_df[\"metadata\"] = {\"song\": songs_df[\"song\"], \"artist\": songs_df[\"artist\"]}"
   ]
  },
  {
   "cell_type": "code",
   "execution_count": 27,
   "metadata": {},
   "outputs": [],
   "source": [
    "for i in range(0, len(songs_df)):\n",
    "    songs_df[\"metadata\"][i] = {\"song\": songs_df[\"song\"][i], \"artist\": songs_df[\"artist\"][i]}"
   ]
  },
  {
   "cell_type": "code",
   "execution_count": 29,
   "metadata": {},
   "outputs": [],
   "source": [
    "# Drop the \"song\" and \"artist\" columns\n",
    "songs_df = songs_df.drop(columns=[\"song\", \"artist\"])\n",
    "\n"
   ]
  },
  {
   "cell_type": "code",
   "execution_count": 47,
   "metadata": {},
   "outputs": [],
   "source": [
    "df[\"id\"] = df.index.astype(str)\n"
   ]
  },
  {
   "cell_type": "code",
   "execution_count": 33,
   "metadata": {},
   "outputs": [],
   "source": [
    "# Drop the \"song\" column\n",
    "df = df.drop(columns=[\"song\"])"
   ]
  },
  {
   "cell_type": "code",
   "execution_count": 34,
   "metadata": {},
   "outputs": [
    {
     "data": {
      "text/html": [
       "<div>\n",
       "<style scoped>\n",
       "    .dataframe tbody tr th:only-of-type {\n",
       "        vertical-align: middle;\n",
       "    }\n",
       "\n",
       "    .dataframe tbody tr th {\n",
       "        vertical-align: top;\n",
       "    }\n",
       "\n",
       "    .dataframe thead th {\n",
       "        text-align: right;\n",
       "    }\n",
       "</style>\n",
       "<table border=\"1\" class=\"dataframe\">\n",
       "  <thead>\n",
       "    <tr style=\"text-align: right;\">\n",
       "      <th></th>\n",
       "      <th>id</th>\n",
       "      <th>values</th>\n",
       "      <th>metadata</th>\n",
       "    </tr>\n",
       "  </thead>\n",
       "  <tbody>\n",
       "    <tr>\n",
       "      <th>0</th>\n",
       "      <td>0_0      \"Ain't Far From It\"\\n1      \"Ain't Fa...</td>\n",
       "      <td>[62, 62, 62, 62, 408, 408, 62, 408, 62, 408, 6...</td>\n",
       "      <td>{'song': '\"Ain't Far From It\"', 'artist': 'Luk...</td>\n",
       "    </tr>\n",
       "    <tr>\n",
       "      <th>1</th>\n",
       "      <td>1_0      \"Ain't Far From It\"\\n1      \"Ain't Fa...</td>\n",
       "      <td>[104, 381, 498, 4, 4, 713, 713, 485, 485, 413,...</td>\n",
       "      <td>{'song': '\"Ain't Far From It\"', 'artist': 'Luk...</td>\n",
       "    </tr>\n",
       "    <tr>\n",
       "      <th>2</th>\n",
       "      <td>2_0      \"Ain't Far From It\"\\n1      \"Ain't Fa...</td>\n",
       "      <td>[211, 2, 809, 152, 364, 141, 302, 622, 85, 713...</td>\n",
       "      <td>{'song': '\"Ain't Far From It\"', 'artist': 'Luk...</td>\n",
       "    </tr>\n",
       "    <tr>\n",
       "      <th>3</th>\n",
       "      <td>3_0      \"Ain't Far From It\"\\n1      \"Ain't Fa...</td>\n",
       "      <td>[608, 518, 468, 686, 715, 108, 1008, 226, 231,...</td>\n",
       "      <td>{'song': '\"Ain't Far From It\"', 'artist': 'Luk...</td>\n",
       "    </tr>\n",
       "    <tr>\n",
       "      <th>4</th>\n",
       "      <td>4_0      \"Ain't Far From It\"\\n1      \"Ain't Fa...</td>\n",
       "      <td>[715, 4, 580, 713, 713, 109, 169, 585, 734, 58...</td>\n",
       "      <td>{'song': '\"Ain't Far From It\"', 'artist': 'Luk...</td>\n",
       "    </tr>\n",
       "  </tbody>\n",
       "</table>\n",
       "</div>"
      ],
      "text/plain": [
       "                                                  id  \\\n",
       "0  0_0      \"Ain't Far From It\"\\n1      \"Ain't Fa...   \n",
       "1  1_0      \"Ain't Far From It\"\\n1      \"Ain't Fa...   \n",
       "2  2_0      \"Ain't Far From It\"\\n1      \"Ain't Fa...   \n",
       "3  3_0      \"Ain't Far From It\"\\n1      \"Ain't Fa...   \n",
       "4  4_0      \"Ain't Far From It\"\\n1      \"Ain't Fa...   \n",
       "\n",
       "                                              values  \\\n",
       "0  [62, 62, 62, 62, 408, 408, 62, 408, 62, 408, 6...   \n",
       "1  [104, 381, 498, 4, 4, 713, 713, 485, 485, 413,...   \n",
       "2  [211, 2, 809, 152, 364, 141, 302, 622, 85, 713...   \n",
       "3  [608, 518, 468, 686, 715, 108, 1008, 226, 231,...   \n",
       "4  [715, 4, 580, 713, 713, 109, 169, 585, 734, 58...   \n",
       "\n",
       "                                            metadata  \n",
       "0  {'song': '\"Ain't Far From It\"', 'artist': 'Luk...  \n",
       "1  {'song': '\"Ain't Far From It\"', 'artist': 'Luk...  \n",
       "2  {'song': '\"Ain't Far From It\"', 'artist': 'Luk...  \n",
       "3  {'song': '\"Ain't Far From It\"', 'artist': 'Luk...  \n",
       "4  {'song': '\"Ain't Far From It\"', 'artist': 'Luk...  "
      ]
     },
     "execution_count": 34,
     "metadata": {},
     "output_type": "execute_result"
    }
   ],
   "source": [
    "df.head()"
   ]
  },
  {
   "cell_type": "code",
   "execution_count": 48,
   "metadata": {},
   "outputs": [],
   "source": [
    "data = df.to_dict(orient=\"records\")"
   ]
  },
  {
   "cell_type": "code",
   "execution_count": 51,
   "metadata": {},
   "outputs": [
    {
     "data": {
      "text/plain": [
       "numpy.ndarray"
      ]
     },
     "execution_count": 51,
     "metadata": {},
     "output_type": "execute_result"
    }
   ],
   "source": [
    "type(df[\"values\"][0])"
   ]
  },
  {
   "cell_type": "code",
   "execution_count": 43,
   "metadata": {},
   "outputs": [],
   "source": [
    "for i, vector in enumerate(data):\n",
    "    if len(vector[\"values\"]) != 2250:\n",
    "        print(i, len(vector[\"values\"]))"
   ]
  },
  {
   "cell_type": "code",
   "execution_count": 52,
   "metadata": {},
   "outputs": [],
   "source": [
    "new_df = df.copy()\n",
    "# Convert the numpy arrays in the \"values\" column \n",
    "# from type int to type float\n",
    "for i in range(0, len(new_df)):\n",
    "    new_df[\"values\"][i] = new_df[\"values\"][i].astype(float) \n"
   ]
  },
  {
   "cell_type": "code",
   "execution_count": 54,
   "metadata": {},
   "outputs": [],
   "source": [
    "data = new_df.to_dict(orient=\"records\")"
   ]
  },
  {
   "cell_type": "code",
   "execution_count": 55,
   "metadata": {},
   "outputs": [
    {
     "data": {
      "application/vnd.jupyter.widget-view+json": {
       "model_id": "8ea67265895f4ed68385884446c866a0",
       "version_major": 2,
       "version_minor": 0
      },
      "text/plain": [
       "Upserted vectors:   0%|          | 0/104 [00:00<?, ?it/s]"
      ]
     },
     "metadata": {},
     "output_type": "display_data"
    },
    {
     "name": "stderr",
     "output_type": "stream",
     "text": [
      "c:\\Users\\sjufa\\anaconda3\\envs\\py310\\lib\\site-packages\\pinecone\\core\\utils\\__init__.py:111: FutureWarning: DEPRECATED since v2.2.1 [Will be removed in v3.0.0]: Deprecated type passed in 'values'. The ability to pass a numpy ndarray as part of a dictionary argument to upsert() will be removed in a future version of the pinecone client. To remove this warning, use the numpy.ndarray.tolist method to convert your ndarray into a python list before calling upsert().\n",
      "  warnings.warn(message, FutureWarning)\n"
     ]
    },
    {
     "data": {
      "text/plain": [
       "{'upserted_count': 104}"
      ]
     },
     "execution_count": 55,
     "metadata": {},
     "output_type": "execute_result"
    }
   ],
   "source": [
    "index = pinecone.Index(index_name=\"combs-clips\")\n",
    "index.upsert(vectors=data, batch_size=25)"
   ]
  },
  {
   "cell_type": "markdown",
   "metadata": {},
   "source": []
  },
  {
   "cell_type": "code",
   "execution_count": 30,
   "metadata": {},
   "outputs": [
    {
     "name": "stderr",
     "output_type": "stream",
     "text": [
      "Could not find image processor class in the image processor config or the model config. Loading based on pattern matching with the model's feature extractor configuration.\n",
      "Could not find image processor class in the image processor config or the model config. Loading based on pattern matching with the model's feature extractor configuration.\n",
      "Could not find image processor class in the image processor config or the model config. Loading based on pattern matching with the model's feature extractor configuration.\n",
      "Could not find image processor class in the image processor config or the model config. Loading based on pattern matching with the model's feature extractor configuration.\n",
      "Could not find image processor class in the image processor config or the model config. Loading based on pattern matching with the model's feature extractor configuration.\n",
      "Could not find image processor class in the image processor config or the model config. Loading based on pattern matching with the model's feature extractor configuration.\n",
      "Could not find image processor class in the image processor config or the model config. Loading based on pattern matching with the model's feature extractor configuration.\n",
      "Could not find image processor class in the image processor config or the model config. Loading based on pattern matching with the model's feature extractor configuration.\n",
      "Could not find image processor class in the image processor config or the model config. Loading based on pattern matching with the model's feature extractor configuration.\n",
      "Could not find image processor class in the image processor config or the model config. Loading based on pattern matching with the model's feature extractor configuration.\n",
      "Could not find image processor class in the image processor config or the model config. Loading based on pattern matching with the model's feature extractor configuration.\n",
      "Could not find image processor class in the image processor config or the model config. Loading based on pattern matching with the model's feature extractor configuration.\n",
      "Could not find image processor class in the image processor config or the model config. Loading based on pattern matching with the model's feature extractor configuration.\n",
      "Could not find image processor class in the image processor config or the model config. Loading based on pattern matching with the model's feature extractor configuration.\n",
      "Could not find image processor class in the image processor config or the model config. Loading based on pattern matching with the model's feature extractor configuration.\n",
      "Could not find image processor class in the image processor config or the model config. Loading based on pattern matching with the model's feature extractor configuration.\n"
     ]
    },
    {
     "name": "stdout",
     "output_type": "stream",
     "text": [
      "Error encoding audio sample #  15\n"
     ]
    },
    {
     "name": "stderr",
     "output_type": "stream",
     "text": [
      "Could not find image processor class in the image processor config or the model config. Loading based on pattern matching with the model's feature extractor configuration.\n"
     ]
    },
    {
     "name": "stdout",
     "output_type": "stream",
     "text": [
      "Error encoding audio sample #  16\n"
     ]
    },
    {
     "name": "stderr",
     "output_type": "stream",
     "text": [
      "Could not find image processor class in the image processor config or the model config. Loading based on pattern matching with the model's feature extractor configuration.\n"
     ]
    },
    {
     "name": "stdout",
     "output_type": "stream",
     "text": [
      "Error encoding audio sample #  17\n"
     ]
    },
    {
     "name": "stderr",
     "output_type": "stream",
     "text": [
      "Could not find image processor class in the image processor config or the model config. Loading based on pattern matching with the model's feature extractor configuration.\n"
     ]
    },
    {
     "name": "stdout",
     "output_type": "stream",
     "text": [
      "Error encoding audio sample #  18\n"
     ]
    },
    {
     "name": "stderr",
     "output_type": "stream",
     "text": [
      "Could not find image processor class in the image processor config or the model config. Loading based on pattern matching with the model's feature extractor configuration.\n"
     ]
    },
    {
     "name": "stdout",
     "output_type": "stream",
     "text": [
      "Error encoding audio sample #  19\n"
     ]
    }
   ],
   "source": [
    "# Iterate through the audio data and encode each segment\n",
    "i = 0\n",
    "encoded_audio = []\n",
    "audio_codes = []\n",
    "audio_values = []\n",
    "failed_samples = [] \n",
    "for audio_sample in audio_data:\n",
    "    try:\n",
    "        encoder_outputs, audio_code, audio_value = encode_samples(audio_sample)\n",
    "        encoded_audio.append(encoder_outputs)\n",
    "        audio_codes.append(audio_code)\n",
    "        audio_values.append(audio_value)\n",
    "    except:\n",
    "        print(\"Error encoding audio sample # \", i)\n",
    "        failed_samples.append(i)\n",
    "        pass\n",
    "    i += 1\n",
    "\n",
    "# Append the encoded audio and audio codes to the metadata\n",
    "# for all rows except the ones that failed\n",
    "#audio_metadata['encoded_audio'] = encoded_audio\n",
    "#audio_metadata['audio_codes'] = audio_codes\n",
    "\n",
    "\n"
   ]
  },
  {
   "cell_type": "code",
   "execution_count": 32,
   "metadata": {},
   "outputs": [],
   "source": [
    "metadata = audio_metadata.iloc[:15]"
   ]
  },
  {
   "cell_type": "code",
   "execution_count": 33,
   "metadata": {},
   "outputs": [
    {
     "data": {
      "text/html": [
       "<div>\n",
       "<style scoped>\n",
       "    .dataframe tbody tr th:only-of-type {\n",
       "        vertical-align: middle;\n",
       "    }\n",
       "\n",
       "    .dataframe tbody tr th {\n",
       "        vertical-align: top;\n",
       "    }\n",
       "\n",
       "    .dataframe thead th {\n",
       "        text-align: right;\n",
       "    }\n",
       "</style>\n",
       "<table border=\"1\" class=\"dataframe\">\n",
       "  <thead>\n",
       "    <tr style=\"text-align: right;\">\n",
       "      <th></th>\n",
       "      <th>file</th>\n",
       "      <th>segment_id</th>\n",
       "      <th>start_time</th>\n",
       "      <th>end_time</th>\n",
       "    </tr>\n",
       "  </thead>\n",
       "  <tbody>\n",
       "    <tr>\n",
       "      <th>0</th>\n",
       "      <td>./audio_files/artist_main\\lc_beautiful_crazy.wav</td>\n",
       "      <td>0</td>\n",
       "      <td>0</td>\n",
       "      <td>15</td>\n",
       "    </tr>\n",
       "    <tr>\n",
       "      <th>1</th>\n",
       "      <td>./audio_files/artist_main\\lc_beautiful_crazy.wav</td>\n",
       "      <td>1</td>\n",
       "      <td>15</td>\n",
       "      <td>30</td>\n",
       "    </tr>\n",
       "    <tr>\n",
       "      <th>2</th>\n",
       "      <td>./audio_files/artist_main\\lc_beautiful_crazy.wav</td>\n",
       "      <td>2</td>\n",
       "      <td>30</td>\n",
       "      <td>45</td>\n",
       "    </tr>\n",
       "    <tr>\n",
       "      <th>3</th>\n",
       "      <td>./audio_files/artist_main\\lc_beautiful_crazy.wav</td>\n",
       "      <td>3</td>\n",
       "      <td>45</td>\n",
       "      <td>60</td>\n",
       "    </tr>\n",
       "    <tr>\n",
       "      <th>4</th>\n",
       "      <td>./audio_files/artist_main\\lc_beautiful_crazy.wav</td>\n",
       "      <td>4</td>\n",
       "      <td>60</td>\n",
       "      <td>75</td>\n",
       "    </tr>\n",
       "    <tr>\n",
       "      <th>5</th>\n",
       "      <td>./audio_files/artist_main\\lc_fastcar.wav</td>\n",
       "      <td>0</td>\n",
       "      <td>0</td>\n",
       "      <td>15</td>\n",
       "    </tr>\n",
       "    <tr>\n",
       "      <th>6</th>\n",
       "      <td>./audio_files/artist_main\\lc_fastcar.wav</td>\n",
       "      <td>1</td>\n",
       "      <td>15</td>\n",
       "      <td>30</td>\n",
       "    </tr>\n",
       "    <tr>\n",
       "      <th>7</th>\n",
       "      <td>./audio_files/artist_main\\lc_fastcar.wav</td>\n",
       "      <td>2</td>\n",
       "      <td>30</td>\n",
       "      <td>45</td>\n",
       "    </tr>\n",
       "    <tr>\n",
       "      <th>8</th>\n",
       "      <td>./audio_files/artist_main\\lc_fastcar.wav</td>\n",
       "      <td>3</td>\n",
       "      <td>45</td>\n",
       "      <td>60</td>\n",
       "    </tr>\n",
       "    <tr>\n",
       "      <th>9</th>\n",
       "      <td>./audio_files/artist_main\\lc_fastcar.wav</td>\n",
       "      <td>4</td>\n",
       "      <td>60</td>\n",
       "      <td>75</td>\n",
       "    </tr>\n",
       "    <tr>\n",
       "      <th>10</th>\n",
       "      <td>./audio_files/artist_main\\lc_growinup_gettinol...</td>\n",
       "      <td>0</td>\n",
       "      <td>0</td>\n",
       "      <td>15</td>\n",
       "    </tr>\n",
       "    <tr>\n",
       "      <th>11</th>\n",
       "      <td>./audio_files/artist_main\\lc_growinup_gettinol...</td>\n",
       "      <td>1</td>\n",
       "      <td>15</td>\n",
       "      <td>30</td>\n",
       "    </tr>\n",
       "    <tr>\n",
       "      <th>12</th>\n",
       "      <td>./audio_files/artist_main\\lc_growinup_gettinol...</td>\n",
       "      <td>2</td>\n",
       "      <td>30</td>\n",
       "      <td>45</td>\n",
       "    </tr>\n",
       "    <tr>\n",
       "      <th>13</th>\n",
       "      <td>./audio_files/artist_main\\lc_growinup_gettinol...</td>\n",
       "      <td>3</td>\n",
       "      <td>45</td>\n",
       "      <td>60</td>\n",
       "    </tr>\n",
       "    <tr>\n",
       "      <th>14</th>\n",
       "      <td>./audio_files/artist_main\\lc_growinup_gettinol...</td>\n",
       "      <td>4</td>\n",
       "      <td>60</td>\n",
       "      <td>75</td>\n",
       "    </tr>\n",
       "  </tbody>\n",
       "</table>\n",
       "</div>"
      ],
      "text/plain": [
       "                                                 file  segment_id  start_time  \\\n",
       "0    ./audio_files/artist_main\\lc_beautiful_crazy.wav           0           0   \n",
       "1    ./audio_files/artist_main\\lc_beautiful_crazy.wav           1          15   \n",
       "2    ./audio_files/artist_main\\lc_beautiful_crazy.wav           2          30   \n",
       "3    ./audio_files/artist_main\\lc_beautiful_crazy.wav           3          45   \n",
       "4    ./audio_files/artist_main\\lc_beautiful_crazy.wav           4          60   \n",
       "5            ./audio_files/artist_main\\lc_fastcar.wav           0           0   \n",
       "6            ./audio_files/artist_main\\lc_fastcar.wav           1          15   \n",
       "7            ./audio_files/artist_main\\lc_fastcar.wav           2          30   \n",
       "8            ./audio_files/artist_main\\lc_fastcar.wav           3          45   \n",
       "9            ./audio_files/artist_main\\lc_fastcar.wav           4          60   \n",
       "10  ./audio_files/artist_main\\lc_growinup_gettinol...           0           0   \n",
       "11  ./audio_files/artist_main\\lc_growinup_gettinol...           1          15   \n",
       "12  ./audio_files/artist_main\\lc_growinup_gettinol...           2          30   \n",
       "13  ./audio_files/artist_main\\lc_growinup_gettinol...           3          45   \n",
       "14  ./audio_files/artist_main\\lc_growinup_gettinol...           4          60   \n",
       "\n",
       "    end_time  \n",
       "0         15  \n",
       "1         30  \n",
       "2         45  \n",
       "3         60  \n",
       "4         75  \n",
       "5         15  \n",
       "6         30  \n",
       "7         45  \n",
       "8         60  \n",
       "9         75  \n",
       "10        15  \n",
       "11        30  \n",
       "12        45  \n",
       "13        60  \n",
       "14        75  "
      ]
     },
     "execution_count": 33,
     "metadata": {},
     "output_type": "execute_result"
    }
   ],
   "source": [
    "metadata"
   ]
  },
  {
   "cell_type": "code",
   "execution_count": 35,
   "metadata": {},
   "outputs": [
    {
     "data": {
      "text/plain": [
       "tensor([[[ 2.7884e-04, -2.5038e-04,  4.6636e-05,  ..., -4.8360e-03,\n",
       "          -5.7032e-03, -5.0412e-03]]], grad_fn=<ConvolutionBackward0>)"
      ]
     },
     "execution_count": 35,
     "metadata": {},
     "output_type": "execute_result"
    }
   ],
   "source": [
    "audio_values[0]"
   ]
  },
  {
   "cell_type": "code",
   "execution_count": 34,
   "metadata": {},
   "outputs": [
    {
     "ename": "RuntimeError",
     "evalue": "Can't call numpy() on Tensor that requires grad. Use tensor.detach().numpy() instead.",
     "output_type": "error",
     "traceback": [
      "\u001b[1;31m---------------------------------------------------------------------------\u001b[0m",
      "\u001b[1;31mRuntimeError\u001b[0m                              Traceback (most recent call last)",
      "Cell \u001b[1;32mIn[34], line 4\u001b[0m\n\u001b[0;32m      2\u001b[0m df[\u001b[39m'\u001b[39m\u001b[39mencoded_audio\u001b[39m\u001b[39m'\u001b[39m] \u001b[39m=\u001b[39m encoded_audio\n\u001b[0;32m      3\u001b[0m df[\u001b[39m'\u001b[39m\u001b[39maudio_codes\u001b[39m\u001b[39m'\u001b[39m] \u001b[39m=\u001b[39m audio_codes\n\u001b[1;32m----> 4\u001b[0m df[\u001b[39m'\u001b[39m\u001b[39maudio_values\u001b[39m\u001b[39m'\u001b[39m] \u001b[39m=\u001b[39m audio_values\n\u001b[0;32m      5\u001b[0m df[\u001b[39m\"\u001b[39m\u001b[39mSong Title\u001b[39m\u001b[39m\"\u001b[39m] \u001b[39m=\u001b[39m \u001b[39m\"\u001b[39m\u001b[39m\"\u001b[39m\n",
      "File \u001b[1;32mc:\\Users\\sjufa\\anaconda3\\envs\\py310\\lib\\site-packages\\pandas\\core\\frame.py:3950\u001b[0m, in \u001b[0;36mDataFrame.__setitem__\u001b[1;34m(self, key, value)\u001b[0m\n\u001b[0;32m   3947\u001b[0m     \u001b[39mself\u001b[39m\u001b[39m.\u001b[39m_setitem_array([key], value)\n\u001b[0;32m   3948\u001b[0m \u001b[39melse\u001b[39;00m:\n\u001b[0;32m   3949\u001b[0m     \u001b[39m# set column\u001b[39;00m\n\u001b[1;32m-> 3950\u001b[0m     \u001b[39mself\u001b[39;49m\u001b[39m.\u001b[39;49m_set_item(key, value)\n",
      "File \u001b[1;32mc:\\Users\\sjufa\\anaconda3\\envs\\py310\\lib\\site-packages\\pandas\\core\\frame.py:4143\u001b[0m, in \u001b[0;36mDataFrame._set_item\u001b[1;34m(self, key, value)\u001b[0m\n\u001b[0;32m   4133\u001b[0m \u001b[39mdef\u001b[39;00m \u001b[39m_set_item\u001b[39m(\u001b[39mself\u001b[39m, key, value) \u001b[39m-\u001b[39m\u001b[39m>\u001b[39m \u001b[39mNone\u001b[39;00m:\n\u001b[0;32m   4134\u001b[0m \u001b[39m    \u001b[39m\u001b[39m\"\"\"\u001b[39;00m\n\u001b[0;32m   4135\u001b[0m \u001b[39m    Add series to DataFrame in specified column.\u001b[39;00m\n\u001b[0;32m   4136\u001b[0m \n\u001b[1;32m   (...)\u001b[0m\n\u001b[0;32m   4141\u001b[0m \u001b[39m    ensure homogeneity.\u001b[39;00m\n\u001b[0;32m   4142\u001b[0m \u001b[39m    \"\"\"\u001b[39;00m\n\u001b[1;32m-> 4143\u001b[0m     value \u001b[39m=\u001b[39m \u001b[39mself\u001b[39;49m\u001b[39m.\u001b[39;49m_sanitize_column(value)\n\u001b[0;32m   4145\u001b[0m     \u001b[39mif\u001b[39;00m (\n\u001b[0;32m   4146\u001b[0m         key \u001b[39min\u001b[39;00m \u001b[39mself\u001b[39m\u001b[39m.\u001b[39mcolumns\n\u001b[0;32m   4147\u001b[0m         \u001b[39mand\u001b[39;00m value\u001b[39m.\u001b[39mndim \u001b[39m==\u001b[39m \u001b[39m1\u001b[39m\n\u001b[0;32m   4148\u001b[0m         \u001b[39mand\u001b[39;00m \u001b[39mnot\u001b[39;00m is_extension_array_dtype(value)\n\u001b[0;32m   4149\u001b[0m     ):\n\u001b[0;32m   4150\u001b[0m         \u001b[39m# broadcast across multiple columns if necessary\u001b[39;00m\n\u001b[0;32m   4151\u001b[0m         \u001b[39mif\u001b[39;00m \u001b[39mnot\u001b[39;00m \u001b[39mself\u001b[39m\u001b[39m.\u001b[39mcolumns\u001b[39m.\u001b[39mis_unique \u001b[39mor\u001b[39;00m \u001b[39misinstance\u001b[39m(\u001b[39mself\u001b[39m\u001b[39m.\u001b[39mcolumns, MultiIndex):\n",
      "File \u001b[1;32mc:\\Users\\sjufa\\anaconda3\\envs\\py310\\lib\\site-packages\\pandas\\core\\frame.py:4871\u001b[0m, in \u001b[0;36mDataFrame._sanitize_column\u001b[1;34m(self, value)\u001b[0m\n\u001b[0;32m   4869\u001b[0m \u001b[39mif\u001b[39;00m is_list_like(value):\n\u001b[0;32m   4870\u001b[0m     com\u001b[39m.\u001b[39mrequire_length_match(value, \u001b[39mself\u001b[39m\u001b[39m.\u001b[39mindex)\n\u001b[1;32m-> 4871\u001b[0m \u001b[39mreturn\u001b[39;00m sanitize_array(value, \u001b[39mself\u001b[39;49m\u001b[39m.\u001b[39;49mindex, copy\u001b[39m=\u001b[39;49m\u001b[39mTrue\u001b[39;49;00m, allow_2d\u001b[39m=\u001b[39;49m\u001b[39mTrue\u001b[39;49;00m)\n",
      "File \u001b[1;32mc:\\Users\\sjufa\\anaconda3\\envs\\py310\\lib\\site-packages\\pandas\\core\\construction.py:602\u001b[0m, in \u001b[0;36msanitize_array\u001b[1;34m(data, index, dtype, copy, allow_2d)\u001b[0m\n\u001b[0;32m    599\u001b[0m     subarr \u001b[39m=\u001b[39m _try_cast(data, dtype, copy)\n\u001b[0;32m    601\u001b[0m \u001b[39melse\u001b[39;00m:\n\u001b[1;32m--> 602\u001b[0m     subarr \u001b[39m=\u001b[39m maybe_convert_platform(data)\n\u001b[0;32m    603\u001b[0m     \u001b[39mif\u001b[39;00m subarr\u001b[39m.\u001b[39mdtype \u001b[39m==\u001b[39m \u001b[39mobject\u001b[39m:\n\u001b[0;32m    604\u001b[0m         subarr \u001b[39m=\u001b[39m cast(np\u001b[39m.\u001b[39mndarray, subarr)\n",
      "File \u001b[1;32mc:\\Users\\sjufa\\anaconda3\\envs\\py310\\lib\\site-packages\\pandas\\core\\dtypes\\cast.py:130\u001b[0m, in \u001b[0;36mmaybe_convert_platform\u001b[1;34m(values)\u001b[0m\n\u001b[0;32m    127\u001b[0m arr: ArrayLike\n\u001b[0;32m    129\u001b[0m \u001b[39mif\u001b[39;00m \u001b[39misinstance\u001b[39m(values, (\u001b[39mlist\u001b[39m, \u001b[39mtuple\u001b[39m, \u001b[39mrange\u001b[39m)):\n\u001b[1;32m--> 130\u001b[0m     arr \u001b[39m=\u001b[39m construct_1d_object_array_from_listlike(values)\n\u001b[0;32m    131\u001b[0m \u001b[39melse\u001b[39;00m:\n\u001b[0;32m    132\u001b[0m     \u001b[39m# The caller is responsible for ensuring that we have np.ndarray\u001b[39;00m\n\u001b[0;32m    133\u001b[0m     \u001b[39m#  or ExtensionArray here.\u001b[39;00m\n\u001b[0;32m    134\u001b[0m     arr \u001b[39m=\u001b[39m values\n",
      "File \u001b[1;32mc:\\Users\\sjufa\\anaconda3\\envs\\py310\\lib\\site-packages\\pandas\\core\\dtypes\\cast.py:1594\u001b[0m, in \u001b[0;36mconstruct_1d_object_array_from_listlike\u001b[1;34m(values)\u001b[0m\n\u001b[0;32m   1591\u001b[0m \u001b[39m# numpy will try to interpret nested lists as further dimensions, hence\u001b[39;00m\n\u001b[0;32m   1592\u001b[0m \u001b[39m# making a 1D array that contains list-likes is a bit tricky:\u001b[39;00m\n\u001b[0;32m   1593\u001b[0m result \u001b[39m=\u001b[39m np\u001b[39m.\u001b[39mempty(\u001b[39mlen\u001b[39m(values), dtype\u001b[39m=\u001b[39m\u001b[39m\"\u001b[39m\u001b[39mobject\u001b[39m\u001b[39m\"\u001b[39m)\n\u001b[1;32m-> 1594\u001b[0m result[:] \u001b[39m=\u001b[39m values\n\u001b[0;32m   1595\u001b[0m \u001b[39mreturn\u001b[39;00m result\n",
      "File \u001b[1;32mc:\\Users\\sjufa\\anaconda3\\envs\\py310\\lib\\site-packages\\torch\\_tensor.py:972\u001b[0m, in \u001b[0;36mTensor.__array__\u001b[1;34m(self, dtype)\u001b[0m\n\u001b[0;32m    970\u001b[0m     \u001b[39mreturn\u001b[39;00m \u001b[39mself\u001b[39m\u001b[39m.\u001b[39mnumpy()\n\u001b[0;32m    971\u001b[0m \u001b[39melse\u001b[39;00m:\n\u001b[1;32m--> 972\u001b[0m     \u001b[39mreturn\u001b[39;00m \u001b[39mself\u001b[39;49m\u001b[39m.\u001b[39;49mnumpy()\u001b[39m.\u001b[39mastype(dtype, copy\u001b[39m=\u001b[39m\u001b[39mFalse\u001b[39;00m)\n",
      "\u001b[1;31mRuntimeError\u001b[0m: Can't call numpy() on Tensor that requires grad. Use tensor.detach().numpy() instead."
     ]
    }
   ],
   "source": [
    "df = metadata.copy()\n",
    "df['encoded_audio'] = encoded_audio\n",
    "df['audio_codes'] = audio_codes\n",
    "df['audio_values'] = audio_values\n",
    "df[\"Song Title\"] = \"\""
   ]
  },
  {
   "cell_type": "code",
   "execution_count": 13,
   "metadata": {},
   "outputs": [
    {
     "name": "stderr",
     "output_type": "stream",
     "text": [
      "C:\\Users\\sjufa\\AppData\\Local\\Temp\\ipykernel_9832\\3419225979.py:1: SettingWithCopyWarning: \n",
      "A value is trying to be set on a copy of a slice from a DataFrame\n",
      "\n",
      "See the caveats in the documentation: https://pandas.pydata.org/pandas-docs/stable/user_guide/indexing.html#returning-a-view-versus-a-copy\n",
      "  df['Song Title'][4] = \"Crazy Beautiful\"\n",
      "C:\\Users\\sjufa\\AppData\\Local\\Temp\\ipykernel_9832\\3419225979.py:2: SettingWithCopyWarning: \n",
      "A value is trying to be set on a copy of a slice from a DataFrame\n",
      "\n",
      "See the caveats in the documentation: https://pandas.pydata.org/pandas-docs/stable/user_guide/indexing.html#returning-a-view-versus-a-copy\n",
      "  df['Song Title'][5] = \"Fast Car\"\n",
      "C:\\Users\\sjufa\\AppData\\Local\\Temp\\ipykernel_9832\\3419225979.py:3: SettingWithCopyWarning: \n",
      "A value is trying to be set on a copy of a slice from a DataFrame\n",
      "\n",
      "See the caveats in the documentation: https://pandas.pydata.org/pandas-docs/stable/user_guide/indexing.html#returning-a-view-versus-a-copy\n",
      "  df['Song Title'][11] = \"Growin' up and Gettin' Old\"\n",
      "C:\\Users\\sjufa\\AppData\\Local\\Temp\\ipykernel_9832\\3419225979.py:4: SettingWithCopyWarning: \n",
      "A value is trying to be set on a copy of a slice from a DataFrame\n",
      "\n",
      "See the caveats in the documentation: https://pandas.pydata.org/pandas-docs/stable/user_guide/indexing.html#returning-a-view-versus-a-copy\n",
      "  df['Song Title'][15:] = \"Hurricane\"\n"
     ]
    }
   ],
   "source": [
    "df['Song Title'][4] = \"Crazy Beautiful\"\n",
    "df['Song Title'][5] = \"Fast Car\"\n",
    "df['Song Title'][11] = \"Growin' up and Gettin' Old\"\n",
    "df['Song Title'][15:] = \"Hurricane\""
   ]
  },
  {
   "cell_type": "code",
   "execution_count": 17,
   "metadata": {},
   "outputs": [],
   "source": [
    "df.to_csv(\"audio_metadata.csv\")"
   ]
  },
  {
   "cell_type": "code",
   "execution_count": 18,
   "metadata": {},
   "outputs": [
    {
     "data": {
      "text/plain": [
       "torch.Size([1, 1, 2, 1125])"
      ]
     },
     "execution_count": 18,
     "metadata": {},
     "output_type": "execute_result"
    }
   ],
   "source": [
    "df['audio_codes'][0].shape"
   ]
  },
  {
   "cell_type": "code",
   "execution_count": null,
   "metadata": {},
   "outputs": [],
   "source": [
    "df['audio_values'] = model.decode(encoder_outputs.audio_codes, encoder_outputs.audio_scales, inputs[\"padding_mask\"])[0]\n"
   ]
  },
  {
   "cell_type": "code",
   "execution_count": 19,
   "metadata": {},
   "outputs": [],
   "source": [
    "def decode_samples(encoder_outputs): # load the model + processor (for pre-processing the audio)\n",
    "    \"\"\" Decode the audio samples \"\"\"\n",
    "    model = EncodecModel.from_pretrained(\"facebook/encodec_24khz\")\n",
    "    processor = AutoProcessor.from_pretrained(\"facebook/encodec_24khz\")\n",
    "\n",
    "    # Take the encoder outputs and decode them\n",
    "    audio_values = model.decode(encoder_outputs.audio_codes, encoder_outputs.audio_scales, inputs[\"padding_mask\"])[0]\n",
    "\n",
    "    return audio_values"
   ]
  },
  {
   "cell_type": "code",
   "execution_count": 24,
   "metadata": {},
   "outputs": [
    {
     "name": "stderr",
     "output_type": "stream",
     "text": [
      "Could not find image processor class in the image processor config or the model config. Loading based on pattern matching with the model's feature extractor configuration.\n"
     ]
    },
    {
     "ename": "NameError",
     "evalue": "name 'inputs' is not defined",
     "output_type": "error",
     "traceback": [
      "\u001b[1;31m---------------------------------------------------------------------------\u001b[0m",
      "\u001b[1;31mNameError\u001b[0m                                 Traceback (most recent call last)",
      "Cell \u001b[1;32mIn[24], line 5\u001b[0m\n\u001b[0;32m      3\u001b[0m decoded_audio \u001b[39m=\u001b[39m []\n\u001b[0;32m      4\u001b[0m \u001b[39mfor\u001b[39;00m encoder_outputs \u001b[39min\u001b[39;00m encoded_audio:\n\u001b[1;32m----> 5\u001b[0m     decoded_audio\u001b[39m.\u001b[39mappend(decode_samples(encoder_outputs))\n",
      "Cell \u001b[1;32mIn[19], line 7\u001b[0m, in \u001b[0;36mdecode_samples\u001b[1;34m(encoder_outputs)\u001b[0m\n\u001b[0;32m      4\u001b[0m processor \u001b[39m=\u001b[39m AutoProcessor\u001b[39m.\u001b[39mfrom_pretrained(\u001b[39m\"\u001b[39m\u001b[39mfacebook/encodec_24khz\u001b[39m\u001b[39m\"\u001b[39m)\n\u001b[0;32m      6\u001b[0m \u001b[39m# Take the encoder outputs and decode them\u001b[39;00m\n\u001b[1;32m----> 7\u001b[0m audio_values \u001b[39m=\u001b[39m model\u001b[39m.\u001b[39mdecode(encoder_outputs\u001b[39m.\u001b[39maudio_codes, encoder_outputs\u001b[39m.\u001b[39maudio_scales, inputs[\u001b[39m\"\u001b[39m\u001b[39mpadding_mask\u001b[39m\u001b[39m\"\u001b[39m])[\u001b[39m0\u001b[39m]\n\u001b[0;32m      9\u001b[0m \u001b[39mreturn\u001b[39;00m audio_values\n",
      "\u001b[1;31mNameError\u001b[0m: name 'inputs' is not defined"
     ]
    }
   ],
   "source": [
    "# Iterate through the audio data and decode each segment\n",
    "i = 0\n",
    "decoded_audio = []\n",
    "for encoder_outputs in encoded_audio:\n",
    "    decoded_audio.append(decode_samples(encoder_outputs))"
   ]
  },
  {
   "cell_type": "code",
   "execution_count": 26,
   "metadata": {},
   "outputs": [
    {
     "ename": "AttributeError",
     "evalue": "'list' object has no attribute 'audio_codes'",
     "output_type": "error",
     "traceback": [
      "\u001b[1;31m---------------------------------------------------------------------------\u001b[0m",
      "\u001b[1;31mAttributeError\u001b[0m                            Traceback (most recent call last)",
      "Cell \u001b[1;32mIn[26], line 3\u001b[0m\n\u001b[0;32m      1\u001b[0m \u001b[39m# Add the encoded audio and audio codes to the metadata dataframe\u001b[39;00m\n\u001b[0;32m      2\u001b[0m audio_metadata[\u001b[39m'\u001b[39m\u001b[39mencoded_audio\u001b[39m\u001b[39m'\u001b[39m] \u001b[39m=\u001b[39m encoded_audio\n\u001b[1;32m----> 3\u001b[0m audio_metadata[\u001b[39m'\u001b[39m\u001b[39maudio_codes\u001b[39m\u001b[39m'\u001b[39m] \u001b[39m=\u001b[39m encoded_audio\u001b[39m.\u001b[39;49maudio_codes\n",
      "\u001b[1;31mAttributeError\u001b[0m: 'list' object has no attribute 'audio_codes'"
     ]
    }
   ],
   "source": [
    "# Add the encoded audio and audio codes to the metadata dataframe\n",
    "audio_metadata['encoded_audio'] = encoded_audio\n",
    "audio_metadata['audio_codes'] = encoded_audio.audio_codes"
   ]
  },
  {
   "cell_type": "code",
   "execution_count": 19,
   "metadata": {},
   "outputs": [],
   "source": [
    "# Add in the song titles to the metadata dataframe\n",
    "audio_metadata['song_title'] = audio_metadata['file'].apply(lambda x: x.split('/')[-1].split('.')[0])"
   ]
  },
  {
   "cell_type": "code",
   "execution_count": 17,
   "metadata": {},
   "outputs": [],
   "source": [
    "# Drop everything in the song title up to the first underscore after \"lc\"\n",
    "audio_metadata['song_title'] = audio_metadata['song_title'].apply(lambda x: x.split('_')[0])\n",
    "\n"
   ]
  },
  {
   "cell_type": "code",
   "execution_count": 20,
   "metadata": {},
   "outputs": [
    {
     "data": {
      "text/html": [
       "<div>\n",
       "<style scoped>\n",
       "    .dataframe tbody tr th:only-of-type {\n",
       "        vertical-align: middle;\n",
       "    }\n",
       "\n",
       "    .dataframe tbody tr th {\n",
       "        vertical-align: top;\n",
       "    }\n",
       "\n",
       "    .dataframe thead th {\n",
       "        text-align: right;\n",
       "    }\n",
       "</style>\n",
       "<table border=\"1\" class=\"dataframe\">\n",
       "  <thead>\n",
       "    <tr style=\"text-align: right;\">\n",
       "      <th></th>\n",
       "      <th>file</th>\n",
       "      <th>segment_id</th>\n",
       "      <th>start_time</th>\n",
       "      <th>end_time</th>\n",
       "      <th>encoded_audio</th>\n",
       "      <th>audio_codes</th>\n",
       "      <th>song_title</th>\n",
       "    </tr>\n",
       "  </thead>\n",
       "  <tbody>\n",
       "    <tr>\n",
       "      <th>0</th>\n",
       "      <td>./audio_files/artist_main\\lc_beautiful_crazy.wav</td>\n",
       "      <td>0</td>\n",
       "      <td>0</td>\n",
       "      <td>15</td>\n",
       "      <td>{'audio_codes': [[tensor([[ 62,  62,  62,  ......</td>\n",
       "      <td>[[[tensor([ 62,  62,  62,  ..., 879, 133, 855]...</td>\n",
       "      <td>artist_main\\lc_beautiful_crazy</td>\n",
       "    </tr>\n",
       "    <tr>\n",
       "      <th>1</th>\n",
       "      <td>./audio_files/artist_main\\lc_beautiful_crazy.wav</td>\n",
       "      <td>1</td>\n",
       "      <td>15</td>\n",
       "      <td>30</td>\n",
       "      <td>{'audio_codes': [[tensor([[855, 904, 999,  ......</td>\n",
       "      <td>[[[tensor([855, 904, 999,  ..., 923, 489, 534]...</td>\n",
       "      <td>artist_main\\lc_beautiful_crazy</td>\n",
       "    </tr>\n",
       "    <tr>\n",
       "      <th>2</th>\n",
       "      <td>./audio_files/artist_main\\lc_beautiful_crazy.wav</td>\n",
       "      <td>2</td>\n",
       "      <td>30</td>\n",
       "      <td>45</td>\n",
       "      <td>{'audio_codes': [[tensor([[124, 698, 534,  ......</td>\n",
       "      <td>[[[tensor([124, 698, 534,  ..., 967, 393, 561]...</td>\n",
       "      <td>artist_main\\lc_beautiful_crazy</td>\n",
       "    </tr>\n",
       "    <tr>\n",
       "      <th>3</th>\n",
       "      <td>./audio_files/artist_main\\lc_beautiful_crazy.wav</td>\n",
       "      <td>3</td>\n",
       "      <td>45</td>\n",
       "      <td>60</td>\n",
       "      <td>{'audio_codes': [[tensor([[1010,  751,  393,  ...</td>\n",
       "      <td>[[[tensor([1010,  751,  393,  ...,  828,  167,...</td>\n",
       "      <td>artist_main\\lc_beautiful_crazy</td>\n",
       "    </tr>\n",
       "    <tr>\n",
       "      <th>4</th>\n",
       "      <td>./audio_files/artist_main\\lc_beautiful_crazy.wav</td>\n",
       "      <td>4</td>\n",
       "      <td>60</td>\n",
       "      <td>75</td>\n",
       "      <td>{'audio_codes': [[tensor([[ 720,  778,  734,  ...</td>\n",
       "      <td>[[[tensor([ 720,  778,  734,  ..., 1006,  462,...</td>\n",
       "      <td>artist_main\\lc_beautiful_crazy</td>\n",
       "    </tr>\n",
       "    <tr>\n",
       "      <th>5</th>\n",
       "      <td>./audio_files/artist_main\\lc_fastcar.wav</td>\n",
       "      <td>0</td>\n",
       "      <td>0</td>\n",
       "      <td>15</td>\n",
       "      <td>{'audio_codes': [[tensor([[ 62,  62,  62,  ......</td>\n",
       "      <td>[[[tensor([ 62,  62,  62,  ..., 219,  70, 363]...</td>\n",
       "      <td>artist_main\\lc_fastcar</td>\n",
       "    </tr>\n",
       "    <tr>\n",
       "      <th>6</th>\n",
       "      <td>./audio_files/artist_main\\lc_fastcar.wav</td>\n",
       "      <td>1</td>\n",
       "      <td>15</td>\n",
       "      <td>30</td>\n",
       "      <td>{'audio_codes': [[tensor([[804, 949, 645,  ......</td>\n",
       "      <td>[[[tensor([804, 949, 645,  ..., 977, 958, 495]...</td>\n",
       "      <td>artist_main\\lc_fastcar</td>\n",
       "    </tr>\n",
       "    <tr>\n",
       "      <th>7</th>\n",
       "      <td>./audio_files/artist_main\\lc_fastcar.wav</td>\n",
       "      <td>2</td>\n",
       "      <td>30</td>\n",
       "      <td>45</td>\n",
       "      <td>{'audio_codes': [[tensor([[958, 916, 901,  ......</td>\n",
       "      <td>[[[tensor([958, 916, 901,  ..., 923, 239, 974]...</td>\n",
       "      <td>artist_main\\lc_fastcar</td>\n",
       "    </tr>\n",
       "    <tr>\n",
       "      <th>8</th>\n",
       "      <td>./audio_files/artist_main\\lc_fastcar.wav</td>\n",
       "      <td>3</td>\n",
       "      <td>45</td>\n",
       "      <td>60</td>\n",
       "      <td>{'audio_codes': [[tensor([[681, 815, 182,  ......</td>\n",
       "      <td>[[[tensor([681, 815, 182,  ..., 193, 740, 921]...</td>\n",
       "      <td>artist_main\\lc_fastcar</td>\n",
       "    </tr>\n",
       "    <tr>\n",
       "      <th>9</th>\n",
       "      <td>./audio_files/artist_main\\lc_fastcar.wav</td>\n",
       "      <td>4</td>\n",
       "      <td>60</td>\n",
       "      <td>75</td>\n",
       "      <td>{'audio_codes': [[tensor([[ 969, 1008,  761,  ...</td>\n",
       "      <td>[[[tensor([ 969, 1008,  761,  ...,  342,  689,...</td>\n",
       "      <td>artist_main\\lc_fastcar</td>\n",
       "    </tr>\n",
       "    <tr>\n",
       "      <th>10</th>\n",
       "      <td>./audio_files/artist_main\\lc_growinup_gettinol...</td>\n",
       "      <td>0</td>\n",
       "      <td>0</td>\n",
       "      <td>15</td>\n",
       "      <td>{'audio_codes': [[tensor([[ 62,  62,  62,  ......</td>\n",
       "      <td>[[[tensor([ 62,  62,  62,  ..., 936, 955, 921]...</td>\n",
       "      <td>artist_main\\lc_growinup_gettinold</td>\n",
       "    </tr>\n",
       "    <tr>\n",
       "      <th>11</th>\n",
       "      <td>./audio_files/artist_main\\lc_growinup_gettinol...</td>\n",
       "      <td>1</td>\n",
       "      <td>15</td>\n",
       "      <td>30</td>\n",
       "      <td>{'audio_codes': [[tensor([[ 921,  942, 1004,  ...</td>\n",
       "      <td>[[[tensor([ 921,  942, 1004,  ...,   18,  884,...</td>\n",
       "      <td>artist_main\\lc_growinup_gettinold</td>\n",
       "    </tr>\n",
       "    <tr>\n",
       "      <th>12</th>\n",
       "      <td>./audio_files/artist_main\\lc_growinup_gettinol...</td>\n",
       "      <td>2</td>\n",
       "      <td>30</td>\n",
       "      <td>45</td>\n",
       "      <td>{'audio_codes': [[tensor([[120, 914, 584,  ......</td>\n",
       "      <td>[[[tensor([120, 914, 584,  ..., 345, 345,  33]...</td>\n",
       "      <td>artist_main\\lc_growinup_gettinold</td>\n",
       "    </tr>\n",
       "    <tr>\n",
       "      <th>13</th>\n",
       "      <td>./audio_files/artist_main\\lc_growinup_gettinol...</td>\n",
       "      <td>3</td>\n",
       "      <td>45</td>\n",
       "      <td>60</td>\n",
       "      <td>{'audio_codes': [[tensor([[345,  33, 901,  ......</td>\n",
       "      <td>[[[tensor([345,  33, 901,  ..., 970, 654, 715]...</td>\n",
       "      <td>artist_main\\lc_growinup_gettinold</td>\n",
       "    </tr>\n",
       "    <tr>\n",
       "      <th>14</th>\n",
       "      <td>./audio_files/artist_main\\lc_growinup_gettinol...</td>\n",
       "      <td>4</td>\n",
       "      <td>60</td>\n",
       "      <td>75</td>\n",
       "      <td>{'audio_codes': [[tensor([[202,  34, 527,  ......</td>\n",
       "      <td>[[[tensor([202,  34, 527,  ..., 485, 652, 601]...</td>\n",
       "      <td>artist_main\\lc_growinup_gettinold</td>\n",
       "    </tr>\n",
       "    <tr>\n",
       "      <th>15</th>\n",
       "      <td>./audio_files/artist_main\\lc_hurricane.wav</td>\n",
       "      <td>0</td>\n",
       "      <td>0</td>\n",
       "      <td>15</td>\n",
       "      <td>{'audio_codes': [[tensor([[ 62,  62,  62,  ......</td>\n",
       "      <td>[[[tensor([ 62,  62,  62,  ..., 582, 814, 613]...</td>\n",
       "      <td>artist_main\\lc_hurricane</td>\n",
       "    </tr>\n",
       "    <tr>\n",
       "      <th>16</th>\n",
       "      <td>./audio_files/artist_main\\lc_hurricane.wav</td>\n",
       "      <td>1</td>\n",
       "      <td>15</td>\n",
       "      <td>30</td>\n",
       "      <td>{'audio_codes': [[tensor([[167, 613, 613,  ......</td>\n",
       "      <td>[[[tensor([167, 613, 613,  ..., 976, 953, 293]...</td>\n",
       "      <td>artist_main\\lc_hurricane</td>\n",
       "    </tr>\n",
       "    <tr>\n",
       "      <th>17</th>\n",
       "      <td>./audio_files/artist_main\\lc_hurricane.wav</td>\n",
       "      <td>2</td>\n",
       "      <td>30</td>\n",
       "      <td>45</td>\n",
       "      <td>{'audio_codes': [[tensor([[862, 263, 926,  ......</td>\n",
       "      <td>[[[tensor([862, 263, 926,  ..., 141,  85, 908]...</td>\n",
       "      <td>artist_main\\lc_hurricane</td>\n",
       "    </tr>\n",
       "    <tr>\n",
       "      <th>18</th>\n",
       "      <td>./audio_files/artist_main\\lc_hurricane.wav</td>\n",
       "      <td>3</td>\n",
       "      <td>45</td>\n",
       "      <td>60</td>\n",
       "      <td>{'audio_codes': [[tensor([[750, 800, 801,  ......</td>\n",
       "      <td>[[[tensor([750, 800, 801,  ..., 894, 776, 776]...</td>\n",
       "      <td>artist_main\\lc_hurricane</td>\n",
       "    </tr>\n",
       "    <tr>\n",
       "      <th>19</th>\n",
       "      <td>./audio_files/artist_main\\lc_hurricane.wav</td>\n",
       "      <td>4</td>\n",
       "      <td>60</td>\n",
       "      <td>75</td>\n",
       "      <td>{'audio_codes': [[tensor([[671, 431, 431,  ......</td>\n",
       "      <td>[[[tensor([671, 431, 431,  ...,  57, 994, 914]...</td>\n",
       "      <td>artist_main\\lc_hurricane</td>\n",
       "    </tr>\n",
       "  </tbody>\n",
       "</table>\n",
       "</div>"
      ],
      "text/plain": [
       "                                                 file  segment_id  start_time  \\\n",
       "0    ./audio_files/artist_main\\lc_beautiful_crazy.wav           0           0   \n",
       "1    ./audio_files/artist_main\\lc_beautiful_crazy.wav           1          15   \n",
       "2    ./audio_files/artist_main\\lc_beautiful_crazy.wav           2          30   \n",
       "3    ./audio_files/artist_main\\lc_beautiful_crazy.wav           3          45   \n",
       "4    ./audio_files/artist_main\\lc_beautiful_crazy.wav           4          60   \n",
       "5            ./audio_files/artist_main\\lc_fastcar.wav           0           0   \n",
       "6            ./audio_files/artist_main\\lc_fastcar.wav           1          15   \n",
       "7            ./audio_files/artist_main\\lc_fastcar.wav           2          30   \n",
       "8            ./audio_files/artist_main\\lc_fastcar.wav           3          45   \n",
       "9            ./audio_files/artist_main\\lc_fastcar.wav           4          60   \n",
       "10  ./audio_files/artist_main\\lc_growinup_gettinol...           0           0   \n",
       "11  ./audio_files/artist_main\\lc_growinup_gettinol...           1          15   \n",
       "12  ./audio_files/artist_main\\lc_growinup_gettinol...           2          30   \n",
       "13  ./audio_files/artist_main\\lc_growinup_gettinol...           3          45   \n",
       "14  ./audio_files/artist_main\\lc_growinup_gettinol...           4          60   \n",
       "15         ./audio_files/artist_main\\lc_hurricane.wav           0           0   \n",
       "16         ./audio_files/artist_main\\lc_hurricane.wav           1          15   \n",
       "17         ./audio_files/artist_main\\lc_hurricane.wav           2          30   \n",
       "18         ./audio_files/artist_main\\lc_hurricane.wav           3          45   \n",
       "19         ./audio_files/artist_main\\lc_hurricane.wav           4          60   \n",
       "\n",
       "    end_time                                      encoded_audio  \\\n",
       "0         15  {'audio_codes': [[tensor([[ 62,  62,  62,  ......   \n",
       "1         30  {'audio_codes': [[tensor([[855, 904, 999,  ......   \n",
       "2         45  {'audio_codes': [[tensor([[124, 698, 534,  ......   \n",
       "3         60  {'audio_codes': [[tensor([[1010,  751,  393,  ...   \n",
       "4         75  {'audio_codes': [[tensor([[ 720,  778,  734,  ...   \n",
       "5         15  {'audio_codes': [[tensor([[ 62,  62,  62,  ......   \n",
       "6         30  {'audio_codes': [[tensor([[804, 949, 645,  ......   \n",
       "7         45  {'audio_codes': [[tensor([[958, 916, 901,  ......   \n",
       "8         60  {'audio_codes': [[tensor([[681, 815, 182,  ......   \n",
       "9         75  {'audio_codes': [[tensor([[ 969, 1008,  761,  ...   \n",
       "10        15  {'audio_codes': [[tensor([[ 62,  62,  62,  ......   \n",
       "11        30  {'audio_codes': [[tensor([[ 921,  942, 1004,  ...   \n",
       "12        45  {'audio_codes': [[tensor([[120, 914, 584,  ......   \n",
       "13        60  {'audio_codes': [[tensor([[345,  33, 901,  ......   \n",
       "14        75  {'audio_codes': [[tensor([[202,  34, 527,  ......   \n",
       "15        15  {'audio_codes': [[tensor([[ 62,  62,  62,  ......   \n",
       "16        30  {'audio_codes': [[tensor([[167, 613, 613,  ......   \n",
       "17        45  {'audio_codes': [[tensor([[862, 263, 926,  ......   \n",
       "18        60  {'audio_codes': [[tensor([[750, 800, 801,  ......   \n",
       "19        75  {'audio_codes': [[tensor([[671, 431, 431,  ......   \n",
       "\n",
       "                                          audio_codes  \\\n",
       "0   [[[tensor([ 62,  62,  62,  ..., 879, 133, 855]...   \n",
       "1   [[[tensor([855, 904, 999,  ..., 923, 489, 534]...   \n",
       "2   [[[tensor([124, 698, 534,  ..., 967, 393, 561]...   \n",
       "3   [[[tensor([1010,  751,  393,  ...,  828,  167,...   \n",
       "4   [[[tensor([ 720,  778,  734,  ..., 1006,  462,...   \n",
       "5   [[[tensor([ 62,  62,  62,  ..., 219,  70, 363]...   \n",
       "6   [[[tensor([804, 949, 645,  ..., 977, 958, 495]...   \n",
       "7   [[[tensor([958, 916, 901,  ..., 923, 239, 974]...   \n",
       "8   [[[tensor([681, 815, 182,  ..., 193, 740, 921]...   \n",
       "9   [[[tensor([ 969, 1008,  761,  ...,  342,  689,...   \n",
       "10  [[[tensor([ 62,  62,  62,  ..., 936, 955, 921]...   \n",
       "11  [[[tensor([ 921,  942, 1004,  ...,   18,  884,...   \n",
       "12  [[[tensor([120, 914, 584,  ..., 345, 345,  33]...   \n",
       "13  [[[tensor([345,  33, 901,  ..., 970, 654, 715]...   \n",
       "14  [[[tensor([202,  34, 527,  ..., 485, 652, 601]...   \n",
       "15  [[[tensor([ 62,  62,  62,  ..., 582, 814, 613]...   \n",
       "16  [[[tensor([167, 613, 613,  ..., 976, 953, 293]...   \n",
       "17  [[[tensor([862, 263, 926,  ..., 141,  85, 908]...   \n",
       "18  [[[tensor([750, 800, 801,  ..., 894, 776, 776]...   \n",
       "19  [[[tensor([671, 431, 431,  ...,  57, 994, 914]...   \n",
       "\n",
       "                           song_title  \n",
       "0      artist_main\\lc_beautiful_crazy  \n",
       "1      artist_main\\lc_beautiful_crazy  \n",
       "2      artist_main\\lc_beautiful_crazy  \n",
       "3      artist_main\\lc_beautiful_crazy  \n",
       "4      artist_main\\lc_beautiful_crazy  \n",
       "5              artist_main\\lc_fastcar  \n",
       "6              artist_main\\lc_fastcar  \n",
       "7              artist_main\\lc_fastcar  \n",
       "8              artist_main\\lc_fastcar  \n",
       "9              artist_main\\lc_fastcar  \n",
       "10  artist_main\\lc_growinup_gettinold  \n",
       "11  artist_main\\lc_growinup_gettinold  \n",
       "12  artist_main\\lc_growinup_gettinold  \n",
       "13  artist_main\\lc_growinup_gettinold  \n",
       "14  artist_main\\lc_growinup_gettinold  \n",
       "15           artist_main\\lc_hurricane  \n",
       "16           artist_main\\lc_hurricane  \n",
       "17           artist_main\\lc_hurricane  \n",
       "18           artist_main\\lc_hurricane  \n",
       "19           artist_main\\lc_hurricane  "
      ]
     },
     "execution_count": 20,
     "metadata": {},
     "output_type": "execute_result"
    }
   ],
   "source": [
    "audio_metadata"
   ]
  },
  {
   "cell_type": "code",
   "execution_count": 3,
   "metadata": {},
   "outputs": [
    {
     "ename": "NameError",
     "evalue": "name 'encoded_audio' is not defined",
     "output_type": "error",
     "traceback": [
      "\u001b[1;31m---------------------------------------------------------------------------\u001b[0m",
      "\u001b[1;31mNameError\u001b[0m                                 Traceback (most recent call last)",
      "Cell \u001b[1;32mIn[3], line 1\u001b[0m\n\u001b[1;32m----> 1\u001b[0m encoded_audio\n",
      "\u001b[1;31mNameError\u001b[0m: name 'encoded_audio' is not defined"
     ]
    }
   ],
   "source": [
    "encoded_audio"
   ]
  },
  {
   "cell_type": "code",
   "execution_count": null,
   "metadata": {},
   "outputs": [],
   "source": []
  }
 ],
 "metadata": {
  "kernelspec": {
   "display_name": "py310",
   "language": "python",
   "name": "python3"
  },
  "language_info": {
   "codemirror_mode": {
    "name": "ipython",
    "version": 3
   },
   "file_extension": ".py",
   "mimetype": "text/x-python",
   "name": "python",
   "nbconvert_exporter": "python",
   "pygments_lexer": "ipython3",
   "version": "3.10.12"
  },
  "orig_nbformat": 4
 },
 "nbformat": 4,
 "nbformat_minor": 2
}
