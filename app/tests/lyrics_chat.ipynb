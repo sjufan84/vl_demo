{
 "cells": [
  {
   "cell_type": "code",
   "execution_count": 90,
   "metadata": {},
   "outputs": [],
   "source": [
    "\"\"\" Implementation of chatbot that has access to \n",
    "our Pinecone database of lyrics. \"\"\"\n",
    "# Imports\n",
    "import os\n",
    "import pinecone\n",
    "import openai\n",
    "from dotenv import load_dotenv\n",
    "\n",
    "# Get API keys\n",
    "load_dotenv()\n",
    "\n",
    "# Connect to Pinecone\n",
    "pinecone.init(api_key=os.getenv(\"PINECONE_KEY2\"), environment=os.getenv(\"PINECONE_ENV2\"))\n",
    "index = pinecone.Index(index_name=\"lyrics\")\n",
    "\n",
    "# Connect to OpenAI\n",
    "openai.api_key = os.getenv(\"OPENAI_KEY2\")\n",
    "openai.organization = os.getenv(\"OPENAI_ORG2\")"
   ]
  },
  {
   "cell_type": "code",
   "execution_count": 28,
   "metadata": {},
   "outputs": [],
   "source": [
    "# Load the lyrics from the .json file\n",
    "import json\n",
    "with open('./lyrics.json') as f:\n",
    "    lyrics = json.loads(f.read())"
   ]
  },
  {
   "cell_type": "code",
   "execution_count": 18,
   "metadata": {},
   "outputs": [],
   "source": [
    "from typing import Optional, List\n",
    "from pydantic import BaseModel, Field\n",
    "# Create a class for the lyrics object\n",
    "class SongClip(BaseModel):\n",
    "    \"\"\" SongClip object. \"\"\"\n",
    "    lyrics: Optional[str] = Field(description=\"Lyrics of the song\")\n",
    "    title: str = Field(description=\"Title of the song\")\n",
    "    artist: str = Field(description=\"Artist of the song\")\n",
    "    album: Optional[str] = Field(description=\"Album of the song\")\n",
    "    source: str = Field(description=\"Source of the song\")\n",
    "    music: Optional[List[float]] = Field(\n",
    "                description=\"Music of the song\")\n",
    "    description: Optional[str] = Field(\n",
    "                description=\"Description of the song\")"
   ]
  },
  {
   "cell_type": "code",
   "execution_count": 48,
   "metadata": {},
   "outputs": [],
   "source": [
    "from langchain.embeddings import OpenAIEmbeddings\n",
    "# Create a function to embed the lyrics and upsert\n",
    "# them into our Pinecone index\n",
    "def upsert_lyrics(songs_list: List[SongClip]):\n",
    "    \"\"\" Upsert the lyrics into the Pinecone index. \"\"\"\n",
    "    embeddings = OpenAIEmbeddings()\n",
    "        \n",
    "    # Iterate through the songs and embed the lyrics\n",
    "    for song in songs_list:\n",
    "        # Embed the lyrics\n",
    "        lyrics_emb = embeddings.embed_documents(song.lyrics)\n",
    "        \n",
    "        # Create the metadata\n",
    "        metadata = {\"title\": song.title,\n",
    "                    \"artist\": song.artist,\n",
    "                    \"album\": song.album,\n",
    "                    \"source\": song.source,\n",
    "                    \"description\": song.description,\n",
    "                    \"lyrics\": song.lyrics,\n",
    "                }\n",
    "        values = lyrics_emb[0]\n",
    "        song_id = song.title\n",
    "\n",
    "        # Define the vectors\n",
    "        vectors = [\n",
    "            {\n",
    "            \"metadata\": metadata,\n",
    "            \"values\": values,\n",
    "            \"id\": song_id,\n",
    "            }\n",
    "        ]\n",
    "\n",
    "        # Upsert the lyrics\n",
    "        index.upsert(vectors=vectors)\n",
    "\n",
    "    # Return a success message and the index name statistics\n",
    "    return f\"Successfully upserted {len(songs_list)} songs into the index.\"\n",
    "        \n",
    "# Save the lyrics_dict_list to a json file\n",
    "def save_lyrics(songs_list: List[SongClip]):\n",
    "    \"\"\" Save the lyrics to a json file. \"\"\"\n",
    "    # Create a dictionary to store the lyrics\n",
    "    lyrics_dict = {}\n",
    "    # Iterate through the songs and add them to the dictionary\n",
    "    for song in songs_list:\n",
    "        lyrics_dict[song.title] = song.dict()\n",
    "    # Save the lyrics to a json file\n",
    "    with open(\"lyrics.json\", \"w\") as f:\n",
    "        json.dump(lyrics_dict, f)\n",
    "    # Return a success message\n",
    "    return f\"Successfully saved {len(songs_list)} songs to lyrics.json\""
   ]
  },
  {
   "cell_type": "code",
   "execution_count": 41,
   "metadata": {},
   "outputs": [],
   "source": [
    "songs_list = [song for song in lyrics.values()]\n",
    "    "
   ]
  },
  {
   "cell_type": "code",
   "execution_count": 44,
   "metadata": {},
   "outputs": [],
   "source": [
    "# Convert the songs_list values to SongClip objects\n",
    "songs_list = [SongClip(**song) for song in songs_list]"
   ]
  },
  {
   "cell_type": "code",
   "execution_count": 51,
   "metadata": {},
   "outputs": [
    {
     "ename": "ApiException",
     "evalue": "(400)\nReason: Bad Request\nHTTP response headers: HTTPHeaderDict({'content-type': 'application/json', 'date': 'Sat, 14 Oct 2023 18:40:02 GMT', 'x-envoy-upstream-service-time': '0', 'content-length': '60', 'server': 'envoy'})\nHTTP response body: {\"code\":3,\"message\":\"not supported value type\",\"details\":[]}\n",
     "output_type": "error",
     "traceback": [
      "\u001b[1;31m---------------------------------------------------------------------------\u001b[0m",
      "\u001b[1;31mApiException\u001b[0m                              Traceback (most recent call last)",
      "\u001b[1;32mc:\\Users\\sjufa\\OneDrive\\Desktop\\Current Projects\\vl_demo\\tests\\lyrics_chat.ipynb Cell 7\u001b[0m line \u001b[0;36m3\n\u001b[0;32m      <a href='vscode-notebook-cell:/c%3A/Users/sjufa/OneDrive/Desktop/Current%20Projects/vl_demo/tests/lyrics_chat.ipynb#X11sZmlsZQ%3D%3D?line=0'>1</a>\u001b[0m \u001b[39m# For each song in the songs_list, embed the lyrics and create the metadata\u001b[39;00m\n\u001b[0;32m      <a href='vscode-notebook-cell:/c%3A/Users/sjufa/OneDrive/Desktop/Current%20Projects/vl_demo/tests/lyrics_chat.ipynb#X11sZmlsZQ%3D%3D?line=1'>2</a>\u001b[0m \u001b[39m# for the Pinecone index\u001b[39;00m\n\u001b[1;32m----> <a href='vscode-notebook-cell:/c%3A/Users/sjufa/OneDrive/Desktop/Current%20Projects/vl_demo/tests/lyrics_chat.ipynb#X11sZmlsZQ%3D%3D?line=2'>3</a>\u001b[0m upsert_lyrics(songs_list)\n",
      "\u001b[1;32mc:\\Users\\sjufa\\OneDrive\\Desktop\\Current Projects\\vl_demo\\tests\\lyrics_chat.ipynb Cell 7\u001b[0m line \u001b[0;36m3\n\u001b[0;32m     <a href='vscode-notebook-cell:/c%3A/Users/sjufa/OneDrive/Desktop/Current%20Projects/vl_demo/tests/lyrics_chat.ipynb#X11sZmlsZQ%3D%3D?line=24'>25</a>\u001b[0m     vectors \u001b[39m=\u001b[39m [\n\u001b[0;32m     <a href='vscode-notebook-cell:/c%3A/Users/sjufa/OneDrive/Desktop/Current%20Projects/vl_demo/tests/lyrics_chat.ipynb#X11sZmlsZQ%3D%3D?line=25'>26</a>\u001b[0m         {\n\u001b[0;32m     <a href='vscode-notebook-cell:/c%3A/Users/sjufa/OneDrive/Desktop/Current%20Projects/vl_demo/tests/lyrics_chat.ipynb#X11sZmlsZQ%3D%3D?line=26'>27</a>\u001b[0m         \u001b[39m\"\u001b[39m\u001b[39mmetadata\u001b[39m\u001b[39m\"\u001b[39m: metadata,\n\u001b[1;32m   (...)\u001b[0m\n\u001b[0;32m     <a href='vscode-notebook-cell:/c%3A/Users/sjufa/OneDrive/Desktop/Current%20Projects/vl_demo/tests/lyrics_chat.ipynb#X11sZmlsZQ%3D%3D?line=29'>30</a>\u001b[0m         }\n\u001b[0;32m     <a href='vscode-notebook-cell:/c%3A/Users/sjufa/OneDrive/Desktop/Current%20Projects/vl_demo/tests/lyrics_chat.ipynb#X11sZmlsZQ%3D%3D?line=30'>31</a>\u001b[0m     ]\n\u001b[0;32m     <a href='vscode-notebook-cell:/c%3A/Users/sjufa/OneDrive/Desktop/Current%20Projects/vl_demo/tests/lyrics_chat.ipynb#X11sZmlsZQ%3D%3D?line=32'>33</a>\u001b[0m     \u001b[39m# Upsert the lyrics\u001b[39;00m\n\u001b[1;32m---> <a href='vscode-notebook-cell:/c%3A/Users/sjufa/OneDrive/Desktop/Current%20Projects/vl_demo/tests/lyrics_chat.ipynb#X11sZmlsZQ%3D%3D?line=33'>34</a>\u001b[0m     index\u001b[39m.\u001b[39;49mupsert(vectors\u001b[39m=\u001b[39;49mvectors)\n\u001b[0;32m     <a href='vscode-notebook-cell:/c%3A/Users/sjufa/OneDrive/Desktop/Current%20Projects/vl_demo/tests/lyrics_chat.ipynb#X11sZmlsZQ%3D%3D?line=35'>36</a>\u001b[0m \u001b[39m# Return a success message and the index name statistics\u001b[39;00m\n\u001b[0;32m     <a href='vscode-notebook-cell:/c%3A/Users/sjufa/OneDrive/Desktop/Current%20Projects/vl_demo/tests/lyrics_chat.ipynb#X11sZmlsZQ%3D%3D?line=36'>37</a>\u001b[0m \u001b[39mreturn\u001b[39;00m \u001b[39mf\u001b[39m\u001b[39m\"\u001b[39m\u001b[39mSuccessfully upserted \u001b[39m\u001b[39m{\u001b[39;00m\u001b[39mlen\u001b[39m(songs_list)\u001b[39m}\u001b[39;00m\u001b[39m songs into the index.\u001b[39m\u001b[39m\"\u001b[39m\n",
      "File \u001b[1;32mc:\\Users\\sjufa\\anaconda3\\envs\\vclone1\\lib\\site-packages\\pinecone\\core\\utils\\error_handling.py:17\u001b[0m, in \u001b[0;36mvalidate_and_convert_errors.<locals>.inner_func\u001b[1;34m(*args, **kwargs)\u001b[0m\n\u001b[0;32m     15\u001b[0m Config\u001b[39m.\u001b[39mvalidate()  \u001b[39m# raises exceptions in case of invalid config\u001b[39;00m\n\u001b[0;32m     16\u001b[0m \u001b[39mtry\u001b[39;00m:\n\u001b[1;32m---> 17\u001b[0m     \u001b[39mreturn\u001b[39;00m func(\u001b[39m*\u001b[39margs, \u001b[39m*\u001b[39m\u001b[39m*\u001b[39mkwargs)\n\u001b[0;32m     18\u001b[0m \u001b[39mexcept\u001b[39;00m MaxRetryError \u001b[39mas\u001b[39;00m e:\n\u001b[0;32m     19\u001b[0m     \u001b[39mif\u001b[39;00m \u001b[39misinstance\u001b[39m(e\u001b[39m.\u001b[39mreason, ProtocolError):\n",
      "File \u001b[1;32mc:\\Users\\sjufa\\anaconda3\\envs\\vclone1\\lib\\site-packages\\pinecone\\index.py:150\u001b[0m, in \u001b[0;36mIndex.upsert\u001b[1;34m(self, vectors, namespace, batch_size, show_progress, **kwargs)\u001b[0m\n\u001b[0;32m    145\u001b[0m     \u001b[39mraise\u001b[39;00m \u001b[39mValueError\u001b[39;00m(\u001b[39m'\u001b[39m\u001b[39masync_req is not supported when batch_size is provided.\u001b[39m\u001b[39m'\u001b[39m\n\u001b[0;32m    146\u001b[0m                      \u001b[39m'\u001b[39m\u001b[39mTo upsert in parallel, please follow: \u001b[39m\u001b[39m'\u001b[39m\n\u001b[0;32m    147\u001b[0m                      \u001b[39m'\u001b[39m\u001b[39mhttps://docs.pinecone.io/docs/insert-data#sending-upserts-in-parallel\u001b[39m\u001b[39m'\u001b[39m)\n\u001b[0;32m    149\u001b[0m \u001b[39mif\u001b[39;00m batch_size \u001b[39mis\u001b[39;00m \u001b[39mNone\u001b[39;00m:\n\u001b[1;32m--> 150\u001b[0m     \u001b[39mreturn\u001b[39;00m \u001b[39mself\u001b[39m\u001b[39m.\u001b[39m_upsert_batch(vectors, namespace, _check_type, \u001b[39m*\u001b[39m\u001b[39m*\u001b[39mkwargs)\n\u001b[0;32m    152\u001b[0m \u001b[39mif\u001b[39;00m \u001b[39mnot\u001b[39;00m \u001b[39misinstance\u001b[39m(batch_size, \u001b[39mint\u001b[39m) \u001b[39mor\u001b[39;00m batch_size \u001b[39m<\u001b[39m\u001b[39m=\u001b[39m \u001b[39m0\u001b[39m:\n\u001b[0;32m    153\u001b[0m     \u001b[39mraise\u001b[39;00m \u001b[39mValueError\u001b[39;00m(\u001b[39m'\u001b[39m\u001b[39mbatch_size must be a positive integer\u001b[39m\u001b[39m'\u001b[39m)\n",
      "File \u001b[1;32mc:\\Users\\sjufa\\anaconda3\\envs\\vclone1\\lib\\site-packages\\pinecone\\index.py:237\u001b[0m, in \u001b[0;36mIndex._upsert_batch\u001b[1;34m(self, vectors, namespace, _check_type, **kwargs)\u001b[0m\n\u001b[0;32m    234\u001b[0m         \u001b[39mreturn\u001b[39;00m _dict_to_vector(item)\n\u001b[0;32m    235\u001b[0m     \u001b[39mraise\u001b[39;00m \u001b[39mValueError\u001b[39;00m(\u001b[39mf\u001b[39m\u001b[39m\"\u001b[39m\u001b[39mInvalid vector value passed: cannot interpret type \u001b[39m\u001b[39m{\u001b[39;00m\u001b[39mtype\u001b[39m(item)\u001b[39m}\u001b[39;00m\u001b[39m\"\u001b[39m)\n\u001b[1;32m--> 237\u001b[0m \u001b[39mreturn\u001b[39;00m \u001b[39mself\u001b[39m\u001b[39m.\u001b[39m_vector_api\u001b[39m.\u001b[39mupsert(\n\u001b[0;32m    238\u001b[0m     UpsertRequest(\n\u001b[0;32m    239\u001b[0m         vectors\u001b[39m=\u001b[39m\u001b[39mlist\u001b[39m(\u001b[39mmap\u001b[39m(_vector_transform, vectors)),\n\u001b[0;32m    240\u001b[0m         \u001b[39m*\u001b[39m\u001b[39m*\u001b[39margs_dict,\n\u001b[0;32m    241\u001b[0m         _check_type\u001b[39m=\u001b[39m_check_type,\n\u001b[0;32m    242\u001b[0m         \u001b[39m*\u001b[39m\u001b[39m*\u001b[39m{k: v \u001b[39mfor\u001b[39;00m k, v \u001b[39min\u001b[39;00m kwargs\u001b[39m.\u001b[39mitems() \u001b[39mif\u001b[39;00m k \u001b[39mnot\u001b[39;00m \u001b[39min\u001b[39;00m _OPENAPI_ENDPOINT_PARAMS}\n\u001b[0;32m    243\u001b[0m     ),\n\u001b[0;32m    244\u001b[0m     \u001b[39m*\u001b[39m\u001b[39m*\u001b[39m{k: v \u001b[39mfor\u001b[39;00m k, v \u001b[39min\u001b[39;00m kwargs\u001b[39m.\u001b[39mitems() \u001b[39mif\u001b[39;00m k \u001b[39min\u001b[39;00m _OPENAPI_ENDPOINT_PARAMS}\n\u001b[0;32m    245\u001b[0m )\n",
      "File \u001b[1;32mc:\\Users\\sjufa\\anaconda3\\envs\\vclone1\\lib\\site-packages\\pinecone\\core\\client\\api_client.py:776\u001b[0m, in \u001b[0;36mEndpoint.__call__\u001b[1;34m(self, *args, **kwargs)\u001b[0m\n\u001b[0;32m    765\u001b[0m \u001b[39mdef\u001b[39;00m \u001b[39m__call__\u001b[39m(\u001b[39mself\u001b[39m, \u001b[39m*\u001b[39margs, \u001b[39m*\u001b[39m\u001b[39m*\u001b[39mkwargs):\n\u001b[0;32m    766\u001b[0m \u001b[39m    \u001b[39m\u001b[39m\"\"\" This method is invoked when endpoints are called\u001b[39;00m\n\u001b[0;32m    767\u001b[0m \u001b[39m    Example:\u001b[39;00m\n\u001b[0;32m    768\u001b[0m \n\u001b[1;32m   (...)\u001b[0m\n\u001b[0;32m    774\u001b[0m \n\u001b[0;32m    775\u001b[0m \u001b[39m    \"\"\"\u001b[39;00m\n\u001b[1;32m--> 776\u001b[0m     \u001b[39mreturn\u001b[39;00m \u001b[39mself\u001b[39m\u001b[39m.\u001b[39mcallable(\u001b[39mself\u001b[39m, \u001b[39m*\u001b[39margs, \u001b[39m*\u001b[39m\u001b[39m*\u001b[39mkwargs)\n",
      "File \u001b[1;32mc:\\Users\\sjufa\\anaconda3\\envs\\vclone1\\lib\\site-packages\\pinecone\\core\\client\\api\\vector_operations_api.py:956\u001b[0m, in \u001b[0;36mVectorOperationsApi.__init__.<locals>.__upsert\u001b[1;34m(self, upsert_request, **kwargs)\u001b[0m\n\u001b[0;32m    953\u001b[0m kwargs[\u001b[39m'\u001b[39m\u001b[39m_host_index\u001b[39m\u001b[39m'\u001b[39m] \u001b[39m=\u001b[39m kwargs\u001b[39m.\u001b[39mget(\u001b[39m'\u001b[39m\u001b[39m_host_index\u001b[39m\u001b[39m'\u001b[39m)\n\u001b[0;32m    954\u001b[0m kwargs[\u001b[39m'\u001b[39m\u001b[39mupsert_request\u001b[39m\u001b[39m'\u001b[39m] \u001b[39m=\u001b[39m \\\n\u001b[0;32m    955\u001b[0m     upsert_request\n\u001b[1;32m--> 956\u001b[0m \u001b[39mreturn\u001b[39;00m \u001b[39mself\u001b[39m\u001b[39m.\u001b[39mcall_with_http_info(\u001b[39m*\u001b[39m\u001b[39m*\u001b[39mkwargs)\n",
      "File \u001b[1;32mc:\\Users\\sjufa\\anaconda3\\envs\\vclone1\\lib\\site-packages\\pinecone\\core\\client\\api_client.py:838\u001b[0m, in \u001b[0;36mEndpoint.call_with_http_info\u001b[1;34m(self, **kwargs)\u001b[0m\n\u001b[0;32m    834\u001b[0m     header_list \u001b[39m=\u001b[39m \u001b[39mself\u001b[39m\u001b[39m.\u001b[39mapi_client\u001b[39m.\u001b[39mselect_header_content_type(\n\u001b[0;32m    835\u001b[0m         content_type_headers_list)\n\u001b[0;32m    836\u001b[0m     params[\u001b[39m'\u001b[39m\u001b[39mheader\u001b[39m\u001b[39m'\u001b[39m][\u001b[39m'\u001b[39m\u001b[39mContent-Type\u001b[39m\u001b[39m'\u001b[39m] \u001b[39m=\u001b[39m header_list\n\u001b[1;32m--> 838\u001b[0m \u001b[39mreturn\u001b[39;00m \u001b[39mself\u001b[39;49m\u001b[39m.\u001b[39;49mapi_client\u001b[39m.\u001b[39;49mcall_api(\n\u001b[0;32m    839\u001b[0m     \u001b[39mself\u001b[39;49m\u001b[39m.\u001b[39;49msettings[\u001b[39m'\u001b[39;49m\u001b[39mendpoint_path\u001b[39;49m\u001b[39m'\u001b[39;49m], \u001b[39mself\u001b[39;49m\u001b[39m.\u001b[39;49msettings[\u001b[39m'\u001b[39;49m\u001b[39mhttp_method\u001b[39;49m\u001b[39m'\u001b[39;49m],\n\u001b[0;32m    840\u001b[0m     params[\u001b[39m'\u001b[39;49m\u001b[39mpath\u001b[39;49m\u001b[39m'\u001b[39;49m],\n\u001b[0;32m    841\u001b[0m     params[\u001b[39m'\u001b[39;49m\u001b[39mquery\u001b[39;49m\u001b[39m'\u001b[39;49m],\n\u001b[0;32m    842\u001b[0m     params[\u001b[39m'\u001b[39;49m\u001b[39mheader\u001b[39;49m\u001b[39m'\u001b[39;49m],\n\u001b[0;32m    843\u001b[0m     body\u001b[39m=\u001b[39;49mparams[\u001b[39m'\u001b[39;49m\u001b[39mbody\u001b[39;49m\u001b[39m'\u001b[39;49m],\n\u001b[0;32m    844\u001b[0m     post_params\u001b[39m=\u001b[39;49mparams[\u001b[39m'\u001b[39;49m\u001b[39mform\u001b[39;49m\u001b[39m'\u001b[39;49m],\n\u001b[0;32m    845\u001b[0m     files\u001b[39m=\u001b[39;49mparams[\u001b[39m'\u001b[39;49m\u001b[39mfile\u001b[39;49m\u001b[39m'\u001b[39;49m],\n\u001b[0;32m    846\u001b[0m     response_type\u001b[39m=\u001b[39;49m\u001b[39mself\u001b[39;49m\u001b[39m.\u001b[39;49msettings[\u001b[39m'\u001b[39;49m\u001b[39mresponse_type\u001b[39;49m\u001b[39m'\u001b[39;49m],\n\u001b[0;32m    847\u001b[0m     auth_settings\u001b[39m=\u001b[39;49m\u001b[39mself\u001b[39;49m\u001b[39m.\u001b[39;49msettings[\u001b[39m'\u001b[39;49m\u001b[39mauth\u001b[39;49m\u001b[39m'\u001b[39;49m],\n\u001b[0;32m    848\u001b[0m     async_req\u001b[39m=\u001b[39;49mkwargs[\u001b[39m'\u001b[39;49m\u001b[39masync_req\u001b[39;49m\u001b[39m'\u001b[39;49m],\n\u001b[0;32m    849\u001b[0m     _check_type\u001b[39m=\u001b[39;49mkwargs[\u001b[39m'\u001b[39;49m\u001b[39m_check_return_type\u001b[39;49m\u001b[39m'\u001b[39;49m],\n\u001b[0;32m    850\u001b[0m     _return_http_data_only\u001b[39m=\u001b[39;49mkwargs[\u001b[39m'\u001b[39;49m\u001b[39m_return_http_data_only\u001b[39;49m\u001b[39m'\u001b[39;49m],\n\u001b[0;32m    851\u001b[0m     _preload_content\u001b[39m=\u001b[39;49mkwargs[\u001b[39m'\u001b[39;49m\u001b[39m_preload_content\u001b[39;49m\u001b[39m'\u001b[39;49m],\n\u001b[0;32m    852\u001b[0m     _request_timeout\u001b[39m=\u001b[39;49mkwargs[\u001b[39m'\u001b[39;49m\u001b[39m_request_timeout\u001b[39;49m\u001b[39m'\u001b[39;49m],\n\u001b[0;32m    853\u001b[0m     _host\u001b[39m=\u001b[39;49m_host,\n\u001b[0;32m    854\u001b[0m     collection_formats\u001b[39m=\u001b[39;49mparams[\u001b[39m'\u001b[39;49m\u001b[39mcollection_format\u001b[39;49m\u001b[39m'\u001b[39;49m])\n",
      "File \u001b[1;32mc:\\Users\\sjufa\\anaconda3\\envs\\vclone1\\lib\\site-packages\\pinecone\\core\\client\\api_client.py:413\u001b[0m, in \u001b[0;36mApiClient.call_api\u001b[1;34m(self, resource_path, method, path_params, query_params, header_params, body, post_params, files, response_type, auth_settings, async_req, _return_http_data_only, collection_formats, _preload_content, _request_timeout, _host, _check_type)\u001b[0m\n\u001b[0;32m    359\u001b[0m \u001b[39m\u001b[39m\u001b[39m\"\"\"Makes the HTTP request (synchronous) and returns deserialized data.\u001b[39;00m\n\u001b[0;32m    360\u001b[0m \n\u001b[0;32m    361\u001b[0m \u001b[39mTo make an async_req request, set the async_req parameter.\u001b[39;00m\n\u001b[1;32m   (...)\u001b[0m\n\u001b[0;32m    410\u001b[0m \u001b[39m    then the method will return the response directly.\u001b[39;00m\n\u001b[0;32m    411\u001b[0m \u001b[39m\"\"\"\u001b[39;00m\n\u001b[0;32m    412\u001b[0m \u001b[39mif\u001b[39;00m \u001b[39mnot\u001b[39;00m async_req:\n\u001b[1;32m--> 413\u001b[0m     \u001b[39mreturn\u001b[39;00m \u001b[39mself\u001b[39;49m\u001b[39m.\u001b[39;49m__call_api(resource_path, method,\n\u001b[0;32m    414\u001b[0m                            path_params, query_params, header_params,\n\u001b[0;32m    415\u001b[0m                            body, post_params, files,\n\u001b[0;32m    416\u001b[0m                            response_type, auth_settings,\n\u001b[0;32m    417\u001b[0m                            _return_http_data_only, collection_formats,\n\u001b[0;32m    418\u001b[0m                            _preload_content, _request_timeout, _host,\n\u001b[0;32m    419\u001b[0m                            _check_type)\n\u001b[0;32m    421\u001b[0m \u001b[39mreturn\u001b[39;00m \u001b[39mself\u001b[39m\u001b[39m.\u001b[39mpool\u001b[39m.\u001b[39mapply_async(\u001b[39mself\u001b[39m\u001b[39m.\u001b[39m__call_api, (resource_path,\n\u001b[0;32m    422\u001b[0m                                                method, path_params,\n\u001b[0;32m    423\u001b[0m                                                query_params,\n\u001b[1;32m   (...)\u001b[0m\n\u001b[0;32m    431\u001b[0m                                                _request_timeout,\n\u001b[0;32m    432\u001b[0m                                                _host, _check_type))\n",
      "File \u001b[1;32mc:\\Users\\sjufa\\anaconda3\\envs\\vclone1\\lib\\site-packages\\pinecone\\core\\client\\api_client.py:207\u001b[0m, in \u001b[0;36mApiClient.__call_api\u001b[1;34m(self, resource_path, method, path_params, query_params, header_params, body, post_params, files, response_type, auth_settings, _return_http_data_only, collection_formats, _preload_content, _request_timeout, _host, _check_type)\u001b[0m\n\u001b[0;32m    205\u001b[0m \u001b[39mexcept\u001b[39;00m ApiException \u001b[39mas\u001b[39;00m e:\n\u001b[0;32m    206\u001b[0m     e\u001b[39m.\u001b[39mbody \u001b[39m=\u001b[39m e\u001b[39m.\u001b[39mbody\u001b[39m.\u001b[39mdecode(\u001b[39m'\u001b[39m\u001b[39mutf-8\u001b[39m\u001b[39m'\u001b[39m)\n\u001b[1;32m--> 207\u001b[0m     \u001b[39mraise\u001b[39;00m e\n\u001b[0;32m    209\u001b[0m \u001b[39mself\u001b[39m\u001b[39m.\u001b[39mlast_response \u001b[39m=\u001b[39m response_data\n\u001b[0;32m    211\u001b[0m return_data \u001b[39m=\u001b[39m response_data\n",
      "File \u001b[1;32mc:\\Users\\sjufa\\anaconda3\\envs\\vclone1\\lib\\site-packages\\pinecone\\core\\client\\api_client.py:200\u001b[0m, in \u001b[0;36mApiClient.__call_api\u001b[1;34m(self, resource_path, method, path_params, query_params, header_params, body, post_params, files, response_type, auth_settings, _return_http_data_only, collection_formats, _preload_content, _request_timeout, _host, _check_type)\u001b[0m\n\u001b[0;32m    196\u001b[0m     url \u001b[39m=\u001b[39m _host \u001b[39m+\u001b[39m resource_path\n\u001b[0;32m    198\u001b[0m \u001b[39mtry\u001b[39;00m:\n\u001b[0;32m    199\u001b[0m     \u001b[39m# perform request and return response\u001b[39;00m\n\u001b[1;32m--> 200\u001b[0m     response_data \u001b[39m=\u001b[39m \u001b[39mself\u001b[39;49m\u001b[39m.\u001b[39;49mrequest(\n\u001b[0;32m    201\u001b[0m         method, url, query_params\u001b[39m=\u001b[39;49mquery_params, headers\u001b[39m=\u001b[39;49mheader_params,\n\u001b[0;32m    202\u001b[0m         post_params\u001b[39m=\u001b[39;49mpost_params, body\u001b[39m=\u001b[39;49mbody,\n\u001b[0;32m    203\u001b[0m         _preload_content\u001b[39m=\u001b[39;49m_preload_content,\n\u001b[0;32m    204\u001b[0m         _request_timeout\u001b[39m=\u001b[39;49m_request_timeout)\n\u001b[0;32m    205\u001b[0m \u001b[39mexcept\u001b[39;00m ApiException \u001b[39mas\u001b[39;00m e:\n\u001b[0;32m    206\u001b[0m     e\u001b[39m.\u001b[39mbody \u001b[39m=\u001b[39m e\u001b[39m.\u001b[39mbody\u001b[39m.\u001b[39mdecode(\u001b[39m'\u001b[39m\u001b[39mutf-8\u001b[39m\u001b[39m'\u001b[39m)\n",
      "File \u001b[1;32mc:\\Users\\sjufa\\anaconda3\\envs\\vclone1\\lib\\site-packages\\pinecone\\core\\client\\api_client.py:459\u001b[0m, in \u001b[0;36mApiClient.request\u001b[1;34m(self, method, url, query_params, headers, post_params, body, _preload_content, _request_timeout)\u001b[0m\n\u001b[0;32m    451\u001b[0m     \u001b[39mreturn\u001b[39;00m \u001b[39mself\u001b[39m\u001b[39m.\u001b[39mrest_client\u001b[39m.\u001b[39mOPTIONS(url,\n\u001b[0;32m    452\u001b[0m                                     query_params\u001b[39m=\u001b[39mquery_params,\n\u001b[0;32m    453\u001b[0m                                     headers\u001b[39m=\u001b[39mheaders,\n\u001b[1;32m   (...)\u001b[0m\n\u001b[0;32m    456\u001b[0m                                     _request_timeout\u001b[39m=\u001b[39m_request_timeout,\n\u001b[0;32m    457\u001b[0m                                     body\u001b[39m=\u001b[39mbody)\n\u001b[0;32m    458\u001b[0m \u001b[39melif\u001b[39;00m method \u001b[39m==\u001b[39m \u001b[39m\"\u001b[39m\u001b[39mPOST\u001b[39m\u001b[39m\"\u001b[39m:\n\u001b[1;32m--> 459\u001b[0m     \u001b[39mreturn\u001b[39;00m \u001b[39mself\u001b[39;49m\u001b[39m.\u001b[39;49mrest_client\u001b[39m.\u001b[39;49mPOST(url,\n\u001b[0;32m    460\u001b[0m                                  query_params\u001b[39m=\u001b[39;49mquery_params,\n\u001b[0;32m    461\u001b[0m                                  headers\u001b[39m=\u001b[39;49mheaders,\n\u001b[0;32m    462\u001b[0m                                  post_params\u001b[39m=\u001b[39;49mpost_params,\n\u001b[0;32m    463\u001b[0m                                  _preload_content\u001b[39m=\u001b[39;49m_preload_content,\n\u001b[0;32m    464\u001b[0m                                  _request_timeout\u001b[39m=\u001b[39;49m_request_timeout,\n\u001b[0;32m    465\u001b[0m                                  body\u001b[39m=\u001b[39;49mbody)\n\u001b[0;32m    466\u001b[0m \u001b[39melif\u001b[39;00m method \u001b[39m==\u001b[39m \u001b[39m\"\u001b[39m\u001b[39mPUT\u001b[39m\u001b[39m\"\u001b[39m:\n\u001b[0;32m    467\u001b[0m     \u001b[39mreturn\u001b[39;00m \u001b[39mself\u001b[39m\u001b[39m.\u001b[39mrest_client\u001b[39m.\u001b[39mPUT(url,\n\u001b[0;32m    468\u001b[0m                                 query_params\u001b[39m=\u001b[39mquery_params,\n\u001b[0;32m    469\u001b[0m                                 headers\u001b[39m=\u001b[39mheaders,\n\u001b[1;32m   (...)\u001b[0m\n\u001b[0;32m    472\u001b[0m                                 _request_timeout\u001b[39m=\u001b[39m_request_timeout,\n\u001b[0;32m    473\u001b[0m                                 body\u001b[39m=\u001b[39mbody)\n",
      "File \u001b[1;32mc:\\Users\\sjufa\\anaconda3\\envs\\vclone1\\lib\\site-packages\\pinecone\\core\\client\\rest.py:271\u001b[0m, in \u001b[0;36mRESTClientObject.POST\u001b[1;34m(self, url, headers, query_params, post_params, body, _preload_content, _request_timeout)\u001b[0m\n\u001b[0;32m    269\u001b[0m \u001b[39mdef\u001b[39;00m \u001b[39mPOST\u001b[39m(\u001b[39mself\u001b[39m, url, headers\u001b[39m=\u001b[39m\u001b[39mNone\u001b[39;00m, query_params\u001b[39m=\u001b[39m\u001b[39mNone\u001b[39;00m, post_params\u001b[39m=\u001b[39m\u001b[39mNone\u001b[39;00m,\n\u001b[0;32m    270\u001b[0m          body\u001b[39m=\u001b[39m\u001b[39mNone\u001b[39;00m, _preload_content\u001b[39m=\u001b[39m\u001b[39mTrue\u001b[39;00m, _request_timeout\u001b[39m=\u001b[39m\u001b[39mNone\u001b[39;00m):\n\u001b[1;32m--> 271\u001b[0m     \u001b[39mreturn\u001b[39;00m \u001b[39mself\u001b[39;49m\u001b[39m.\u001b[39;49mrequest(\u001b[39m\"\u001b[39;49m\u001b[39mPOST\u001b[39;49m\u001b[39m\"\u001b[39;49m, url,\n\u001b[0;32m    272\u001b[0m                         headers\u001b[39m=\u001b[39;49mheaders,\n\u001b[0;32m    273\u001b[0m                         query_params\u001b[39m=\u001b[39;49mquery_params,\n\u001b[0;32m    274\u001b[0m                         post_params\u001b[39m=\u001b[39;49mpost_params,\n\u001b[0;32m    275\u001b[0m                         _preload_content\u001b[39m=\u001b[39;49m_preload_content,\n\u001b[0;32m    276\u001b[0m                         _request_timeout\u001b[39m=\u001b[39;49m_request_timeout,\n\u001b[0;32m    277\u001b[0m                         body\u001b[39m=\u001b[39;49mbody)\n",
      "File \u001b[1;32mc:\\Users\\sjufa\\anaconda3\\envs\\vclone1\\lib\\site-packages\\pinecone\\core\\client\\rest.py:230\u001b[0m, in \u001b[0;36mRESTClientObject.request\u001b[1;34m(self, method, url, query_params, headers, body, post_params, _preload_content, _request_timeout)\u001b[0m\n\u001b[0;32m    227\u001b[0m     \u001b[39mif\u001b[39;00m \u001b[39m500\u001b[39m \u001b[39m<\u001b[39m\u001b[39m=\u001b[39m r\u001b[39m.\u001b[39mstatus \u001b[39m<\u001b[39m\u001b[39m=\u001b[39m \u001b[39m599\u001b[39m:\n\u001b[0;32m    228\u001b[0m         \u001b[39mraise\u001b[39;00m ServiceException(http_resp\u001b[39m=\u001b[39mr)\n\u001b[1;32m--> 230\u001b[0m     \u001b[39mraise\u001b[39;00m ApiException(http_resp\u001b[39m=\u001b[39mr)\n\u001b[0;32m    232\u001b[0m \u001b[39mreturn\u001b[39;00m r\n",
      "\u001b[1;31mApiException\u001b[0m: (400)\nReason: Bad Request\nHTTP response headers: HTTPHeaderDict({'content-type': 'application/json', 'date': 'Sat, 14 Oct 2023 18:40:02 GMT', 'x-envoy-upstream-service-time': '0', 'content-length': '60', 'server': 'envoy'})\nHTTP response body: {\"code\":3,\"message\":\"not supported value type\",\"details\":[]}\n"
     ]
    }
   ],
   "source": [
    "# For each song in the songs_list, embed the lyrics and create the metadata\n",
    "# for the Pinecone index\n",
    "upsert_lyrics(songs_list)\n",
    "\n"
   ]
  },
  {
   "cell_type": "code",
   "execution_count": 52,
   "metadata": {},
   "outputs": [],
   "source": [
    "from langchain.embeddings import OpenAIEmbeddings\n",
    "\n",
    "# Define a function to perform search on Pinecone\n",
    "def search(query: str, index=index, embeddings=OpenAIEmbeddings()):\n",
    "    \"\"\" Perform search on Pinecone. \"\"\"\n",
    "    # Embed the query\n",
    "    query = embeddings.embed_query(query)\n",
    "    # Perform search\n",
    "    results = index.query(queries=[query], top_k=3, include_metadata=True)\n",
    "    # Get song\n",
    "    return results\n",
    "\n",
    "search_results = search(\"I want to write a song about love\")\n",
    "    "
   ]
  },
  {
   "cell_type": "code",
   "execution_count": 85,
   "metadata": {},
   "outputs": [],
   "source": [
    "def convert_results_to_dicts(search_results):\n",
    "    dicts_list = []\n",
    "    results_dict = search_results.to_dict()\n",
    "    for result in results_dict[\"results\"][0][\"matches\"]:\n",
    "        song = SongClip(**result[\"metadata\"])\n",
    "        dicts_list.append(song.dict())\n",
    "        return dicts_list   \n",
    "    "
   ]
  },
  {
   "cell_type": "code",
   "execution_count": 86,
   "metadata": {},
   "outputs": [],
   "source": [
    "results_dict_list = convert_results_to_dicts(search_results)"
   ]
  },
  {
   "cell_type": "code",
   "execution_count": 87,
   "metadata": {},
   "outputs": [
    {
     "name": "stdout",
     "output_type": "stream",
     "text": [
      "[{'lyrics': '11 ContributorsGrey Street Lyrics[Verse 1]\\nOh, look at how she listens\\nShe says nothing of what she thinks\\nShe just goes stumbling through her memories\\nStaring out onto Grey Street\\nShe thinks, \"Hey, how did I come to this?\\nI dream myself a thousand times around the world\\nBut I can\\'t get out of this place\"\\n\\n[Chorus]\\nThere\\'s an emptiness inside her\\nAnd she\\'d do anything to fill it in\\nBut all the colors mix together - to grey\\nAnd it breaks her heart\\n\\n[Verse 2]\\nHow she wishes it was different\\nShe prays to God most every night\\nAnd though she swears it doesn\\'t listen\\nThere\\'s still a hope in her it might\\nShe says, \"I pray\\nBut they fall on deaf ears\\nAm I supposed to take it on myself?\\nTo get out of this place?\"\\n\\n[Chorus]\\nThere\\'s loneliness inside her\\nAnd she\\'d do anything to fill it in\\nAnd though it\\'s red blood bleeding from her now\\nIt feels like cold blue ice in her heart\\nWhen all the colors mix together - to grey\\nAnd it breaks her heart\\nSee Dave Matthews Band LiveGet tickets as low as $71You might also like[Verse 3]\\nThere\\'s a stranger speaks outside her door\\nSays, \"Take what you can from your dreams\\nMake them as real as anything\\nIt\\'d take the work out of the courage\"\\nBut she says, \"Please\\nThere\\'s a crazy man that\\'s creeping outside my door\\nI live on the corner of Grey Street\\nAnd the end of the world\"\\n\\n[Chorus]\\nThere\\'s an emptiness inside her\\nAnd she\\'d do anything to fill it in\\nAnd though it\\'s red blood bleeding from her now\\nIt\\'s more like cold blue ice in her heart\\nShe feels like kicking out all the windows\\nAnd setting fire to this life\\nShe could change everything about her\\nUsing colors bold and bright\\nBut all the colors mix together - to grey\\nAnd it breaks her heart\\nIt breaks her heart\\nTo grey2Embed', 'title': 'Grey Street', 'artist': 'Dave Matthews Band', 'album': 'Busted Stuff', 'source': 'https://genius.com/Dave-matthews-band-grey-street-lyrics', 'music': None, 'description': 'The third and final single from Busted Stuff, the second track off the album and fan favorite at shows.\\n\\nThe original version off The Lillywhite Sessions features added choruses with a bit of a different theme.\\n\\nAt live shows the song usually only has two verses, and two choruses with a jam after.\\n\\nhttps://www.youtube.com/watch?v=7O9Sf4P38oE'}]\n"
     ]
    }
   ],
   "source": [
    "print(results_dict_list)"
   ]
  },
  {
   "cell_type": "code",
   "execution_count": 102,
   "metadata": {},
   "outputs": [],
   "source": [
    "# Create an openai completion function\n",
    "def lyrics_chat(query: str):\n",
    "    \"\"\" Function to facilitate the chat between the user and the chatbot. \"\"\"\n",
    "    # Perform search\n",
    "    search_results = search(query)\n",
    "    # Convert the results to a dictionary\n",
    "    results_dict_list = convert_results_to_dicts(search_results)\n",
    "    # Construct the prompt\n",
    "    messages = [\n",
    "        {\"role\": \"system\", \"content\": f\"\"\"You are a musician in the style of Dave Matthews that is engaged\n",
    "        in a co-writing session with a fellow artist or fan. The user's most recent query is {query}.\n",
    "        The most relevant of your songs to their query in list form is {results_dict_list}.  Please write a\n",
    "        thoughtful response that is in the style of Dave Matthews and makes the user feel that you are\n",
    "        truly engaged in the co-writing session with them. Keep the conversation open-ended and engaging, and\n",
    "        think about how your songs in the song list may enrich the conversation.)\"\"\"},\n",
    "        {\"role\": \"user\", \"content\": query},\n",
    "        {\"role\": \"system\", \"content\": \"The musician responds:\"},\n",
    "    ]\n",
    "    # Create a list of models to iterate through\n",
    "    models = [\"gpt-4-0613\", \"gpt-4\", \"gpt-3.5-turbo-16k-0613\", \"gpt-3.5-turbo-16k, gpt-3.5-turbo-0613\", \"gpt-3.5-turbo\"]\n",
    "    for model in models:\n",
    "        try:\n",
    "            response = openai.ChatCompletion.create(\n",
    "                messages=messages,\n",
    "                model=model,\n",
    "                max_tokens=250,\n",
    "                temperature=0.7,\n",
    "                top_p=1,\n",
    "                frequency_penalty=0.5\n",
    "            )\n",
    "            artist_response = response.choices[0].message.content\n",
    "\n",
    "            # Return the artist response\n",
    "            return artist_response\n",
    "        except TimeoutError as e:\n",
    "            print(e)\n",
    "            continue"
   ]
  },
  {
   "cell_type": "code",
   "execution_count": 103,
   "metadata": {},
   "outputs": [],
   "source": [
    "answer = lyrics_chat(\"I want to write a song about love\")"
   ]
  },
  {
   "cell_type": "code",
   "execution_count": 104,
   "metadata": {},
   "outputs": [
    {
     "data": {
      "text/plain": [
       "\"That's a wonderful idea! Love is such a universal theme, yet it's so unique to every individual's experience. It can be as colorful and vibrant as a rainbow, but at times, just as the song 'Grey Street' suggests, it can mix together into shades of grey.\\n\\nJust like in 'Grey Street', there's an exploration of yearning and the complexity of emotions. Perhaps in our love song, we could dive into these depths too.\\n\\nWhat kind of love are you thinking about? Is it the passionate, all-consuming kind? Or maybe it's a gentle, steady love that grows over time? Or perhaps it's about lost love and the pain that comes with it?\\n\\nRemember, there are no wrong answers here. All emotions are valid and beautiful in their own way. Let's dive in deeper and see where this journey takes us.\""
      ]
     },
     "execution_count": 104,
     "metadata": {},
     "output_type": "execute_result"
    }
   ],
   "source": [
    "answer"
   ]
  },
  {
   "cell_type": "code",
   "execution_count": null,
   "metadata": {},
   "outputs": [],
   "source": []
  }
 ],
 "metadata": {
  "kernelspec": {
   "display_name": "vclone1",
   "language": "python",
   "name": "python3"
  },
  "language_info": {
   "codemirror_mode": {
    "name": "ipython",
    "version": 3
   },
   "file_extension": ".py",
   "mimetype": "text/x-python",
   "name": "python",
   "nbconvert_exporter": "python",
   "pygments_lexer": "ipython3",
   "version": "3.10.13"
  }
 },
 "nbformat": 4,
 "nbformat_minor": 2
}
