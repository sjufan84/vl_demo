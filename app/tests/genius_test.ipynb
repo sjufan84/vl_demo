{
 "cells": [
  {
   "cell_type": "code",
   "execution_count": 18,
   "metadata": {},
   "outputs": [],
   "source": [
    "\"\"\" Testing a new API to get song lyrics from Genius.com \"\"\"\n",
    "from dotenv import load_dotenv\n",
    "import os\n",
    "import lyricsgenius\n",
    "\n",
    "load_dotenv()\n",
    "\n",
    "# Get Genius.com API key from .env file\n",
    "GENIUS_API_KEY = os.getenv(\"GENIUS_TOKEN\")"
   ]
  },
  {
   "cell_type": "code",
   "execution_count": 19,
   "metadata": {},
   "outputs": [],
   "source": [
    "genius = lyricsgenius.Genius(GENIUS_API_KEY) # Initialize the Genius class"
   ]
  },
  {
   "cell_type": "code",
   "execution_count": 20,
   "metadata": {},
   "outputs": [
    {
     "name": "stdout",
     "output_type": "stream",
     "text": [
      "Searching for songs by Dave Matthews Band...\n",
      "\n",
      "Song 1: \"Crash Into Me\"\n",
      "Song 2: \"Ants Marching\"\n",
      "Song 3: \"#41\"\n",
      "Song 4: \"Two Step\"\n",
      "Song 5: \"Grey Street\"\n",
      "Song 6: \"Warehouse\"\n",
      "Song 7: \"Samurai Cop (Oh Joy Begin)\"\n",
      "Song 8: \"Satellite\"\n",
      "Song 9: \"The Space Between\"\n",
      "Song 10: \"Tripping Billies\"\n",
      "Song 11: \"Jimi Thing\"\n",
      "Song 12: \"You and Me\"\n",
      "Song 13: \"Crush\"\n",
      "Song 14: \"Granny\"\n",
      "Song 15: \"Say Goodbye\"\n",
      "Song 16: \"The Stone\"\n",
      "Song 17: \"Grace Is Gone\"\n",
      "Song 18: \"Christmas Song\"\n",
      "Song 19: \"Dancing Nancies\"\n",
      "Song 20: \"Bartender\"\n",
      "Song 21: \"Lie in Our Graves\"\n",
      "Song 22: \"Cry Freedom\"\n",
      "Song 23: \"What Would You Say\"\n",
      "Song 24: \"Come On Come On\"\n",
      "Song 25: \"The Song That Jane Likes\"\n",
      "Song 26: \"Seek Up\"\n",
      "Song 27: \"So Much to Say\"\n",
      "Song 28: \"The Best Of What’s Around\"\n",
      "Song 29: \"Lover Lay Down\"\n",
      "Song 30: \"Idea of You\"\n",
      "Song 31: \"Corn Bread\"\n",
      "Song 32: \"Come Tomorrow\"\n",
      "Song 33: \"Pig\"\n",
      "Song 34: \"That Girl Is You\"\n",
      "Song 35: \"Why I Am\"\n",
      "Song 36: \"Halloween\"\n",
      "Song 37: \"Too Much\"\n",
      "Song 38: \"Typical Situation\"\n",
      "Song 39: \"Can’t Stop\"\n",
      "Song 40: \"Where Are You Going\"\n",
      "Song 41: \"Don’t Drink the Water\"\n",
      "Song 42: \"Proudest Monkey\"\n",
      "Song 43: \"Break for It\"\n",
      "Song 44: \"One Sweet World\"\n",
      "Song 45: \"Here On Out\"\n",
      "Song 46: \"Rhyme & Reason\"\n",
      "Song 47: \"Funny the Way It Is\"\n",
      "Song 48: \"She\"\n",
      "Song 49: \"Again and Again\"\n",
      "Song 50: \"Monsters\"\n",
      "\n",
      "Reached user-specified song limit (50).\n",
      "Done. Found 50 songs.\n"
     ]
    }
   ],
   "source": [
    "artist = genius.search_artist(\"Dave Matthews Band\", max_songs=50, sort=\"popularity\") # Search for artist"
   ]
  },
  {
   "cell_type": "code",
   "execution_count": 6,
   "metadata": {},
   "outputs": [],
   "source": [
    "lyrics = artist.save_lyrics(filename=\"dave_lyrics.json\", verbose=False) # Save lyrics to a JSON file"
   ]
  },
  {
   "cell_type": "code",
   "execution_count": 8,
   "metadata": {},
   "outputs": [],
   "source": [
    "# Now that we’ve formatted the URL, we can make a request to the database.\n",
    "import json\n",
    "# Read in the json file\n",
    "with open('dave_lyrics.json') as json_file:\n",
    "    json_obj = json.load(json_file)"
   ]
  },
  {
   "cell_type": "code",
   "execution_count": 9,
   "metadata": {},
   "outputs": [
    {
     "data": {
      "text/html": [
       "<div>\n",
       "<style scoped>\n",
       "    .dataframe tbody tr th:only-of-type {\n",
       "        vertical-align: middle;\n",
       "    }\n",
       "\n",
       "    .dataframe tbody tr th {\n",
       "        vertical-align: top;\n",
       "    }\n",
       "\n",
       "    .dataframe thead th {\n",
       "        text-align: right;\n",
       "    }\n",
       "</style>\n",
       "<table border=\"1\" class=\"dataframe\">\n",
       "  <thead>\n",
       "    <tr style=\"text-align: right;\">\n",
       "      <th></th>\n",
       "      <th>annotation_count</th>\n",
       "      <th>api_path</th>\n",
       "      <th>artist_names</th>\n",
       "      <th>full_title</th>\n",
       "      <th>header_image_thumbnail_url</th>\n",
       "      <th>header_image_url</th>\n",
       "      <th>id</th>\n",
       "      <th>lyrics_owner_id</th>\n",
       "      <th>lyrics_state</th>\n",
       "      <th>path</th>\n",
       "      <th>...</th>\n",
       "      <th>media</th>\n",
       "      <th>producer_artists</th>\n",
       "      <th>song_relationships</th>\n",
       "      <th>translation_songs</th>\n",
       "      <th>verified_annotations_by</th>\n",
       "      <th>verified_contributors</th>\n",
       "      <th>verified_lyrics_by</th>\n",
       "      <th>writer_artists</th>\n",
       "      <th>artist</th>\n",
       "      <th>lyrics</th>\n",
       "    </tr>\n",
       "  </thead>\n",
       "  <tbody>\n",
       "    <tr>\n",
       "      <th>0</th>\n",
       "      <td>8</td>\n",
       "      <td>/songs/70252</td>\n",
       "      <td>Dave Matthews Band</td>\n",
       "      <td>Crash Into Me by Dave Matthews Band</td>\n",
       "      <td>https://images.rapgenius.com/9a3a1bd89f8c0a8ad...</td>\n",
       "      <td>https://images.rapgenius.com/9a3a1bd89f8c0a8ad...</td>\n",
       "      <td>70252</td>\n",
       "      <td>5</td>\n",
       "      <td>complete</td>\n",
       "      <td>/Dave-matthews-band-crash-into-me-lyrics</td>\n",
       "      <td>...</td>\n",
       "      <td>[{'native_uri': 'spotify:track:1HL3yEnYq8LEyFQ...</td>\n",
       "      <td>[{'api_path': '/artists/30993', 'header_image_...</td>\n",
       "      <td>[{'relationship_type': 'samples', 'type': 'sam...</td>\n",
       "      <td>[]</td>\n",
       "      <td>[]</td>\n",
       "      <td>[{'contributions': ['lyrics'], 'artist': {'api...</td>\n",
       "      <td>[{'api_path': '/users/1685336', 'avatar': {'ti...</td>\n",
       "      <td>[{'api_path': '/artists/6930', 'header_image_u...</td>\n",
       "      <td>Dave Matthews Band</td>\n",
       "      <td>37 ContributorsCrash Into Me Lyrics[Verse 1]\\n...</td>\n",
       "    </tr>\n",
       "    <tr>\n",
       "      <th>1</th>\n",
       "      <td>8</td>\n",
       "      <td>/songs/193790</td>\n",
       "      <td>Dave Matthews Band</td>\n",
       "      <td>Ants Marching by Dave Matthews Band</td>\n",
       "      <td>https://images.genius.com/9f0cf15521b7338c35f9...</td>\n",
       "      <td>https://images.genius.com/9f0cf15521b7338c35f9...</td>\n",
       "      <td>193790</td>\n",
       "      <td>165000</td>\n",
       "      <td>complete</td>\n",
       "      <td>/Dave-matthews-band-ants-marching-lyrics</td>\n",
       "      <td>...</td>\n",
       "      <td>[{'native_uri': 'spotify:track:2FfZg072w8RoxlM...</td>\n",
       "      <td>[{'api_path': '/artists/30993', 'header_image_...</td>\n",
       "      <td>[{'relationship_type': 'samples', 'type': 'sam...</td>\n",
       "      <td>[]</td>\n",
       "      <td>[]</td>\n",
       "      <td>[]</td>\n",
       "      <td>[]</td>\n",
       "      <td>[{'api_path': '/artists/6930', 'header_image_u...</td>\n",
       "      <td>Dave Matthews Band</td>\n",
       "      <td>24 ContributorsAnts Marching Lyrics[Verse 1]\\n...</td>\n",
       "    </tr>\n",
       "    <tr>\n",
       "      <th>2</th>\n",
       "      <td>9</td>\n",
       "      <td>/songs/200525</td>\n",
       "      <td>Dave Matthews Band</td>\n",
       "      <td>#41 by Dave Matthews Band</td>\n",
       "      <td>https://s3.amazonaws.com/rapgenius/Folder.jpg</td>\n",
       "      <td>https://s3.amazonaws.com/rapgenius/Folder.jpg</td>\n",
       "      <td>200525</td>\n",
       "      <td>117407</td>\n",
       "      <td>complete</td>\n",
       "      <td>/Dave-matthews-band-41-lyrics</td>\n",
       "      <td>...</td>\n",
       "      <td>[{'native_uri': 'spotify:track:2nklcPJ3YhYJfC2...</td>\n",
       "      <td>[{'api_path': '/artists/30993', 'header_image_...</td>\n",
       "      <td>[{'relationship_type': 'samples', 'type': 'sam...</td>\n",
       "      <td>[]</td>\n",
       "      <td>[]</td>\n",
       "      <td>[{'contributions': ['lyrics'], 'artist': {'api...</td>\n",
       "      <td>[{'api_path': '/users/1685336', 'avatar': {'ti...</td>\n",
       "      <td>[{'api_path': '/artists/583257', 'header_image...</td>\n",
       "      <td>Dave Matthews Band</td>\n",
       "      <td>14 Contributors#41 Lyrics[Verse]\\nCome and see...</td>\n",
       "    </tr>\n",
       "    <tr>\n",
       "      <th>3</th>\n",
       "      <td>3</td>\n",
       "      <td>/songs/191949</td>\n",
       "      <td>Dave Matthews Band</td>\n",
       "      <td>Two Step by Dave Matthews Band</td>\n",
       "      <td>https://s3.amazonaws.com/rapgenius/Folder.jpg</td>\n",
       "      <td>https://s3.amazonaws.com/rapgenius/Folder.jpg</td>\n",
       "      <td>191949</td>\n",
       "      <td>254205</td>\n",
       "      <td>complete</td>\n",
       "      <td>/Dave-matthews-band-two-step-lyrics</td>\n",
       "      <td>...</td>\n",
       "      <td>[{'native_uri': 'spotify:track:2Ou1Hyvr08mr0pZ...</td>\n",
       "      <td>[{'api_path': '/artists/30993', 'header_image_...</td>\n",
       "      <td>[{'relationship_type': 'samples', 'type': 'sam...</td>\n",
       "      <td>[]</td>\n",
       "      <td>[]</td>\n",
       "      <td>[]</td>\n",
       "      <td>[]</td>\n",
       "      <td>[{'api_path': '/artists/6930', 'header_image_u...</td>\n",
       "      <td>Dave Matthews Band</td>\n",
       "      <td>12 ContributorsTwo Step Lyrics[Verse 1]\\nSay, ...</td>\n",
       "    </tr>\n",
       "    <tr>\n",
       "      <th>4</th>\n",
       "      <td>4</td>\n",
       "      <td>/songs/188122</td>\n",
       "      <td>Dave Matthews Band</td>\n",
       "      <td>Grey Street by Dave Matthews Band</td>\n",
       "      <td>https://images.genius.com/bc3b93ba981444f1fc8e...</td>\n",
       "      <td>https://images.genius.com/bc3b93ba981444f1fc8e...</td>\n",
       "      <td>188122</td>\n",
       "      <td>91543</td>\n",
       "      <td>complete</td>\n",
       "      <td>/Dave-matthews-band-grey-street-lyrics</td>\n",
       "      <td>...</td>\n",
       "      <td>[{'native_uri': 'spotify:track:3GfoWuyiGYXMoWu...</td>\n",
       "      <td>[{'api_path': '/artists/60126', 'header_image_...</td>\n",
       "      <td>[{'relationship_type': 'samples', 'type': 'sam...</td>\n",
       "      <td>[]</td>\n",
       "      <td>[]</td>\n",
       "      <td>[{'contributions': ['lyrics'], 'artist': {'api...</td>\n",
       "      <td>[{'api_path': '/users/1685336', 'avatar': {'ti...</td>\n",
       "      <td>[{'api_path': '/artists/6930', 'header_image_u...</td>\n",
       "      <td>Dave Matthews Band</td>\n",
       "      <td>11 ContributorsGrey Street Lyrics[Verse 1]\\nOh...</td>\n",
       "    </tr>\n",
       "  </tbody>\n",
       "</table>\n",
       "<p>5 rows × 48 columns</p>\n",
       "</div>"
      ],
      "text/plain": [
       "   annotation_count       api_path        artist_names  \\\n",
       "0                 8   /songs/70252  Dave Matthews Band   \n",
       "1                 8  /songs/193790  Dave Matthews Band   \n",
       "2                 9  /songs/200525  Dave Matthews Band   \n",
       "3                 3  /songs/191949  Dave Matthews Band   \n",
       "4                 4  /songs/188122  Dave Matthews Band   \n",
       "\n",
       "                            full_title  \\\n",
       "0  Crash Into Me by Dave Matthews Band   \n",
       "1  Ants Marching by Dave Matthews Band   \n",
       "2            #41 by Dave Matthews Band   \n",
       "3       Two Step by Dave Matthews Band   \n",
       "4    Grey Street by Dave Matthews Band   \n",
       "\n",
       "                          header_image_thumbnail_url  \\\n",
       "0  https://images.rapgenius.com/9a3a1bd89f8c0a8ad...   \n",
       "1  https://images.genius.com/9f0cf15521b7338c35f9...   \n",
       "2      https://s3.amazonaws.com/rapgenius/Folder.jpg   \n",
       "3      https://s3.amazonaws.com/rapgenius/Folder.jpg   \n",
       "4  https://images.genius.com/bc3b93ba981444f1fc8e...   \n",
       "\n",
       "                                    header_image_url      id  lyrics_owner_id  \\\n",
       "0  https://images.rapgenius.com/9a3a1bd89f8c0a8ad...   70252                5   \n",
       "1  https://images.genius.com/9f0cf15521b7338c35f9...  193790           165000   \n",
       "2      https://s3.amazonaws.com/rapgenius/Folder.jpg  200525           117407   \n",
       "3      https://s3.amazonaws.com/rapgenius/Folder.jpg  191949           254205   \n",
       "4  https://images.genius.com/bc3b93ba981444f1fc8e...  188122            91543   \n",
       "\n",
       "  lyrics_state                                      path  ...  \\\n",
       "0     complete  /Dave-matthews-band-crash-into-me-lyrics  ...   \n",
       "1     complete  /Dave-matthews-band-ants-marching-lyrics  ...   \n",
       "2     complete             /Dave-matthews-band-41-lyrics  ...   \n",
       "3     complete       /Dave-matthews-band-two-step-lyrics  ...   \n",
       "4     complete    /Dave-matthews-band-grey-street-lyrics  ...   \n",
       "\n",
       "                                               media  \\\n",
       "0  [{'native_uri': 'spotify:track:1HL3yEnYq8LEyFQ...   \n",
       "1  [{'native_uri': 'spotify:track:2FfZg072w8RoxlM...   \n",
       "2  [{'native_uri': 'spotify:track:2nklcPJ3YhYJfC2...   \n",
       "3  [{'native_uri': 'spotify:track:2Ou1Hyvr08mr0pZ...   \n",
       "4  [{'native_uri': 'spotify:track:3GfoWuyiGYXMoWu...   \n",
       "\n",
       "                                    producer_artists  \\\n",
       "0  [{'api_path': '/artists/30993', 'header_image_...   \n",
       "1  [{'api_path': '/artists/30993', 'header_image_...   \n",
       "2  [{'api_path': '/artists/30993', 'header_image_...   \n",
       "3  [{'api_path': '/artists/30993', 'header_image_...   \n",
       "4  [{'api_path': '/artists/60126', 'header_image_...   \n",
       "\n",
       "                                  song_relationships translation_songs  \\\n",
       "0  [{'relationship_type': 'samples', 'type': 'sam...                []   \n",
       "1  [{'relationship_type': 'samples', 'type': 'sam...                []   \n",
       "2  [{'relationship_type': 'samples', 'type': 'sam...                []   \n",
       "3  [{'relationship_type': 'samples', 'type': 'sam...                []   \n",
       "4  [{'relationship_type': 'samples', 'type': 'sam...                []   \n",
       "\n",
       "  verified_annotations_by                              verified_contributors  \\\n",
       "0                      []  [{'contributions': ['lyrics'], 'artist': {'api...   \n",
       "1                      []                                                 []   \n",
       "2                      []  [{'contributions': ['lyrics'], 'artist': {'api...   \n",
       "3                      []                                                 []   \n",
       "4                      []  [{'contributions': ['lyrics'], 'artist': {'api...   \n",
       "\n",
       "                                  verified_lyrics_by  \\\n",
       "0  [{'api_path': '/users/1685336', 'avatar': {'ti...   \n",
       "1                                                 []   \n",
       "2  [{'api_path': '/users/1685336', 'avatar': {'ti...   \n",
       "3                                                 []   \n",
       "4  [{'api_path': '/users/1685336', 'avatar': {'ti...   \n",
       "\n",
       "                                      writer_artists              artist  \\\n",
       "0  [{'api_path': '/artists/6930', 'header_image_u...  Dave Matthews Band   \n",
       "1  [{'api_path': '/artists/6930', 'header_image_u...  Dave Matthews Band   \n",
       "2  [{'api_path': '/artists/583257', 'header_image...  Dave Matthews Band   \n",
       "3  [{'api_path': '/artists/6930', 'header_image_u...  Dave Matthews Band   \n",
       "4  [{'api_path': '/artists/6930', 'header_image_u...  Dave Matthews Band   \n",
       "\n",
       "                                              lyrics  \n",
       "0  37 ContributorsCrash Into Me Lyrics[Verse 1]\\n...  \n",
       "1  24 ContributorsAnts Marching Lyrics[Verse 1]\\n...  \n",
       "2  14 Contributors#41 Lyrics[Verse]\\nCome and see...  \n",
       "3  12 ContributorsTwo Step Lyrics[Verse 1]\\nSay, ...  \n",
       "4  11 ContributorsGrey Street Lyrics[Verse 1]\\nOh...  \n",
       "\n",
       "[5 rows x 48 columns]"
      ]
     },
     "execution_count": 9,
     "metadata": {},
     "output_type": "execute_result"
    }
   ],
   "source": [
    "import pandas as pd\n",
    "\n",
    "# Create a dataframe from the json file\n",
    "df = pd.DataFrame(json_obj['songs'])\n",
    "df.head()"
   ]
  },
  {
   "cell_type": "code",
   "execution_count": 14,
   "metadata": {},
   "outputs": [],
   "source": [
    "# Create a dictionary of song titles and lyrics\n",
    "song_dict = {}\n",
    "for i in range(len(df)):\n",
    "    song_dict[df['title'][i]] = df['lyrics'][i]\n",
    "    # Slice the string to get rid of the characters before the first '['\n",
    "    song_dict[df['title'][i]] = song_dict[df['title'][i]][song_dict[df['title'][i]].find('['):]"
   ]
  },
  {
   "cell_type": "code",
   "execution_count": 15,
   "metadata": {},
   "outputs": [
    {
     "data": {
      "text/html": [
       "<div>\n",
       "<style scoped>\n",
       "    .dataframe tbody tr th:only-of-type {\n",
       "        vertical-align: middle;\n",
       "    }\n",
       "\n",
       "    .dataframe tbody tr th {\n",
       "        vertical-align: top;\n",
       "    }\n",
       "\n",
       "    .dataframe thead th {\n",
       "        text-align: right;\n",
       "    }\n",
       "</style>\n",
       "<table border=\"1\" class=\"dataframe\">\n",
       "  <thead>\n",
       "    <tr style=\"text-align: right;\">\n",
       "      <th></th>\n",
       "      <th>Lyrics</th>\n",
       "    </tr>\n",
       "    <tr>\n",
       "      <th>Song Title</th>\n",
       "      <th></th>\n",
       "    </tr>\n",
       "  </thead>\n",
       "  <tbody>\n",
       "    <tr>\n",
       "      <th>Crash Into Me</th>\n",
       "      <td>[Verse 1]\\nYou've got your ball, you got your ...</td>\n",
       "    </tr>\n",
       "    <tr>\n",
       "      <th>Ants Marching</th>\n",
       "      <td>[Verse 1]\\nHe wakes up in the morning\\nDoes hi...</td>\n",
       "    </tr>\n",
       "    <tr>\n",
       "      <th>#41</th>\n",
       "      <td>[Verse]\\nCome and see\\nI swear by now I'm play...</td>\n",
       "    </tr>\n",
       "    <tr>\n",
       "      <th>Two Step</th>\n",
       "      <td>[Verse 1]\\nSay, my love, I came to you with be...</td>\n",
       "    </tr>\n",
       "    <tr>\n",
       "      <th>Grey Street</th>\n",
       "      <td>[Verse 1]\\nOh, look at how she listens\\nShe sa...</td>\n",
       "    </tr>\n",
       "  </tbody>\n",
       "</table>\n",
       "</div>"
      ],
      "text/plain": [
       "                                                          Lyrics\n",
       "Song Title                                                      \n",
       "Crash Into Me  [Verse 1]\\nYou've got your ball, you got your ...\n",
       "Ants Marching  [Verse 1]\\nHe wakes up in the morning\\nDoes hi...\n",
       "#41            [Verse]\\nCome and see\\nI swear by now I'm play...\n",
       "Two Step       [Verse 1]\\nSay, my love, I came to you with be...\n",
       "Grey Street    [Verse 1]\\nOh, look at how she listens\\nShe sa..."
      ]
     },
     "execution_count": 15,
     "metadata": {},
     "output_type": "execute_result"
    }
   ],
   "source": [
    "# Create a pandas dataframe from the dictionary\n",
    "lyrics_df = pd.DataFrame.from_dict(song_dict, orient='index')\n",
    "\n",
    "# Make the index \"Song Title\" with the column name \"Lyrics\"\n",
    "lyrics_df.index.name = 'Song Title'\n",
    "lyrics_df.columns = ['Lyrics']\n",
    "\n",
    "# Print the dataframe\n",
    "lyrics_df.head()"
   ]
  },
  {
   "cell_type": "code",
   "execution_count": 16,
   "metadata": {},
   "outputs": [
    {
     "data": {
      "text/plain": [
       "Index(['Crash Into Me', 'Ants Marching', '#41', 'Two Step', 'Grey Street',\n",
       "       'Warehouse', 'Samurai Cop (Oh Joy Begin)', 'Satellite',\n",
       "       'The Space Between', 'Tripping Billies', 'Jimi Thing', 'You and Me',\n",
       "       'Crush', 'Granny', 'Say Goodbye', 'The Stone', 'Grace Is Gone',\n",
       "       'Christmas Song', 'Dancing Nancies', 'Bartender'],\n",
       "      dtype='object', name='Song Title')"
      ]
     },
     "execution_count": 16,
     "metadata": {},
     "output_type": "execute_result"
    }
   ],
   "source": [
    "lyrics_df.index"
   ]
  },
  {
   "cell_type": "code",
   "execution_count": 10,
   "metadata": {},
   "outputs": [],
   "source": [
    "# Export the dataframe to a csv file\n",
    "lyrics_df.to_csv('combs_lyrics.csv')"
   ]
  },
  {
   "cell_type": "code",
   "execution_count": 28,
   "metadata": {},
   "outputs": [
    {
     "name": "stdout",
     "output_type": "stream",
     "text": [
      "{'song_title': 'Cold As You', 'lyrics': '[Verse 1]\\nIt\\'s a junked out joint off a backroad\\nA blinkin\\' window sign with an arrow\\nA gravel\\u2005Iot\\u2005chock full o\\'\\u2005toolbox trucks\\nMakin\\' their happy hour way\\u2005home\\n\\n[Pre-Chorus]\\nWhen guys like me lose girls like you\\nThat\\'s where we\\u205frun\\u205fto\\n\\n[Chorus]\\nThey\\u205fgot \"Whiskey River\"\\u205fon the jukebox\\nA\\u205fhonky tonk sawdust dance floor\\nA neon, five o\\'clock, pro clock\\nAnd plenty damn many when you want one more\\nThis broke-heart fool on an old bar stool\\nDrinkin\\' beer almost as cold as you\\n\\n[Verse 2]\\nBunch of good time numbers on the stall door\\nA picture o\\' you on the dart board\\nThem cinder block walls ain\\'t ever been cleaned\\nStill ain\\'t as dirty as you done me\\n\\n[Chorus]\\n\"Whiskey River\" on the jukebox\\nA honky-tonk sawdust dance floor\\nA neon, five o\\'clock, pro clock\\nAnd plenty damn many when you want one more\\nThis broke-heart fool on an old bar stool\\nDrinkin\\' beer almost as cold as you\\nSee Luke Combs LiveGet tickets as low as $43You might also like[Instrumental]\\n\\n[Pre-Chorus]\\nWhen guys like me lose girls like you\\nThat\\'s where we run to\\n\\n[Chorus]\\nWe got \"Whiskey River\" on a jukebox\\nA honky-tonk sawdust dance floor\\nA neon, five o\\'clock, pro clock\\nAnd plenty damn many when you want one more\\nThis broke-heart fool on an old bar stool\\nDrinkin\\' beer almost as cold as you\\n\\n[Outro]\\nCold as you2Embed'}\n"
     ]
    }
   ],
   "source": [
    "print({'song_title' : lyrics_df.index[19], 'lyrics' : lyrics_df['Lyrics'][19]})"
   ]
  },
  {
   "cell_type": "code",
   "execution_count": 89,
   "metadata": {},
   "outputs": [],
   "source": [
    "lyrics_df['file_name'] = [\"../tests/audio_files/artist_main/lc_five_leaf_clover.mp3\", \"../tests/audio_files/artist_main/lc_aint_far_from_it.mp3\", \"../tests/audio_files/artist_main/lc_beautiful_crazy.wav\", \"../tests/audio_files/artist_main/lc_hurricane\", \"../tests/audio_files/artist_main/lc_fastcar.wav\", \"../tests/audio_files/artist_main/lc_growinup_gettinold.wav\" ]"
   ]
  },
  {
   "cell_type": "code",
   "execution_count": 76,
   "metadata": {},
   "outputs": [
    {
     "data": {
      "text/html": [
       "<div>\n",
       "<style scoped>\n",
       "    .dataframe tbody tr th:only-of-type {\n",
       "        vertical-align: middle;\n",
       "    }\n",
       "\n",
       "    .dataframe tbody tr th {\n",
       "        vertical-align: top;\n",
       "    }\n",
       "\n",
       "    .dataframe thead th {\n",
       "        text-align: right;\n",
       "    }\n",
       "</style>\n",
       "<table border=\"1\" class=\"dataframe\">\n",
       "  <thead>\n",
       "    <tr style=\"text-align: right;\">\n",
       "      <th></th>\n",
       "      <th>tempo</th>\n",
       "      <th>key</th>\n",
       "      <th>Song Title</th>\n",
       "      <th>Lyrics</th>\n",
       "      <th>description</th>\n",
       "      <th>file_name</th>\n",
       "    </tr>\n",
       "  </thead>\n",
       "  <tbody>\n",
       "    <tr>\n",
       "      <th>0</th>\n",
       "      <td>167 BPM</td>\n",
       "      <td>Db Major</td>\n",
       "      <td>5 Leaf Clover</td>\n",
       "      <td>[Verse 1]\\nWell, I go to work every Monday\\nGe...</td>\n",
       "      <td>a heartfelt country song that celebrates the s...</td>\n",
       "      <td></td>\n",
       "    </tr>\n",
       "    <tr>\n",
       "      <th>1</th>\n",
       "      <td>152 BPM</td>\n",
       "      <td>Eb Major</td>\n",
       "      <td>Ain’t Far From It</td>\n",
       "      <td>[Verse 1]\\nGive me a stone cold George Jones, ...</td>\n",
       "      <td>\"Ain't Far From It\" is a country anthem captur...</td>\n",
       "      <td></td>\n",
       "    </tr>\n",
       "    <tr>\n",
       "      <th>2</th>\n",
       "      <td>96 BPM</td>\n",
       "      <td>E Major</td>\n",
       "      <td>Beautiful Crazy</td>\n",
       "      <td>Her day starts with a coffee\\nAnd ends with a ...</td>\n",
       "      <td>celebrates the quirks and unpredictable nature...</td>\n",
       "      <td>../tests/audio_files/artist_main/lc_beautiful_...</td>\n",
       "    </tr>\n",
       "    <tr>\n",
       "      <th>3</th>\n",
       "      <td>77 BPM</td>\n",
       "      <td>Ab Major</td>\n",
       "      <td>Hurricane</td>\n",
       "      <td>33 ContributorsHurricane Lyrics[Verse 1]\\nHadn...</td>\n",
       "      <td>NaN</td>\n",
       "      <td>../tests/audio_files/artist_main/lc_hurricane</td>\n",
       "    </tr>\n",
       "    <tr>\n",
       "      <th>4</th>\n",
       "      <td>114 BPM</td>\n",
       "      <td>A Major</td>\n",
       "      <td>Fast Car</td>\n",
       "      <td>11 ContributorsTranslationsPortuguêsFast Car L...</td>\n",
       "      <td>\"Fast Car\" delves into the story of a couple a...</td>\n",
       "      <td>../tests/audio_files/artist_main/lc_fastcar.wav</td>\n",
       "    </tr>\n",
       "  </tbody>\n",
       "</table>\n",
       "</div>"
      ],
      "text/plain": [
       "     tempo       key         Song Title  \\\n",
       "0  167 BPM  Db Major      5 Leaf Clover   \n",
       "1  152 BPM  Eb Major  Ain’t Far From It   \n",
       "2   96 BPM   E Major    Beautiful Crazy   \n",
       "3   77 BPM  Ab Major          Hurricane   \n",
       "4  114 BPM   A Major           Fast Car   \n",
       "\n",
       "                                              Lyrics  \\\n",
       "0  [Verse 1]\\nWell, I go to work every Monday\\nGe...   \n",
       "1  [Verse 1]\\nGive me a stone cold George Jones, ...   \n",
       "2  Her day starts with a coffee\\nAnd ends with a ...   \n",
       "3  33 ContributorsHurricane Lyrics[Verse 1]\\nHadn...   \n",
       "4  11 ContributorsTranslationsPortuguêsFast Car L...   \n",
       "\n",
       "                                         description  \\\n",
       "0  a heartfelt country song that celebrates the s...   \n",
       "1  \"Ain't Far From It\" is a country anthem captur...   \n",
       "2  celebrates the quirks and unpredictable nature...   \n",
       "3                                                NaN   \n",
       "4  \"Fast Car\" delves into the story of a couple a...   \n",
       "\n",
       "                                           file_name  \n",
       "0                                                     \n",
       "1                                                     \n",
       "2  ../tests/audio_files/artist_main/lc_beautiful_...  \n",
       "3      ../tests/audio_files/artist_main/lc_hurricane  \n",
       "4    ../tests/audio_files/artist_main/lc_fastcar.wav  "
      ]
     },
     "execution_count": 76,
     "metadata": {},
     "output_type": "execute_result"
    }
   ],
   "source": [
    "lyrics_df.head()"
   ]
  },
  {
   "cell_type": "code",
   "execution_count": 29,
   "metadata": {},
   "outputs": [],
   "source": [
    "training_df = pd.read_csv('lc_training.csv')"
   ]
  },
  {
   "cell_type": "code",
   "execution_count": 35,
   "metadata": {},
   "outputs": [
    {
     "data": {
      "text/html": [
       "<div>\n",
       "<style scoped>\n",
       "    .dataframe tbody tr th:only-of-type {\n",
       "        vertical-align: middle;\n",
       "    }\n",
       "\n",
       "    .dataframe tbody tr th {\n",
       "        vertical-align: top;\n",
       "    }\n",
       "\n",
       "    .dataframe thead th {\n",
       "        text-align: right;\n",
       "    }\n",
       "</style>\n",
       "<table border=\"1\" class=\"dataframe\">\n",
       "  <thead>\n",
       "    <tr style=\"text-align: right;\">\n",
       "      <th></th>\n",
       "      <th>Conversations</th>\n",
       "    </tr>\n",
       "  </thead>\n",
       "  <tbody>\n",
       "    <tr>\n",
       "      <th>0</th>\n",
       "      <td>\"messages\": [    {\"role\": \"system\", \"content...</td>\n",
       "    </tr>\n",
       "    <tr>\n",
       "      <th>1</th>\n",
       "      <td>{  \"messages\": [    {\"role\": \"system\", \"conten...</td>\n",
       "    </tr>\n",
       "    <tr>\n",
       "      <th>2</th>\n",
       "      <td>{  \"messages\": [    {\"role\": \"system\", \"conten...</td>\n",
       "    </tr>\n",
       "    <tr>\n",
       "      <th>3</th>\n",
       "      <td>{  \"messages\": [    {\"role\": \"system\", \"conten...</td>\n",
       "    </tr>\n",
       "    <tr>\n",
       "      <th>4</th>\n",
       "      <td>{  \"messages\": [    {\"role\": \"system\", \"conten...</td>\n",
       "    </tr>\n",
       "    <tr>\n",
       "      <th>5</th>\n",
       "      <td>{  \"messages\": [    {\"role\": \"system\", \"conten...</td>\n",
       "    </tr>\n",
       "    <tr>\n",
       "      <th>6</th>\n",
       "      <td>{  \"messages\": [    {\"role\": \"system\", \"conten...</td>\n",
       "    </tr>\n",
       "    <tr>\n",
       "      <th>7</th>\n",
       "      <td>{  \"messages\": [    {\"role\": \"system\", \"conten...</td>\n",
       "    </tr>\n",
       "    <tr>\n",
       "      <th>8</th>\n",
       "      <td>{  \"messages\": [    {\"role\": \"system\", \"conten...</td>\n",
       "    </tr>\n",
       "    <tr>\n",
       "      <th>9</th>\n",
       "      <td>{  \"messages\": [    {\"role\": \"system\", \"conten...</td>\n",
       "    </tr>\n",
       "    <tr>\n",
       "      <th>10</th>\n",
       "      <td>{  \"messages\": [    {\"role\": \"system\", \"conten...</td>\n",
       "    </tr>\n",
       "    <tr>\n",
       "      <th>11</th>\n",
       "      <td>{  \"messages\": [    {\"role\": \"system\", \"conten...</td>\n",
       "    </tr>\n",
       "    <tr>\n",
       "      <th>12</th>\n",
       "      <td>{  \"messages\": [    {\"role\": \"system\", \"conten...</td>\n",
       "    </tr>\n",
       "    <tr>\n",
       "      <th>13</th>\n",
       "      <td>{  \"messages\": [    {\"role\": \"system\", \"conten...</td>\n",
       "    </tr>\n",
       "    <tr>\n",
       "      <th>14</th>\n",
       "      <td>{  \"messages\": [    {\"role\": \"system\", \"conten...</td>\n",
       "    </tr>\n",
       "    <tr>\n",
       "      <th>15</th>\n",
       "      <td>{  \"messages\": [    {\"role\": \"system\", \"conten...</td>\n",
       "    </tr>\n",
       "    <tr>\n",
       "      <th>16</th>\n",
       "      <td>{  \"messages\": [    {\"role\": \"system\", \"conten...</td>\n",
       "    </tr>\n",
       "    <tr>\n",
       "      <th>17</th>\n",
       "      <td>{  \"messages\": [    {\"role\": \"system\", \"conten...</td>\n",
       "    </tr>\n",
       "    <tr>\n",
       "      <th>18</th>\n",
       "      <td>{  \"messages\": [    {\"role\": \"system\", \"conten...</td>\n",
       "    </tr>\n",
       "    <tr>\n",
       "      <th>19</th>\n",
       "      <td>{  \"messages\": [    {\"role\": \"system\", \"conten...</td>\n",
       "    </tr>\n",
       "    <tr>\n",
       "      <th>20</th>\n",
       "      <td>{  \"messages\": [    {\"role\": \"system\", \"conten...</td>\n",
       "    </tr>\n",
       "    <tr>\n",
       "      <th>21</th>\n",
       "      <td>{  \"messages\": [    {\"role\": \"system\", \"conten...</td>\n",
       "    </tr>\n",
       "    <tr>\n",
       "      <th>22</th>\n",
       "      <td>{  \"messages\": [    {\"role\": \"system\", \"conten...</td>\n",
       "    </tr>\n",
       "    <tr>\n",
       "      <th>23</th>\n",
       "      <td>{  \"messages\": [    {\"role\": \"system\", \"conten...</td>\n",
       "    </tr>\n",
       "    <tr>\n",
       "      <th>24</th>\n",
       "      <td>{  \"messages\": [    {\"role\": \"system\", \"conten...</td>\n",
       "    </tr>\n",
       "    <tr>\n",
       "      <th>25</th>\n",
       "      <td>{  \"messages\": [    {\"role\": \"system\", \"conten...</td>\n",
       "    </tr>\n",
       "    <tr>\n",
       "      <th>26</th>\n",
       "      <td>{  \"messages\": [    {\"role\": \"system\", \"conten...</td>\n",
       "    </tr>\n",
       "    <tr>\n",
       "      <th>27</th>\n",
       "      <td>{  \"messages\": [    {\"role\": \"system\", \"conten...</td>\n",
       "    </tr>\n",
       "    <tr>\n",
       "      <th>28</th>\n",
       "      <td>{  \"messages\": [    {\"role\": \"system\", \"conten...</td>\n",
       "    </tr>\n",
       "    <tr>\n",
       "      <th>29</th>\n",
       "      <td>{  \"messages\": [    {\"role\": \"system\", \"conten...</td>\n",
       "    </tr>\n",
       "    <tr>\n",
       "      <th>30</th>\n",
       "      <td>{  \"messages\": [    {\"role\": \"system\", \"conten...</td>\n",
       "    </tr>\n",
       "    <tr>\n",
       "      <th>31</th>\n",
       "      <td>{  \"messages\": [    {\"role\": \"system\", \"conten...</td>\n",
       "    </tr>\n",
       "    <tr>\n",
       "      <th>32</th>\n",
       "      <td>{  \"messages\": [    {\"role\": \"system\", \"conten...</td>\n",
       "    </tr>\n",
       "  </tbody>\n",
       "</table>\n",
       "</div>"
      ],
      "text/plain": [
       "                                        Conversations\n",
       "0     \"messages\": [    {\"role\": \"system\", \"content...\n",
       "1   {  \"messages\": [    {\"role\": \"system\", \"conten...\n",
       "2   {  \"messages\": [    {\"role\": \"system\", \"conten...\n",
       "3   {  \"messages\": [    {\"role\": \"system\", \"conten...\n",
       "4   {  \"messages\": [    {\"role\": \"system\", \"conten...\n",
       "5   {  \"messages\": [    {\"role\": \"system\", \"conten...\n",
       "6   {  \"messages\": [    {\"role\": \"system\", \"conten...\n",
       "7   {  \"messages\": [    {\"role\": \"system\", \"conten...\n",
       "8   {  \"messages\": [    {\"role\": \"system\", \"conten...\n",
       "9   {  \"messages\": [    {\"role\": \"system\", \"conten...\n",
       "10  {  \"messages\": [    {\"role\": \"system\", \"conten...\n",
       "11  {  \"messages\": [    {\"role\": \"system\", \"conten...\n",
       "12  {  \"messages\": [    {\"role\": \"system\", \"conten...\n",
       "13  {  \"messages\": [    {\"role\": \"system\", \"conten...\n",
       "14  {  \"messages\": [    {\"role\": \"system\", \"conten...\n",
       "15  {  \"messages\": [    {\"role\": \"system\", \"conten...\n",
       "16  {  \"messages\": [    {\"role\": \"system\", \"conten...\n",
       "17  {  \"messages\": [    {\"role\": \"system\", \"conten...\n",
       "18  {  \"messages\": [    {\"role\": \"system\", \"conten...\n",
       "19  {  \"messages\": [    {\"role\": \"system\", \"conten...\n",
       "20  {  \"messages\": [    {\"role\": \"system\", \"conten...\n",
       "21  {  \"messages\": [    {\"role\": \"system\", \"conten...\n",
       "22  {  \"messages\": [    {\"role\": \"system\", \"conten...\n",
       "23  {  \"messages\": [    {\"role\": \"system\", \"conten...\n",
       "24  {  \"messages\": [    {\"role\": \"system\", \"conten...\n",
       "25  {  \"messages\": [    {\"role\": \"system\", \"conten...\n",
       "26  {  \"messages\": [    {\"role\": \"system\", \"conten...\n",
       "27  {  \"messages\": [    {\"role\": \"system\", \"conten...\n",
       "28  {  \"messages\": [    {\"role\": \"system\", \"conten...\n",
       "29  {  \"messages\": [    {\"role\": \"system\", \"conten...\n",
       "30  {  \"messages\": [    {\"role\": \"system\", \"conten...\n",
       "31  {  \"messages\": [    {\"role\": \"system\", \"conten...\n",
       "32  {  \"messages\": [    {\"role\": \"system\", \"conten..."
      ]
     },
     "execution_count": 35,
     "metadata": {},
     "output_type": "execute_result"
    }
   ],
   "source": [
    "# Function to concatenate rows into a single conversation string\n",
    "def concat_conversations(df):\n",
    "    concat_data = []\n",
    "    temp_str = \"\"\n",
    "    for i, row in df.iterrows():\n",
    "        temp_str += row['{']\n",
    "        if row['{'] == '}':\n",
    "            concat_data.append(temp_str)\n",
    "            temp_str = \"\"\n",
    "    return concat_data\n",
    "\n",
    "# Using the function to concatenate the conversations\n",
    "concatenated_conversations = concat_conversations(training_df)\n",
    "concatenated_conversations_df = pd.DataFrame(concatenated_conversations, columns=[\"Conversations\"])\n",
    "concatenated_conversations_df\n"
   ]
  },
  {
   "cell_type": "code",
   "execution_count": 37,
   "metadata": {},
   "outputs": [
    {
     "data": {
      "text/plain": [
       "'{{  \"messages\": [    {\"role\": \"system\", \"content\": \"This assistant emulates the lyrical and conversational style of Luke Combs.\"},    {\"role\": \"user\", \"content\": \"Tell me what makes you feel lucky.\"},    {\"role\": \"assistant\", \"content\": \"Well, I go to work every Monday, get to do something I love. I make it home every evening to an angel God sent from above. I\\'ve got good friends and cold beer in the barn on weekends. That\\'s what makes me feel like a lucky man.\"}  ]}'"
      ]
     },
     "execution_count": 37,
     "metadata": {},
     "output_type": "execute_result"
    }
   ],
   "source": [
    "# Add an initial '{' to the beginning of the first conversation\n",
    "concatenated_conversations_df['Conversations'][0] = '{' + concatenated_conversations_df['Conversations'][0]\n",
    "\n",
    "concatenated_conversations_df.iloc[0]['Conversations']"
   ]
  },
  {
   "cell_type": "code",
   "execution_count": 38,
   "metadata": {},
   "outputs": [],
   "source": [
    "# Export the dataframe to a csv file\n",
    "concatenated_conversations_df.to_csv('lc_conversations.csv')"
   ]
  },
  {
   "cell_type": "code",
   "execution_count": 58,
   "metadata": {},
   "outputs": [
    {
     "data": {
      "text/plain": [
       "Conversations    { \"messages\": [    {\"role\": \"system\", \"content...\n",
       "Name: 0, dtype: object"
      ]
     },
     "execution_count": 58,
     "metadata": {},
     "output_type": "execute_result"
    }
   ],
   "source": [
    "cc_df.iloc[0]"
   ]
  },
  {
   "cell_type": "code",
   "execution_count": 61,
   "metadata": {},
   "outputs": [
    {
     "data": {
      "text/html": [
       "<div>\n",
       "<style scoped>\n",
       "    .dataframe tbody tr th:only-of-type {\n",
       "        vertical-align: middle;\n",
       "    }\n",
       "\n",
       "    .dataframe tbody tr th {\n",
       "        vertical-align: top;\n",
       "    }\n",
       "\n",
       "    .dataframe thead th {\n",
       "        text-align: right;\n",
       "    }\n",
       "</style>\n",
       "<table border=\"1\" class=\"dataframe\">\n",
       "  <thead>\n",
       "    <tr style=\"text-align: right;\">\n",
       "      <th></th>\n",
       "      <th>Conversations</th>\n",
       "      <th>Transformed</th>\n",
       "    </tr>\n",
       "  </thead>\n",
       "  <tbody>\n",
       "    <tr>\n",
       "      <th>0</th>\n",
       "      <td>{ \"messages\": [    {\"role\": \"system\", \"content...</td>\n",
       "      <td>{'messages': [{'role': 'system', 'content': 'T...</td>\n",
       "    </tr>\n",
       "    <tr>\n",
       "      <th>1</th>\n",
       "      <td>{ \"messages\": [    {\"role\": \"system\", \"content...</td>\n",
       "      <td>{'messages': [{'role': 'system', 'content': 'T...</td>\n",
       "    </tr>\n",
       "    <tr>\n",
       "      <th>2</th>\n",
       "      <td>{ \"messages\": [    {\"role\": \"system\", \"content...</td>\n",
       "      <td>{'messages': [{'role': 'system', 'content': 'T...</td>\n",
       "    </tr>\n",
       "    <tr>\n",
       "      <th>3</th>\n",
       "      <td>{ \"messages\": [    {\"role\": \"system\", \"content...</td>\n",
       "      <td>{'messages': [{'role': 'system', 'content': 'T...</td>\n",
       "    </tr>\n",
       "    <tr>\n",
       "      <th>4</th>\n",
       "      <td>{ \"messages\": [    {\"role\": \"system\", \"content...</td>\n",
       "      <td>{'messages': [{'role': 'system', 'content': 'T...</td>\n",
       "    </tr>\n",
       "  </tbody>\n",
       "</table>\n",
       "</div>"
      ],
      "text/plain": [
       "                                       Conversations  \\\n",
       "0  { \"messages\": [    {\"role\": \"system\", \"content...   \n",
       "1  { \"messages\": [    {\"role\": \"system\", \"content...   \n",
       "2  { \"messages\": [    {\"role\": \"system\", \"content...   \n",
       "3  { \"messages\": [    {\"role\": \"system\", \"content...   \n",
       "4  { \"messages\": [    {\"role\": \"system\", \"content...   \n",
       "\n",
       "                                         Transformed  \n",
       "0  {'messages': [{'role': 'system', 'content': 'T...  \n",
       "1  {'messages': [{'role': 'system', 'content': 'T...  \n",
       "2  {'messages': [{'role': 'system', 'content': 'T...  \n",
       "3  {'messages': [{'role': 'system', 'content': 'T...  \n",
       "4  {'messages': [{'role': 'system', 'content': 'T...  "
      ]
     },
     "execution_count": 61,
     "metadata": {},
     "output_type": "execute_result"
    }
   ],
   "source": [
    "# Function to transform each row\n",
    "def transform_row(row):\n",
    "    try:\n",
    "        # Try to decode the inner 'messages' JSON string to a Python object\n",
    "        decoded_message = json.loads(row['Conversations'])\n",
    "        return decoded_message\n",
    "    except json.JSONDecodeError as e:\n",
    "        # Handle JSON decoding errors\n",
    "        return f\"Error: {e}\"\n",
    "\n",
    "# Apply the function to each row in 'cc_df'\n",
    "cc_df['Transformed'] = cc_df.apply(transform_row, axis=1)\n",
    "\n",
    "# Show the DataFrame after transformation\n",
    "cc_df.head()    "
   ]
  },
  {
   "cell_type": "code",
   "execution_count": 62,
   "metadata": {},
   "outputs": [],
   "source": [
    "# Open the file for writing\n",
    "with open('transformed_data.jsonl', 'w') as f:\n",
    "    for index, row in cc_df.iterrows():\n",
    "        # Convert the Python dictionary to a JSON string and write it to the file\n",
    "        f.write(json.dumps(row['Transformed']) + '\\n')"
   ]
  },
  {
   "cell_type": "code",
   "execution_count": 42,
   "metadata": {},
   "outputs": [
    {
     "data": {
      "text/html": [
       "<div>\n",
       "<style scoped>\n",
       "    .dataframe tbody tr th:only-of-type {\n",
       "        vertical-align: middle;\n",
       "    }\n",
       "\n",
       "    .dataframe tbody tr th {\n",
       "        vertical-align: top;\n",
       "    }\n",
       "\n",
       "    .dataframe thead th {\n",
       "        text-align: right;\n",
       "    }\n",
       "</style>\n",
       "<table border=\"1\" class=\"dataframe\">\n",
       "  <thead>\n",
       "    <tr style=\"text-align: right;\">\n",
       "      <th></th>\n",
       "      <th>Unnamed: 0</th>\n",
       "      <th>Conversations</th>\n",
       "    </tr>\n",
       "  </thead>\n",
       "  <tbody>\n",
       "    <tr>\n",
       "      <th>0</th>\n",
       "      <td>0</td>\n",
       "      <td>{  \"messages\": [    {\"role\": \"system\", \"conten...</td>\n",
       "    </tr>\n",
       "    <tr>\n",
       "      <th>1</th>\n",
       "      <td>1</td>\n",
       "      <td>{  \"messages\": [    {\"role\": \"system\", \"conten...</td>\n",
       "    </tr>\n",
       "    <tr>\n",
       "      <th>2</th>\n",
       "      <td>2</td>\n",
       "      <td>{  \"messages\": [    {\"role\": \"system\", \"conten...</td>\n",
       "    </tr>\n",
       "    <tr>\n",
       "      <th>3</th>\n",
       "      <td>3</td>\n",
       "      <td>{  \"messages\": [    {\"role\": \"system\", \"conten...</td>\n",
       "    </tr>\n",
       "    <tr>\n",
       "      <th>4</th>\n",
       "      <td>4</td>\n",
       "      <td>{  \"messages\": [    {\"role\": \"system\", \"conten...</td>\n",
       "    </tr>\n",
       "  </tbody>\n",
       "</table>\n",
       "</div>"
      ],
      "text/plain": [
       "   Unnamed: 0                                      Conversations\n",
       "0           0  {  \"messages\": [    {\"role\": \"system\", \"conten...\n",
       "1           1  {  \"messages\": [    {\"role\": \"system\", \"conten...\n",
       "2           2  {  \"messages\": [    {\"role\": \"system\", \"conten...\n",
       "3           3  {  \"messages\": [    {\"role\": \"system\", \"conten...\n",
       "4           4  {  \"messages\": [    {\"role\": \"system\", \"conten..."
      ]
     },
     "execution_count": 42,
     "metadata": {},
     "output_type": "execute_result"
    }
   ],
   "source": [
    "# Drop the \"Conversations\""
   ]
  },
  {
   "cell_type": "code",
   "execution_count": 54,
   "metadata": {},
   "outputs": [
    {
     "data": {
      "text/html": [
       "<div>\n",
       "<style scoped>\n",
       "    .dataframe tbody tr th:only-of-type {\n",
       "        vertical-align: middle;\n",
       "    }\n",
       "\n",
       "    .dataframe tbody tr th {\n",
       "        vertical-align: top;\n",
       "    }\n",
       "\n",
       "    .dataframe thead th {\n",
       "        text-align: right;\n",
       "    }\n",
       "</style>\n",
       "<table border=\"1\" class=\"dataframe\">\n",
       "  <thead>\n",
       "    <tr style=\"text-align: right;\">\n",
       "      <th></th>\n",
       "      <th>Conversations</th>\n",
       "    </tr>\n",
       "  </thead>\n",
       "  <tbody>\n",
       "    <tr>\n",
       "      <th>0</th>\n",
       "      <td>{ \"messages\": [    {\"role\": \"system\", \"content...</td>\n",
       "    </tr>\n",
       "    <tr>\n",
       "      <th>1</th>\n",
       "      <td>{ \"messages\": [    {\"role\": \"system\", \"content...</td>\n",
       "    </tr>\n",
       "    <tr>\n",
       "      <th>2</th>\n",
       "      <td>{ \"messages\": [    {\"role\": \"system\", \"content...</td>\n",
       "    </tr>\n",
       "    <tr>\n",
       "      <th>3</th>\n",
       "      <td>{ \"messages\": [    {\"role\": \"system\", \"content...</td>\n",
       "    </tr>\n",
       "    <tr>\n",
       "      <th>4</th>\n",
       "      <td>{ \"messages\": [    {\"role\": \"system\", \"content...</td>\n",
       "    </tr>\n",
       "  </tbody>\n",
       "</table>\n",
       "</div>"
      ],
      "text/plain": [
       "                                       Conversations\n",
       "0  { \"messages\": [    {\"role\": \"system\", \"content...\n",
       "1  { \"messages\": [    {\"role\": \"system\", \"content...\n",
       "2  { \"messages\": [    {\"role\": \"system\", \"content...\n",
       "3  { \"messages\": [    {\"role\": \"system\", \"content...\n",
       "4  { \"messages\": [    {\"role\": \"system\", \"content..."
      ]
     },
     "execution_count": 54,
     "metadata": {},
     "output_type": "execute_result"
    }
   ],
   "source": [
    "cc_df.head()"
   ]
  },
  {
   "cell_type": "code",
   "execution_count": 47,
   "metadata": {},
   "outputs": [],
   "source": [
    "cc_df = pd.read_csv('lc_conversations.csv')"
   ]
  },
  {
   "cell_type": "code",
   "execution_count": 53,
   "metadata": {},
   "outputs": [
    {
     "ename": "JSONDecodeError",
     "evalue": "Expecting ',' delimiter: line 1 column 289 (char 288)",
     "output_type": "error",
     "traceback": [
      "\u001b[1;31m---------------------------------------------------------------------------\u001b[0m",
      "\u001b[1;31mJSONDecodeError\u001b[0m                           Traceback (most recent call last)",
      "Cell \u001b[1;32mIn[53], line 2\u001b[0m\n\u001b[0;32m      1\u001b[0m \u001b[39m# Convert the string to a dictionary and then to a JSON string with only the needed part\u001b[39;00m\n\u001b[1;32m----> 2\u001b[0m cc_df[\u001b[39m'\u001b[39m\u001b[39mConversations\u001b[39m\u001b[39m'\u001b[39m] \u001b[39m=\u001b[39m cc_df[\u001b[39m'\u001b[39;49m\u001b[39mConversations\u001b[39;49m\u001b[39m'\u001b[39;49m]\u001b[39m.\u001b[39;49mapply(\u001b[39mlambda\u001b[39;49;00m x: json\u001b[39m.\u001b[39;49mdumps(json\u001b[39m.\u001b[39;49mloads(x)[\u001b[39m'\u001b[39;49m\u001b[39mmessages\u001b[39;49m\u001b[39m'\u001b[39;49m]))\n",
      "File \u001b[1;32mc:\\Users\\sjufa\\anaconda3\\envs\\py310\\lib\\site-packages\\pandas\\core\\series.py:4630\u001b[0m, in \u001b[0;36mSeries.apply\u001b[1;34m(self, func, convert_dtype, args, **kwargs)\u001b[0m\n\u001b[0;32m   4520\u001b[0m \u001b[39mdef\u001b[39;00m \u001b[39mapply\u001b[39m(\n\u001b[0;32m   4521\u001b[0m     \u001b[39mself\u001b[39m,\n\u001b[0;32m   4522\u001b[0m     func: AggFuncType,\n\u001b[1;32m   (...)\u001b[0m\n\u001b[0;32m   4525\u001b[0m     \u001b[39m*\u001b[39m\u001b[39m*\u001b[39mkwargs,\n\u001b[0;32m   4526\u001b[0m ) \u001b[39m-\u001b[39m\u001b[39m>\u001b[39m DataFrame \u001b[39m|\u001b[39m Series:\n\u001b[0;32m   4527\u001b[0m \u001b[39m    \u001b[39m\u001b[39m\"\"\"\u001b[39;00m\n\u001b[0;32m   4528\u001b[0m \u001b[39m    Invoke function on values of Series.\u001b[39;00m\n\u001b[0;32m   4529\u001b[0m \n\u001b[1;32m   (...)\u001b[0m\n\u001b[0;32m   4628\u001b[0m \u001b[39m    dtype: float64\u001b[39;00m\n\u001b[0;32m   4629\u001b[0m \u001b[39m    \"\"\"\u001b[39;00m\n\u001b[1;32m-> 4630\u001b[0m     \u001b[39mreturn\u001b[39;00m SeriesApply(\u001b[39mself\u001b[39;49m, func, convert_dtype, args, kwargs)\u001b[39m.\u001b[39;49mapply()\n",
      "File \u001b[1;32mc:\\Users\\sjufa\\anaconda3\\envs\\py310\\lib\\site-packages\\pandas\\core\\apply.py:1025\u001b[0m, in \u001b[0;36mSeriesApply.apply\u001b[1;34m(self)\u001b[0m\n\u001b[0;32m   1022\u001b[0m     \u001b[39mreturn\u001b[39;00m \u001b[39mself\u001b[39m\u001b[39m.\u001b[39mapply_str()\n\u001b[0;32m   1024\u001b[0m \u001b[39m# self.f is Callable\u001b[39;00m\n\u001b[1;32m-> 1025\u001b[0m \u001b[39mreturn\u001b[39;00m \u001b[39mself\u001b[39;49m\u001b[39m.\u001b[39;49mapply_standard()\n",
      "File \u001b[1;32mc:\\Users\\sjufa\\anaconda3\\envs\\py310\\lib\\site-packages\\pandas\\core\\apply.py:1076\u001b[0m, in \u001b[0;36mSeriesApply.apply_standard\u001b[1;34m(self)\u001b[0m\n\u001b[0;32m   1074\u001b[0m     \u001b[39melse\u001b[39;00m:\n\u001b[0;32m   1075\u001b[0m         values \u001b[39m=\u001b[39m obj\u001b[39m.\u001b[39mastype(\u001b[39mobject\u001b[39m)\u001b[39m.\u001b[39m_values\n\u001b[1;32m-> 1076\u001b[0m         mapped \u001b[39m=\u001b[39m lib\u001b[39m.\u001b[39;49mmap_infer(\n\u001b[0;32m   1077\u001b[0m             values,\n\u001b[0;32m   1078\u001b[0m             f,\n\u001b[0;32m   1079\u001b[0m             convert\u001b[39m=\u001b[39;49m\u001b[39mself\u001b[39;49m\u001b[39m.\u001b[39;49mconvert_dtype,\n\u001b[0;32m   1080\u001b[0m         )\n\u001b[0;32m   1082\u001b[0m \u001b[39mif\u001b[39;00m \u001b[39mlen\u001b[39m(mapped) \u001b[39mand\u001b[39;00m \u001b[39misinstance\u001b[39m(mapped[\u001b[39m0\u001b[39m], ABCSeries):\n\u001b[0;32m   1083\u001b[0m     \u001b[39m# GH#43986 Need to do list(mapped) in order to get treated as nested\u001b[39;00m\n\u001b[0;32m   1084\u001b[0m     \u001b[39m#  See also GH#25959 regarding EA support\u001b[39;00m\n\u001b[0;32m   1085\u001b[0m     \u001b[39mreturn\u001b[39;00m obj\u001b[39m.\u001b[39m_constructor_expanddim(\u001b[39mlist\u001b[39m(mapped), index\u001b[39m=\u001b[39mobj\u001b[39m.\u001b[39mindex)\n",
      "File \u001b[1;32mc:\\Users\\sjufa\\anaconda3\\envs\\py310\\lib\\site-packages\\pandas\\_libs\\lib.pyx:2834\u001b[0m, in \u001b[0;36mpandas._libs.lib.map_infer\u001b[1;34m()\u001b[0m\n",
      "Cell \u001b[1;32mIn[53], line 2\u001b[0m, in \u001b[0;36m<lambda>\u001b[1;34m(x)\u001b[0m\n\u001b[0;32m      1\u001b[0m \u001b[39m# Convert the string to a dictionary and then to a JSON string with only the needed part\u001b[39;00m\n\u001b[1;32m----> 2\u001b[0m cc_df[\u001b[39m'\u001b[39m\u001b[39mConversations\u001b[39m\u001b[39m'\u001b[39m] \u001b[39m=\u001b[39m cc_df[\u001b[39m'\u001b[39m\u001b[39mConversations\u001b[39m\u001b[39m'\u001b[39m]\u001b[39m.\u001b[39mapply(\u001b[39mlambda\u001b[39;00m x: json\u001b[39m.\u001b[39mdumps(json\u001b[39m.\u001b[39;49mloads(x)[\u001b[39m'\u001b[39m\u001b[39mmessages\u001b[39m\u001b[39m'\u001b[39m]))\n",
      "File \u001b[1;32mc:\\Users\\sjufa\\anaconda3\\envs\\py310\\lib\\json\\__init__.py:346\u001b[0m, in \u001b[0;36mloads\u001b[1;34m(s, cls, object_hook, parse_float, parse_int, parse_constant, object_pairs_hook, **kw)\u001b[0m\n\u001b[0;32m    341\u001b[0m     s \u001b[39m=\u001b[39m s\u001b[39m.\u001b[39mdecode(detect_encoding(s), \u001b[39m'\u001b[39m\u001b[39msurrogatepass\u001b[39m\u001b[39m'\u001b[39m)\n\u001b[0;32m    343\u001b[0m \u001b[39mif\u001b[39;00m (\u001b[39mcls\u001b[39m \u001b[39mis\u001b[39;00m \u001b[39mNone\u001b[39;00m \u001b[39mand\u001b[39;00m object_hook \u001b[39mis\u001b[39;00m \u001b[39mNone\u001b[39;00m \u001b[39mand\u001b[39;00m\n\u001b[0;32m    344\u001b[0m         parse_int \u001b[39mis\u001b[39;00m \u001b[39mNone\u001b[39;00m \u001b[39mand\u001b[39;00m parse_float \u001b[39mis\u001b[39;00m \u001b[39mNone\u001b[39;00m \u001b[39mand\u001b[39;00m\n\u001b[0;32m    345\u001b[0m         parse_constant \u001b[39mis\u001b[39;00m \u001b[39mNone\u001b[39;00m \u001b[39mand\u001b[39;00m object_pairs_hook \u001b[39mis\u001b[39;00m \u001b[39mNone\u001b[39;00m \u001b[39mand\u001b[39;00m \u001b[39mnot\u001b[39;00m kw):\n\u001b[1;32m--> 346\u001b[0m     \u001b[39mreturn\u001b[39;00m _default_decoder\u001b[39m.\u001b[39;49mdecode(s)\n\u001b[0;32m    347\u001b[0m \u001b[39mif\u001b[39;00m \u001b[39mcls\u001b[39m \u001b[39mis\u001b[39;00m \u001b[39mNone\u001b[39;00m:\n\u001b[0;32m    348\u001b[0m     \u001b[39mcls\u001b[39m \u001b[39m=\u001b[39m JSONDecoder\n",
      "File \u001b[1;32mc:\\Users\\sjufa\\anaconda3\\envs\\py310\\lib\\json\\decoder.py:337\u001b[0m, in \u001b[0;36mJSONDecoder.decode\u001b[1;34m(self, s, _w)\u001b[0m\n\u001b[0;32m    332\u001b[0m \u001b[39mdef\u001b[39;00m \u001b[39mdecode\u001b[39m(\u001b[39mself\u001b[39m, s, _w\u001b[39m=\u001b[39mWHITESPACE\u001b[39m.\u001b[39mmatch):\n\u001b[0;32m    333\u001b[0m \u001b[39m    \u001b[39m\u001b[39m\"\"\"Return the Python representation of ``s`` (a ``str`` instance\u001b[39;00m\n\u001b[0;32m    334\u001b[0m \u001b[39m    containing a JSON document).\u001b[39;00m\n\u001b[0;32m    335\u001b[0m \n\u001b[0;32m    336\u001b[0m \u001b[39m    \"\"\"\u001b[39;00m\n\u001b[1;32m--> 337\u001b[0m     obj, end \u001b[39m=\u001b[39m \u001b[39mself\u001b[39;49m\u001b[39m.\u001b[39;49mraw_decode(s, idx\u001b[39m=\u001b[39;49m_w(s, \u001b[39m0\u001b[39;49m)\u001b[39m.\u001b[39;49mend())\n\u001b[0;32m    338\u001b[0m     end \u001b[39m=\u001b[39m _w(s, end)\u001b[39m.\u001b[39mend()\n\u001b[0;32m    339\u001b[0m     \u001b[39mif\u001b[39;00m end \u001b[39m!=\u001b[39m \u001b[39mlen\u001b[39m(s):\n",
      "File \u001b[1;32mc:\\Users\\sjufa\\anaconda3\\envs\\py310\\lib\\json\\decoder.py:353\u001b[0m, in \u001b[0;36mJSONDecoder.raw_decode\u001b[1;34m(self, s, idx)\u001b[0m\n\u001b[0;32m    344\u001b[0m \u001b[39m\u001b[39m\u001b[39m\"\"\"Decode a JSON document from ``s`` (a ``str`` beginning with\u001b[39;00m\n\u001b[0;32m    345\u001b[0m \u001b[39ma JSON document) and return a 2-tuple of the Python\u001b[39;00m\n\u001b[0;32m    346\u001b[0m \u001b[39mrepresentation and the index in ``s`` where the document ended.\u001b[39;00m\n\u001b[1;32m   (...)\u001b[0m\n\u001b[0;32m    350\u001b[0m \n\u001b[0;32m    351\u001b[0m \u001b[39m\"\"\"\u001b[39;00m\n\u001b[0;32m    352\u001b[0m \u001b[39mtry\u001b[39;00m:\n\u001b[1;32m--> 353\u001b[0m     obj, end \u001b[39m=\u001b[39m \u001b[39mself\u001b[39;49m\u001b[39m.\u001b[39;49mscan_once(s, idx)\n\u001b[0;32m    354\u001b[0m \u001b[39mexcept\u001b[39;00m \u001b[39mStopIteration\u001b[39;00m \u001b[39mas\u001b[39;00m err:\n\u001b[0;32m    355\u001b[0m     \u001b[39mraise\u001b[39;00m JSONDecodeError(\u001b[39m\"\u001b[39m\u001b[39mExpecting value\u001b[39m\u001b[39m\"\u001b[39m, s, err\u001b[39m.\u001b[39mvalue) \u001b[39mfrom\u001b[39;00m \u001b[39mNone\u001b[39;00m\n",
      "\u001b[1;31mJSONDecodeError\u001b[0m: Expecting ',' delimiter: line 1 column 289 (char 288)"
     ]
    }
   ],
   "source": [
    "# Convert the string to a dictionary and then to a JSON string with only the needed part\n",
    "cc_df['Conversations'] = cc_df['Conversations'].apply(lambda x: json.dumps(json.loads(x)['messages']))"
   ]
  },
  {
   "cell_type": "code",
   "execution_count": 1,
   "metadata": {},
   "outputs": [],
   "source": [
    "import pandas as pd\n",
    "import json\n",
    "\n",
    "# Function to read JSONL file into a Pandas DataFrame\n",
    "def read_jsonl_to_dataframe(file_path):\n",
    "    data = []\n",
    "    with open(file_path, 'r') as f:\n",
    "        for line in f:\n",
    "            data.append(json.loads(line))\n",
    "    return pd.DataFrame(data)\n",
    "\n",
    "df = read_jsonl_to_dataframe('transformed_data.jsonl')"
   ]
  },
  {
   "cell_type": "code",
   "execution_count": 2,
   "metadata": {},
   "outputs": [
    {
     "data": {
      "text/html": [
       "<div>\n",
       "<style scoped>\n",
       "    .dataframe tbody tr th:only-of-type {\n",
       "        vertical-align: middle;\n",
       "    }\n",
       "\n",
       "    .dataframe tbody tr th {\n",
       "        vertical-align: top;\n",
       "    }\n",
       "\n",
       "    .dataframe thead th {\n",
       "        text-align: right;\n",
       "    }\n",
       "</style>\n",
       "<table border=\"1\" class=\"dataframe\">\n",
       "  <thead>\n",
       "    <tr style=\"text-align: right;\">\n",
       "      <th></th>\n",
       "      <th>messages</th>\n",
       "    </tr>\n",
       "  </thead>\n",
       "  <tbody>\n",
       "    <tr>\n",
       "      <th>0</th>\n",
       "      <td>[{'role': 'system', 'content': 'This assistant...</td>\n",
       "    </tr>\n",
       "    <tr>\n",
       "      <th>1</th>\n",
       "      <td>[{'role': 'system', 'content': 'This assistant...</td>\n",
       "    </tr>\n",
       "    <tr>\n",
       "      <th>2</th>\n",
       "      <td>[{'role': 'system', 'content': 'This assistant...</td>\n",
       "    </tr>\n",
       "    <tr>\n",
       "      <th>3</th>\n",
       "      <td>[{'role': 'system', 'content': 'This assistant...</td>\n",
       "    </tr>\n",
       "    <tr>\n",
       "      <th>4</th>\n",
       "      <td>[{'role': 'system', 'content': 'This assistant...</td>\n",
       "    </tr>\n",
       "  </tbody>\n",
       "</table>\n",
       "</div>"
      ],
      "text/plain": [
       "                                            messages\n",
       "0  [{'role': 'system', 'content': 'This assistant...\n",
       "1  [{'role': 'system', 'content': 'This assistant...\n",
       "2  [{'role': 'system', 'content': 'This assistant...\n",
       "3  [{'role': 'system', 'content': 'This assistant...\n",
       "4  [{'role': 'system', 'content': 'This assistant..."
      ]
     },
     "execution_count": 2,
     "metadata": {},
     "output_type": "execute_result"
    }
   ],
   "source": [
    "df.head()"
   ]
  },
  {
   "cell_type": "code",
   "execution_count": 3,
   "metadata": {},
   "outputs": [
    {
     "data": {
      "text/plain": [
       "'modified_chat_data.jsonl'"
      ]
     },
     "execution_count": 3,
     "metadata": {},
     "output_type": "execute_result"
    }
   ],
   "source": [
    "# Function to export a DataFrame to a JSONL file\n",
    "def dataframe_to_jsonl(df, jsonl_file_path):\n",
    "    with open(jsonl_file_path, 'w') as f:\n",
    "        for _, row in df.iterrows():\n",
    "            json.dump(row['messages'], f)\n",
    "            f.write('\\n')\n",
    "\n",
    "# Define the path for the new JSONL file\n",
    "new_jsonl_file_path = 'modified_chat_data.jsonl'\n",
    "\n",
    "# Export the DataFrame to a new JSONL file\n",
    "dataframe_to_jsonl(df, new_jsonl_file_path)\n",
    "\n",
    "new_jsonl_file_path\n"
   ]
  },
  {
   "cell_type": "code",
   "execution_count": 4,
   "metadata": {},
   "outputs": [
    {
     "data": {
      "text/plain": [
       "(                                             messages\n",
       " 25  [{'role': 'system', 'content': 'This assistant...\n",
       " 12  [{'role': 'system', 'content': 'This assistant...\n",
       " 0   [{'role': 'system', 'content': 'This assistant...\n",
       " 4   [{'role': 'system', 'content': 'This assistant...\n",
       " 16  [{'role': 'system', 'content': 'This assistant...,\n",
       "                                              messages\n",
       " 29  [{'role': 'system', 'content': 'This assistant...\n",
       " 15  [{'role': 'system', 'content': 'This assistant...\n",
       " 24  [{'role': 'system', 'content': 'This assistant...\n",
       " 17  [{'role': 'system', 'content': 'This assistant...\n",
       " 8   [{'role': 'system', 'content': 'This assistant...,\n",
       " 'JSONL files for training and testing have been successfully created.')"
      ]
     },
     "execution_count": 4,
     "metadata": {},
     "output_type": "execute_result"
    }
   ],
   "source": [
    "import pandas as pd\n",
    "from sklearn.model_selection import train_test_split\n",
    "import json\n",
    "\n",
    "# Split the DataFrame into training and testing sets\n",
    "train_df, test_df = train_test_split(df, test_size=0.2, random_state=42)\n",
    "\n",
    "# Function to write DataFrame to a JSONL file\n",
    "def write_jsonl(data_frame, filename):\n",
    "    with open(filename, 'w') as f:\n",
    "        for _, row in data_frame.iterrows():\n",
    "            json_record = row.to_json()\n",
    "            f.write(f\"{json_record}\\n\")\n",
    "\n",
    "# Write to JSONL files\n",
    "write_jsonl(train_df, 'train.jsonl')\n",
    "write_jsonl(test_df, 'test.jsonl')\n",
    "\n",
    "train_df.head(), test_df.head(), \"JSONL files for training and testing have been successfully created.\"\n"
   ]
  },
  {
   "cell_type": "code",
   "execution_count": 8,
   "metadata": {},
   "outputs": [
    {
     "data": {
      "text/plain": [
       "<File file id=file-WSS7O9ijOprWeSqKXHnL9kuW at 0x2862992d530> JSON: {\n",
       "  \"object\": \"file\",\n",
       "  \"id\": \"file-WSS7O9ijOprWeSqKXHnL9kuW\",\n",
       "  \"purpose\": \"fine-tune\",\n",
       "  \"filename\": \"file\",\n",
       "  \"bytes\": 12341,\n",
       "  \"created_at\": 1694112864,\n",
       "  \"status\": \"uploaded\",\n",
       "  \"status_details\": null\n",
       "}"
      ]
     },
     "execution_count": 8,
     "metadata": {},
     "output_type": "execute_result"
    }
   ],
   "source": [
    "import os\n",
    "import openai\n",
    "from dotenv import load_dotenv\n",
    "\n",
    "load_dotenv()\n",
    "\n",
    "openai.api_key = os.getenv(\"OPENAI_KEY2\")\n",
    "openai.File.create(\n",
    "  file=open(\"train.jsonl\", \"rb\"),\n",
    "  purpose='fine-tune',\n",
    ")\n"
   ]
  },
  {
   "cell_type": "code",
   "execution_count": 2,
   "metadata": {},
   "outputs": [
    {
     "data": {
      "text/plain": [
       "<OpenAIObject list at 0x17ed0992c50> JSON: {\n",
       "  \"object\": \"list\",\n",
       "  \"data\": [\n",
       "    {\n",
       "      \"object\": \"fine_tuning.job\",\n",
       "      \"id\": \"ftjob-FXNyXYmbEDbSNK2LIwhtJ0Rc\",\n",
       "      \"model\": \"gpt-3.5-turbo-0613\",\n",
       "      \"created_at\": 1694113205,\n",
       "      \"finished_at\": 1694113918,\n",
       "      \"fine_tuned_model\": \"ft:gpt-3.5-turbo-0613:david-thomas::7wEhz4EL\",\n",
       "      \"organization_id\": \"org-VkGrGnOphKZaKq6oto26q5eB\",\n",
       "      \"result_files\": [\n",
       "        \"file-cPRKeSFqqTwqc8UEsVPkV9TF\"\n",
       "      ],\n",
       "      \"status\": \"succeeded\",\n",
       "      \"validation_file\": \"file-2PuQTYaNxZt1lTM5RFXt2gFu\",\n",
       "      \"training_file\": \"file-WSS7O9ijOprWeSqKXHnL9kuW\",\n",
       "      \"hyperparameters\": {\n",
       "        \"n_epochs\": 4\n",
       "      },\n",
       "      \"trained_tokens\": 10400,\n",
       "      \"error\": null\n",
       "    }\n",
       "  ],\n",
       "  \"has_more\": false\n",
       "}"
      ]
     },
     "execution_count": 2,
     "metadata": {},
     "output_type": "execute_result"
    }
   ],
   "source": [
    "import openai\n",
    "from dotenv import load_dotenv\n",
    "import os\n",
    "\n",
    "load_dotenv()\n",
    "\n",
    "openai.api_key = os.getenv(\"OPENAI_KEY2\")\n",
    "openai.FineTuningJob.list()\n",
    "\n"
   ]
  },
  {
   "cell_type": "code",
   "execution_count": 3,
   "metadata": {},
   "outputs": [],
   "source": [
    "content = openai.File.download(\"file-cPRKeSFqqTwqc8UEsVPkV9TF\")\n",
    "\n"
   ]
  },
  {
   "cell_type": "code",
   "execution_count": 7,
   "metadata": {},
   "outputs": [],
   "source": [
    "# Convert the content bytes to a .csv file\n",
    "with open('train.csv', 'wb') as f:\n",
    "    f.write(content)"
   ]
  },
  {
   "cell_type": "code",
   "execution_count": 12,
   "metadata": {},
   "outputs": [
    {
     "data": {
      "text/html": [
       "<div>\n",
       "<style scoped>\n",
       "    .dataframe tbody tr th:only-of-type {\n",
       "        vertical-align: middle;\n",
       "    }\n",
       "\n",
       "    .dataframe tbody tr th {\n",
       "        vertical-align: top;\n",
       "    }\n",
       "\n",
       "    .dataframe thead th {\n",
       "        text-align: right;\n",
       "    }\n",
       "</style>\n",
       "<table border=\"1\" class=\"dataframe\">\n",
       "  <thead>\n",
       "    <tr style=\"text-align: right;\">\n",
       "      <th></th>\n",
       "      <th>step</th>\n",
       "      <th>train_loss</th>\n",
       "      <th>train_accuracy</th>\n",
       "      <th>valid_loss</th>\n",
       "      <th>valid_mean_token_accuracy</th>\n",
       "    </tr>\n",
       "  </thead>\n",
       "  <tbody>\n",
       "  </tbody>\n",
       "</table>\n",
       "</div>"
      ],
      "text/plain": [
       "Empty DataFrame\n",
       "Columns: [step, train_loss, train_accuracy, valid_loss, valid_mean_token_accuracy]\n",
       "Index: []"
      ]
     },
     "execution_count": 12,
     "metadata": {},
     "output_type": "execute_result"
    }
   ],
   "source": [
    "import pandas as pd\n",
    "# Read the .csv file into a DataFrame\n",
    "train_df = pd.read_csv('train.csv')\n",
    "\n",
    "# Show any rows with \"train_accuracy\" more than 0.0\n",
    "train_df[train_df['train_accuracy'] > 0.0]"
   ]
  },
  {
   "cell_type": "code",
   "execution_count": 52,
   "metadata": {},
   "outputs": [
    {
     "ename": "ValueError",
     "evalue": "'index=False' is only valid when 'orient' is 'split' or 'table'",
     "output_type": "error",
     "traceback": [
      "\u001b[1;31m---------------------------------------------------------------------------\u001b[0m",
      "\u001b[1;31mValueError\u001b[0m                                Traceback (most recent call last)",
      "Cell \u001b[1;32mIn[52], line 3\u001b[0m\n\u001b[0;32m      1\u001b[0m \u001b[39m# Save the dataframe to a jsonl file, removing the \"{\"Conversations\":\"\u001b[39;00m\n\u001b[0;32m      2\u001b[0m \u001b[39m# That precedes each conversation\u001b[39;00m\n\u001b[1;32m----> 3\u001b[0m cc_df\u001b[39m.\u001b[39;49mto_json(\u001b[39m'\u001b[39;49m\u001b[39mlc_conversations.jsonl\u001b[39;49m\u001b[39m'\u001b[39;49m, orient\u001b[39m=\u001b[39;49m\u001b[39m'\u001b[39;49m\u001b[39mrecords\u001b[39;49m\u001b[39m'\u001b[39;49m, lines\u001b[39m=\u001b[39;49m\u001b[39mTrue\u001b[39;49;00m, index\u001b[39m=\u001b[39;49m\u001b[39mFalse\u001b[39;49;00m)\n\u001b[0;32m      5\u001b[0m \u001b[39m# Read in the jsonl file\u001b[39;00m\n\u001b[0;32m      6\u001b[0m \u001b[39mwith\u001b[39;00m \u001b[39mopen\u001b[39m(\u001b[39m'\u001b[39m\u001b[39mlc_conversations.jsonl\u001b[39m\u001b[39m'\u001b[39m) \u001b[39mas\u001b[39;00m jsonl_file:\n",
      "File \u001b[1;32mc:\\Users\\sjufa\\anaconda3\\envs\\py310\\lib\\site-packages\\pandas\\core\\generic.py:2532\u001b[0m, in \u001b[0;36mNDFrame.to_json\u001b[1;34m(self, path_or_buf, orient, date_format, double_precision, force_ascii, date_unit, default_handler, lines, compression, index, indent, storage_options, mode)\u001b[0m\n\u001b[0;32m   2529\u001b[0m config\u001b[39m.\u001b[39mis_nonnegative_int(indent)\n\u001b[0;32m   2530\u001b[0m indent \u001b[39m=\u001b[39m indent \u001b[39mor\u001b[39;00m \u001b[39m0\u001b[39m\n\u001b[1;32m-> 2532\u001b[0m \u001b[39mreturn\u001b[39;00m json\u001b[39m.\u001b[39;49mto_json(\n\u001b[0;32m   2533\u001b[0m     path_or_buf\u001b[39m=\u001b[39;49mpath_or_buf,\n\u001b[0;32m   2534\u001b[0m     obj\u001b[39m=\u001b[39;49m\u001b[39mself\u001b[39;49m,\n\u001b[0;32m   2535\u001b[0m     orient\u001b[39m=\u001b[39;49morient,\n\u001b[0;32m   2536\u001b[0m     date_format\u001b[39m=\u001b[39;49mdate_format,\n\u001b[0;32m   2537\u001b[0m     double_precision\u001b[39m=\u001b[39;49mdouble_precision,\n\u001b[0;32m   2538\u001b[0m     force_ascii\u001b[39m=\u001b[39;49mforce_ascii,\n\u001b[0;32m   2539\u001b[0m     date_unit\u001b[39m=\u001b[39;49mdate_unit,\n\u001b[0;32m   2540\u001b[0m     default_handler\u001b[39m=\u001b[39;49mdefault_handler,\n\u001b[0;32m   2541\u001b[0m     lines\u001b[39m=\u001b[39;49mlines,\n\u001b[0;32m   2542\u001b[0m     compression\u001b[39m=\u001b[39;49mcompression,\n\u001b[0;32m   2543\u001b[0m     index\u001b[39m=\u001b[39;49mindex,\n\u001b[0;32m   2544\u001b[0m     indent\u001b[39m=\u001b[39;49mindent,\n\u001b[0;32m   2545\u001b[0m     storage_options\u001b[39m=\u001b[39;49mstorage_options,\n\u001b[0;32m   2546\u001b[0m     mode\u001b[39m=\u001b[39;49mmode,\n\u001b[0;32m   2547\u001b[0m )\n",
      "File \u001b[1;32mc:\\Users\\sjufa\\anaconda3\\envs\\py310\\lib\\site-packages\\pandas\\io\\json\\_json.py:147\u001b[0m, in \u001b[0;36mto_json\u001b[1;34m(path_or_buf, obj, orient, date_format, double_precision, force_ascii, date_unit, default_handler, lines, compression, index, indent, storage_options, mode)\u001b[0m\n\u001b[0;32m    130\u001b[0m \u001b[39mdef\u001b[39;00m \u001b[39mto_json\u001b[39m(\n\u001b[0;32m    131\u001b[0m     path_or_buf: FilePath \u001b[39m|\u001b[39m WriteBuffer[\u001b[39mstr\u001b[39m] \u001b[39m|\u001b[39m WriteBuffer[\u001b[39mbytes\u001b[39m] \u001b[39m|\u001b[39m \u001b[39mNone\u001b[39;00m,\n\u001b[0;32m    132\u001b[0m     obj: NDFrame,\n\u001b[1;32m   (...)\u001b[0m\n\u001b[0;32m    144\u001b[0m     mode: Literal[\u001b[39m\"\u001b[39m\u001b[39ma\u001b[39m\u001b[39m\"\u001b[39m, \u001b[39m\"\u001b[39m\u001b[39mw\u001b[39m\u001b[39m\"\u001b[39m] \u001b[39m=\u001b[39m \u001b[39m\"\u001b[39m\u001b[39mw\u001b[39m\u001b[39m\"\u001b[39m,\n\u001b[0;32m    145\u001b[0m ) \u001b[39m-\u001b[39m\u001b[39m>\u001b[39m \u001b[39mstr\u001b[39m \u001b[39m|\u001b[39m \u001b[39mNone\u001b[39;00m:\n\u001b[0;32m    146\u001b[0m     \u001b[39mif\u001b[39;00m \u001b[39mnot\u001b[39;00m index \u001b[39mand\u001b[39;00m orient \u001b[39mnot\u001b[39;00m \u001b[39min\u001b[39;00m [\u001b[39m\"\u001b[39m\u001b[39msplit\u001b[39m\u001b[39m\"\u001b[39m, \u001b[39m\"\u001b[39m\u001b[39mtable\u001b[39m\u001b[39m\"\u001b[39m]:\n\u001b[1;32m--> 147\u001b[0m         \u001b[39mraise\u001b[39;00m \u001b[39mValueError\u001b[39;00m(\n\u001b[0;32m    148\u001b[0m             \u001b[39m\"\u001b[39m\u001b[39m'\u001b[39m\u001b[39mindex=False\u001b[39m\u001b[39m'\u001b[39m\u001b[39m is only valid when \u001b[39m\u001b[39m'\u001b[39m\u001b[39morient\u001b[39m\u001b[39m'\u001b[39m\u001b[39m is \u001b[39m\u001b[39m'\u001b[39m\u001b[39msplit\u001b[39m\u001b[39m'\u001b[39m\u001b[39m or \u001b[39m\u001b[39m'\u001b[39m\u001b[39mtable\u001b[39m\u001b[39m'\u001b[39m\u001b[39m\"\u001b[39m\n\u001b[0;32m    149\u001b[0m         )\n\u001b[0;32m    151\u001b[0m     \u001b[39mif\u001b[39;00m lines \u001b[39mand\u001b[39;00m orient \u001b[39m!=\u001b[39m \u001b[39m\"\u001b[39m\u001b[39mrecords\u001b[39m\u001b[39m\"\u001b[39m:\n\u001b[0;32m    152\u001b[0m         \u001b[39mraise\u001b[39;00m \u001b[39mValueError\u001b[39;00m(\u001b[39m\"\u001b[39m\u001b[39m'\u001b[39m\u001b[39mlines\u001b[39m\u001b[39m'\u001b[39m\u001b[39m keyword only valid when \u001b[39m\u001b[39m'\u001b[39m\u001b[39morient\u001b[39m\u001b[39m'\u001b[39m\u001b[39m is records\u001b[39m\u001b[39m\"\u001b[39m)\n",
      "\u001b[1;31mValueError\u001b[0m: 'index=False' is only valid when 'orient' is 'split' or 'table'"
     ]
    }
   ],
   "source": [
    "# Save the dataframe to a jsonl file, removing the \"{\"Conversations\":\"\n",
    "# That precedes each conversation\n",
    "cc_df.to_json('lc_conversations.jsonl', orient='records', lines=True, index=False)\n",
    "\n",
    "# Read in the jsonl file\n",
    "with open('lc_conversations.jsonl') as jsonl_file:\n",
    "    jsonl_obj = jsonl_file.readlines()\n",
    "\n",
    "# Create a dictionary of song titles and lyrics\n",
    "#conversations_dict = {}\n",
    "#for i in range(len(jsonl_obj)):\n",
    "#    conversations_dict[i] = jsonl_obj[i]\n",
    "    # Slice the string to get rid of the characters before the second '{'\n",
    "#    conversations_dict[i] = conversations_dict[i][conversations_dict[i].find('{', 1):]\n"
   ]
  },
  {
   "cell_type": "code",
   "execution_count": 95,
   "metadata": {},
   "outputs": [],
   "source": [
    "# Convert each row to a json file\n",
    "for i in range(len(lyrics_df)):\n",
    "    lyrics_df.iloc[i].to_json(f'../tests/lyrics_json/{lyrics_df.index[i]}.json')\n",
    "\n",
    "    "
   ]
  },
  {
   "cell_type": "code",
   "execution_count": 93,
   "metadata": {},
   "outputs": [],
   "source": [
    "lyrics_df.to_csv('combs_lyrics.csv')"
   ]
  },
  {
   "cell_type": "code",
   "execution_count": 72,
   "metadata": {},
   "outputs": [],
   "source": [
    "lyrics_df.to_csv('combs_lyrics.csv')"
   ]
  },
  {
   "cell_type": "code",
   "execution_count": 87,
   "metadata": {},
   "outputs": [],
   "source": [
    "lyrics_df = pd.read_csv('combs_lyrics.csv')"
   ]
  },
  {
   "cell_type": "code",
   "execution_count": 88,
   "metadata": {},
   "outputs": [
    {
     "data": {
      "text/html": [
       "<div>\n",
       "<style scoped>\n",
       "    .dataframe tbody tr th:only-of-type {\n",
       "        vertical-align: middle;\n",
       "    }\n",
       "\n",
       "    .dataframe tbody tr th {\n",
       "        vertical-align: top;\n",
       "    }\n",
       "\n",
       "    .dataframe thead th {\n",
       "        text-align: right;\n",
       "    }\n",
       "</style>\n",
       "<table border=\"1\" class=\"dataframe\">\n",
       "  <thead>\n",
       "    <tr style=\"text-align: right;\">\n",
       "      <th></th>\n",
       "      <th>tempo</th>\n",
       "      <th>key</th>\n",
       "      <th>Song Title</th>\n",
       "      <th>Lyrics</th>\n",
       "      <th>description</th>\n",
       "    </tr>\n",
       "  </thead>\n",
       "  <tbody>\n",
       "    <tr>\n",
       "      <th>0</th>\n",
       "      <td>167 BPM</td>\n",
       "      <td>Db Major</td>\n",
       "      <td>5 Leaf Clover</td>\n",
       "      <td>[Verse 1]\\nWell, I go to work every Monday\\nGe...</td>\n",
       "      <td>a heartfelt country song that celebrates the s...</td>\n",
       "    </tr>\n",
       "    <tr>\n",
       "      <th>1</th>\n",
       "      <td>152 BPM</td>\n",
       "      <td>Eb Major</td>\n",
       "      <td>Ain’t Far From It</td>\n",
       "      <td>[Verse 1]\\nGive me a stone cold George Jones, ...</td>\n",
       "      <td>\"Ain't Far From It\" is a country anthem captur...</td>\n",
       "    </tr>\n",
       "    <tr>\n",
       "      <th>2</th>\n",
       "      <td>96 BPM</td>\n",
       "      <td>E Major</td>\n",
       "      <td>Beautiful Crazy</td>\n",
       "      <td>Her day starts with a coffee\\nAnd ends with a ...</td>\n",
       "      <td>celebrates the quirks and unpredictable nature...</td>\n",
       "    </tr>\n",
       "    <tr>\n",
       "      <th>3</th>\n",
       "      <td>77 BPM</td>\n",
       "      <td>Ab Major</td>\n",
       "      <td>Hurricane</td>\n",
       "      <td>33 ContributorsHurricane Lyrics[Verse 1]\\nHadn...</td>\n",
       "      <td>NaN</td>\n",
       "    </tr>\n",
       "    <tr>\n",
       "      <th>4</th>\n",
       "      <td>114 BPM</td>\n",
       "      <td>A Major</td>\n",
       "      <td>Fast Car</td>\n",
       "      <td>11 ContributorsTranslationsPortuguêsFast Car L...</td>\n",
       "      <td>\"Fast Car\" delves into the story of a couple a...</td>\n",
       "    </tr>\n",
       "  </tbody>\n",
       "</table>\n",
       "</div>"
      ],
      "text/plain": [
       "     tempo       key         Song Title  \\\n",
       "0  167 BPM  Db Major      5 Leaf Clover   \n",
       "1  152 BPM  Eb Major  Ain’t Far From It   \n",
       "2   96 BPM   E Major    Beautiful Crazy   \n",
       "3   77 BPM  Ab Major          Hurricane   \n",
       "4  114 BPM   A Major           Fast Car   \n",
       "\n",
       "                                              Lyrics  \\\n",
       "0  [Verse 1]\\nWell, I go to work every Monday\\nGe...   \n",
       "1  [Verse 1]\\nGive me a stone cold George Jones, ...   \n",
       "2  Her day starts with a coffee\\nAnd ends with a ...   \n",
       "3  33 ContributorsHurricane Lyrics[Verse 1]\\nHadn...   \n",
       "4  11 ContributorsTranslationsPortuguêsFast Car L...   \n",
       "\n",
       "                                         description  \n",
       "0  a heartfelt country song that celebrates the s...  \n",
       "1  \"Ain't Far From It\" is a country anthem captur...  \n",
       "2  celebrates the quirks and unpredictable nature...  \n",
       "3                                                NaN  \n",
       "4  \"Fast Car\" delves into the story of a couple a...  "
      ]
     },
     "execution_count": 88,
     "metadata": {},
     "output_type": "execute_result"
    }
   ],
   "source": [
    "lyrics_df.head()"
   ]
  },
  {
   "cell_type": "code",
   "execution_count": 36,
   "metadata": {},
   "outputs": [],
   "source": [
    "lyrics_df.loc[2, \"description\"] = '\"All Over Again\" explores the cyclical nature of a turbulent relationship. The song captures the magnetic pull between the couple, despite knowing that their love has a pattern of turning sour. It delves into the emotional rollercoaster of falling in love, falling out, and then inevitably falling back in again.'"
   ]
  },
  {
   "cell_type": "code",
   "execution_count": 51,
   "metadata": {},
   "outputs": [],
   "source": [
    "# Drop the Unnamed: 0 column\n",
    "lyrics_df.drop(columns=['Unnamed: 0'], inplace=True)"
   ]
  },
  {
   "cell_type": "code",
   "execution_count": 60,
   "metadata": {},
   "outputs": [],
   "source": [
    "lyrics_df.loc[4, 'description'] = '\"Fast Car\" delves into the story of a couple aiming to escape their challenging circumstances. The song paints a picture of dreams, struggles, and the desire for a better life. While initially filled with hope, the narrative gradually exposes the harsh realities that make progress difficult, ultimately leading to a somber conclusion about their future.'"
   ]
  },
  {
   "cell_type": "code",
   "execution_count": 7,
   "metadata": {},
   "outputs": [
    {
     "name": "stderr",
     "output_type": "stream",
     "text": [
      "INFO:langchain.retrievers.multi_query:Generated queries: ['1. Can you recommend a song from your collection that explores the theme of love?', \"2. I'm interested in finding a song that delves into the topic of love. Any suggestions?\", '3. Could you point me to a song in your repertoire that focuses on the subject of love?']\n"
     ]
    },
    {
     "data": {
      "text/plain": [
       "7"
      ]
     },
     "execution_count": 7,
     "metadata": {},
     "output_type": "execute_result"
    }
   ],
   "source": [
    "import logging\n",
    "\n",
    "from langchain.chat_models import ChatOpenAI\n",
    "from langchain.retrievers.multi_query import MultiQueryRetriever\n",
    "\n",
    "logging.basicConfig()\n",
    "logging.getLogger('langchain.retrievers.multi_query').setLevel(logging.INFO)\n",
    "\n",
    "question = \"Which one of your songs is about love?\"\n",
    "\n",
    "retriever_from_llm = MultiQueryRetriever.from_llm(retriever=vectorstore.as_retriever(),\n",
    "                                                  llm=ChatOpenAI(temperature=0))\n",
    "unique_docs = retriever_from_llm.get_relevant_documents(query=question)\n",
    "len(unique_docs)\n"
   ]
  },
  {
   "cell_type": "code",
   "execution_count": 10,
   "metadata": {},
   "outputs": [
    {
     "name": "stdout",
     "output_type": "stream",
     "text": [
      "Song Title: Ever Mine\n",
      "Lyrics: [Verse 1]\n",
      "My dearest darlin'\n",
      "I miss you more than words can tell\n",
      "I hope the gardens growin tall\n",
      "You're in good spirits and good health\n",
      "We've traveled far now with a long way to go still\n",
      "I know not yet when I'll return or if I ever will\n",
      "\n",
      "[Verse 2]\n",
      "Each day grows colder\n",
      "Filled with powder, smoke, and steel\n",
      "I worry before it's over, I've forgotten how to feel\n",
      "I keep your picture in the pocket of my coat\n",
      "I sometimes find when I'm alone it's my last bit of hope\n",
      "\n",
      "[Chorus]\n",
      "Amidst the grips of these troubled times\n",
      "Way back to you I always find\n",
      "You're the wind that whispеrs through the pines\n",
      "Bloom in the rows, green on thеm vines\n",
      "Until we meet again my love sincerely signed\n",
      "I'm ever yours, you're ever mine\n",
      "\n",
      "[Verse 3]\n",
      "Some of these boys aren't much older than our own\n",
      "They fight like men and then get cut down before they're grown\n",
      "This is my prayer that our daughter and our sons wrap their arms around each other and never around a gun\n",
      "See Luke Combs LiveGet tickets as low as $78You might also like[Chorus]\n",
      "Amidst the grips of these troubled times\n",
      "Way back to you I always find\n",
      "You're the wind that whispers through the pines\n",
      "Bloom in the rows green on them vines\n",
      "Until we meet again my love sincerely signed\n",
      "I'm ever yours, you're ever mine\n",
      "\n",
      "[Chorus]\n",
      "If you should hear it's come my time\n",
      "Way back to you I always find\n",
      "I'll be the wind that whisper through the pines\n",
      "Pitch in the black, star in the shine\n",
      "Meet again on the other side\n",
      "I'm ever yours, you're ever mineEmbed\n"
     ]
    }
   ],
   "source": [
    "print(unique_docs[0].page_content)"
   ]
  },
  {
   "cell_type": "code",
   "execution_count": 19,
   "metadata": {},
   "outputs": [],
   "source": [
    "from langchain.prompts import PromptTemplate\n",
    "\n"
   ]
  },
  {
   "cell_type": "code",
   "execution_count": 8,
   "metadata": {},
   "outputs": [
    {
     "ename": "ValidationError",
     "evalue": "1 validation error for PromptTemplate\n__root__\n  Invalid prompt schema; check for mismatched or missing input parameters. 'context' (type=value_error)",
     "output_type": "error",
     "traceback": [
      "\u001b[1;31m---------------------------------------------------------------------------\u001b[0m",
      "\u001b[1;31mValidationError\u001b[0m                           Traceback (most recent call last)",
      "Cell \u001b[1;32mIn[8], line 2\u001b[0m\n\u001b[0;32m      1\u001b[0m \u001b[39mfrom\u001b[39;00m \u001b[39mlangchain\u001b[39;00m\u001b[39m.\u001b[39;00m\u001b[39mprompts\u001b[39;00m \u001b[39mimport\u001b[39;00m PromptTemplate\n\u001b[1;32m----> 2\u001b[0m prompt \u001b[39m=\u001b[39m PromptTemplate(\n\u001b[0;32m      3\u001b[0m     template \u001b[39m=\u001b[39;49m \u001b[39m\"\"\"\u001b[39;49m\u001b[39mYou are Luke Combs, the famous country music singer, \u001b[39;49m\n\u001b[0;32m      4\u001b[0m \u001b[39m    helping a fan as their \u001b[39;49m\u001b[39m'\u001b[39;49m\u001b[39mco-writer\u001b[39;49m\u001b[39m'\u001b[39;49m\u001b[39m. Use the following pieces of context\u001b[39;49m\n\u001b[0;32m      5\u001b[0m \u001b[39m    to answer the question at the end.  If possible, refer to the lyrics or song\u001b[39;49m\n\u001b[0;32m      6\u001b[0m \u001b[39m    in the context when you answer. If you cannot find relevant information in the \u001b[39;49m\n\u001b[0;32m      7\u001b[0m \u001b[39m    context, simply answer as you normally would assuming the identity of Luke Combs.\u001b[39;49m\n\u001b[0;32m      8\u001b[0m \u001b[39m    Make sure to engage with the fan in an encouraging and friendly manner.  Your \u001b[39;49m\n\u001b[0;32m      9\u001b[0m \u001b[39m    chat history so far is \u001b[39;49m\u001b[39m{chat_history}\u001b[39;49;00m\u001b[39m.\u001b[39;49m\n\u001b[0;32m     10\u001b[0m \u001b[39m    \u001b[39;49m\u001b[39m{context}\u001b[39;49;00m\n\u001b[0;32m     11\u001b[0m \u001b[39m    Question: \u001b[39;49m\u001b[39m{question}\u001b[39;49;00m\n\u001b[0;32m     12\u001b[0m \u001b[39m    Helpful Answer:\u001b[39;49m\u001b[39m\"\"\"\u001b[39;49m,\n\u001b[0;32m     13\u001b[0m     input_variables \u001b[39m=\u001b[39;49m [\u001b[39m\"\u001b[39;49m\u001b[39mchat_history\u001b[39;49m\u001b[39m\"\u001b[39;49m]\n\u001b[0;32m     14\u001b[0m )\n\u001b[0;32m     15\u001b[0m QA_CHAIN_PROMPT \u001b[39m=\u001b[39m prompt\u001b[39m.\u001b[39mformat_prompt(\n\u001b[0;32m     16\u001b[0m chat_history \u001b[39m=\u001b[39m [],\n\u001b[0;32m     17\u001b[0m )\n",
      "File \u001b[1;32mc:\\Users\\sjufa\\anaconda3\\envs\\py310\\lib\\site-packages\\langchain\\load\\serializable.py:74\u001b[0m, in \u001b[0;36mSerializable.__init__\u001b[1;34m(self, **kwargs)\u001b[0m\n\u001b[0;32m     73\u001b[0m \u001b[39mdef\u001b[39;00m \u001b[39m__init__\u001b[39m(\u001b[39mself\u001b[39m, \u001b[39m*\u001b[39m\u001b[39m*\u001b[39mkwargs: Any) \u001b[39m-\u001b[39m\u001b[39m>\u001b[39m \u001b[39mNone\u001b[39;00m:\n\u001b[1;32m---> 74\u001b[0m     \u001b[39msuper\u001b[39m()\u001b[39m.\u001b[39m\u001b[39m__init__\u001b[39m(\u001b[39m*\u001b[39m\u001b[39m*\u001b[39mkwargs)\n\u001b[0;32m     75\u001b[0m     \u001b[39mself\u001b[39m\u001b[39m.\u001b[39m_lc_kwargs \u001b[39m=\u001b[39m kwargs\n",
      "File \u001b[1;32mc:\\Users\\sjufa\\anaconda3\\envs\\py310\\lib\\site-packages\\pydantic\\main.py:341\u001b[0m, in \u001b[0;36mpydantic.main.BaseModel.__init__\u001b[1;34m()\u001b[0m\n",
      "\u001b[1;31mValidationError\u001b[0m: 1 validation error for PromptTemplate\n__root__\n  Invalid prompt schema; check for mismatched or missing input parameters. 'context' (type=value_error)"
     ]
    }
   ],
   "source": [
    "from langchain.prompts import PromptTemplate\n",
    "prompt = PromptTemplate(\n",
    "    template = \"\"\"You are Luke Combs, the famous country music singer, \n",
    "    helping a fan as their 'co-writer'. Use the following pieces of context\n",
    "    to answer the question at the end.  If possible, refer to the lyrics or song\n",
    "    in the context when you answer. If you cannot find relevant information in the \n",
    "    context, simply answer as you normally would assuming the identity of Luke Combs.\n",
    "    Make sure to engage with the fan in an encouraging and friendly manner.  Your \n",
    "    chat history so far is {chat_history}.\n",
    "    {context}\n",
    "    Question: {question}\n",
    "    Helpful Answer:\"\"\",\n",
    "    input_variables = [\"chat_history\"]\n",
    ")\n",
    "QA_CHAIN_PROMPT = prompt.format_prompt(\n",
    "chat_history = [],\n",
    ")\n",
    "\n"
   ]
  },
  {
   "cell_type": "code",
   "execution_count": 20,
   "metadata": {},
   "outputs": [
    {
     "name": "stdout",
     "output_type": "stream",
     "text": [
      "\n",
      "\n",
      "\u001b[1m> Entering new RetrievalQA chain...\u001b[0m\n",
      "\n",
      "\u001b[1m> Finished chain.\u001b[0m\n"
     ]
    },
    {
     "data": {
      "text/plain": [
       "{'query': 'I am writing a song about my girlfriend who I am getting readyto propose to.  Do you have any good ideas for a song title and lyrics?',\n",
       " 'result': 'Hey there! First of all, congratulations on taking that big step towards proposing to your girlfriend! That\\'s really exciting. \\n\\nFor a song title, how about \"Forever Starts Today\"? It captures the idea of your relationship moving forward into a lifetime commitment. \\n\\nAs for lyrics, you can focus on the journey you and your girlfriend have been on, how she has become the center of your world, and how you can\\'t wait to spend forever with her. Here\\'s a little snippet to get you started:\\n\\n[Verse 1]\\nFrom the moment I met you\\nMy heart knew you were the one\\nEvery day we\\'ve shared together\\nHas shown me how far we\\'ve come\\n\\n[Pre-Chorus]\\nIn your eyes, I see my future\\nWith you, I\\'m never alone\\nAnd I can\\'t wait to make you my wife\\nAs our love continues to grow\\n\\n[Chorus]\\nForever starts today, my love\\nWith you standing by my side\\nThrough the ups and downs that come our way\\nI promise to always be your guide\\nTogether we\\'ll walk this path of love\\nHand in hand, we\\'ll face whatever comes\\nForever starts today, my love\\nWith you, my forever has just begun\\n\\nOf course, feel free to make any changes or add your own personal touch to make it even more special for your girlfriend. Good luck with your proposal and your songwriting!'}"
      ]
     },
     "execution_count": 20,
     "metadata": {},
     "output_type": "execute_result"
    }
   ],
   "source": [
    "from langchain.chains import RetrievalQA\n",
    "\n",
    "question = \"I am writing a song about my girlfriend who I am getting ready\\\n",
    "to propose to.  Do you have any good ideas for a song title and lyrics?\"\n",
    "\n",
    "llm = ChatOpenAI(model_name=\"gpt-3.5-turbo-16k\", temperature=0.9)\n",
    "qa_chain = RetrievalQA.from_chain_type(llm,retriever=vectorstore.as_retriever(),\n",
    "chain_type_kwargs={\"prompt\": QA_CHAIN_PROMPT}, verbose=True)\n",
    "qa_chain({\"query\": question})"
   ]
  },
  {
   "cell_type": "code",
   "execution_count": null,
   "metadata": {},
   "outputs": [],
   "source": []
  }
 ],
 "metadata": {
  "kernelspec": {
   "display_name": "py310",
   "language": "python",
   "name": "python3"
  },
  "language_info": {
   "codemirror_mode": {
    "name": "ipython",
    "version": 3
   },
   "file_extension": ".py",
   "mimetype": "text/x-python",
   "name": "python",
   "nbconvert_exporter": "python",
   "pygments_lexer": "ipython3",
   "version": "3.10.12"
  },
  "orig_nbformat": 4
 },
 "nbformat": 4,
 "nbformat_minor": 2
}
